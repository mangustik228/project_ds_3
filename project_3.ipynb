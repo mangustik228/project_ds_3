{
 "cells": [
  {
   "cell_type": "markdown",
   "metadata": {},
   "source": [
    "## Исследование объявлений о продаже квартир <a id=\"title\"></a>"
   ]
  },
  {
   "cell_type": "markdown",
   "metadata": {},
   "source": [
    "В вашем распоряжении данные сервиса Яндекс.Недвижимость — архив объявлений о продаже квартир в Санкт-Петербурге и соседних населённых пунктах за несколько лет. Нужно научиться определять рыночную стоимость объектов недвижимости. Ваша задача — установить параметры. Это позволит построить автоматизированную систему: она отследит аномалии и мошенническую деятельность. \n",
    "\n",
    "По каждой квартире на продажу доступны два вида данных. Первые вписаны пользователем, вторые получены автоматически на основе картографических данных. Например, расстояние до центра, аэропорта, ближайшего парка и водоёма. "
   ]
  },
  {
   "cell_type": "markdown",
   "metadata": {},
   "source": [
    "## Изучение данных из файла <a id=\"file\"></a>"
   ]
  },
  {
   "cell_type": "code",
   "execution_count": 2,
   "metadata": {},
   "outputs": [],
   "source": [
    "import pandas as pd\n",
    "import matplotlib.pyplot as plt\n",
    "import seaborn as sns\n",
    "from random import random\n",
    "from random import randint"
   ]
  },
  {
   "cell_type": "code",
   "execution_count": 3,
   "metadata": {},
   "outputs": [
    {
     "name": "stdout",
     "output_type": "stream",
     "text": [
      "[Errno 2] No such file or directory: '/datasets/real_estate_data.csv'\n",
      "<class 'pandas.core.frame.DataFrame'>\n",
      "RangeIndex: 23699 entries, 0 to 23698\n",
      "Data columns (total 22 columns):\n",
      " #   Column                Non-Null Count  Dtype  \n",
      "---  ------                --------------  -----  \n",
      " 0   total_images          23699 non-null  int64  \n",
      " 1   last_price            23699 non-null  float64\n",
      " 2   total_area            23699 non-null  float64\n",
      " 3   first_day_exposition  23699 non-null  object \n",
      " 4   rooms                 23699 non-null  int64  \n",
      " 5   ceiling_height        14504 non-null  float64\n",
      " 6   floors_total          23613 non-null  float64\n",
      " 7   living_area           21796 non-null  float64\n",
      " 8   floor                 23699 non-null  int64  \n",
      " 9   is_apartment          2775 non-null   object \n",
      " 10  studio                23699 non-null  bool   \n",
      " 11  open_plan             23699 non-null  bool   \n",
      " 12  kitchen_area          21421 non-null  float64\n",
      " 13  balcony               12180 non-null  float64\n",
      " 14  locality_name         23650 non-null  object \n",
      " 15  airports_nearest      18157 non-null  float64\n",
      " 16  cityCenters_nearest   18180 non-null  float64\n",
      " 17  parks_around3000      18181 non-null  float64\n",
      " 18  parks_nearest         8079 non-null   float64\n",
      " 19  ponds_around3000      18181 non-null  float64\n",
      " 20  ponds_nearest         9110 non-null   float64\n",
      " 21  days_exposition       20518 non-null  float64\n",
      "dtypes: bool(2), float64(14), int64(3), object(3)\n",
      "memory usage: 3.7+ MB\n"
     ]
    }
   ],
   "source": [
    "try:\n",
    "    df = pd.read_csv('/datasets/real_estate_data.csv', sep='\\t')\n",
    "except FileNotFoundError as e:\n",
    "    print(e)\n",
    "    df = pd.read_csv('real_estate_data.csv', sep='\\t')\n",
    "df.info()"
   ]
  },
  {
   "cell_type": "code",
   "execution_count": 4,
   "metadata": {},
   "outputs": [
    {
     "data": {
      "text/html": [
       "<div>\n",
       "<style scoped>\n",
       "    .dataframe tbody tr th:only-of-type {\n",
       "        vertical-align: middle;\n",
       "    }\n",
       "\n",
       "    .dataframe tbody tr th {\n",
       "        vertical-align: top;\n",
       "    }\n",
       "\n",
       "    .dataframe thead th {\n",
       "        text-align: right;\n",
       "    }\n",
       "</style>\n",
       "<table border=\"1\" class=\"dataframe\">\n",
       "  <thead>\n",
       "    <tr style=\"text-align: right;\">\n",
       "      <th></th>\n",
       "      <th>total_images</th>\n",
       "      <th>last_price</th>\n",
       "      <th>total_area</th>\n",
       "      <th>rooms</th>\n",
       "      <th>ceiling_height</th>\n",
       "      <th>floors_total</th>\n",
       "      <th>living_area</th>\n",
       "      <th>floor</th>\n",
       "      <th>kitchen_area</th>\n",
       "      <th>balcony</th>\n",
       "      <th>airports_nearest</th>\n",
       "      <th>cityCenters_nearest</th>\n",
       "      <th>parks_around3000</th>\n",
       "      <th>parks_nearest</th>\n",
       "      <th>ponds_around3000</th>\n",
       "      <th>ponds_nearest</th>\n",
       "      <th>days_exposition</th>\n",
       "    </tr>\n",
       "  </thead>\n",
       "  <tbody>\n",
       "    <tr>\n",
       "      <th>count</th>\n",
       "      <td>23699.000000</td>\n",
       "      <td>2.369900e+04</td>\n",
       "      <td>23699.000000</td>\n",
       "      <td>23699.000000</td>\n",
       "      <td>14504.000000</td>\n",
       "      <td>23613.000000</td>\n",
       "      <td>21796.000000</td>\n",
       "      <td>23699.000000</td>\n",
       "      <td>21421.000000</td>\n",
       "      <td>12180.000000</td>\n",
       "      <td>18157.000000</td>\n",
       "      <td>18180.000000</td>\n",
       "      <td>18181.000000</td>\n",
       "      <td>8079.000000</td>\n",
       "      <td>18181.000000</td>\n",
       "      <td>9110.000000</td>\n",
       "      <td>20518.000000</td>\n",
       "    </tr>\n",
       "    <tr>\n",
       "      <th>mean</th>\n",
       "      <td>9.858475</td>\n",
       "      <td>6.541549e+06</td>\n",
       "      <td>60.348651</td>\n",
       "      <td>2.070636</td>\n",
       "      <td>2.771499</td>\n",
       "      <td>10.673824</td>\n",
       "      <td>34.457852</td>\n",
       "      <td>5.892358</td>\n",
       "      <td>10.569807</td>\n",
       "      <td>1.150082</td>\n",
       "      <td>28793.672193</td>\n",
       "      <td>14191.277833</td>\n",
       "      <td>0.611408</td>\n",
       "      <td>490.804555</td>\n",
       "      <td>0.770255</td>\n",
       "      <td>517.980900</td>\n",
       "      <td>180.888634</td>\n",
       "    </tr>\n",
       "    <tr>\n",
       "      <th>std</th>\n",
       "      <td>5.682529</td>\n",
       "      <td>1.088701e+07</td>\n",
       "      <td>35.654083</td>\n",
       "      <td>1.078405</td>\n",
       "      <td>1.261056</td>\n",
       "      <td>6.597173</td>\n",
       "      <td>22.030445</td>\n",
       "      <td>4.885249</td>\n",
       "      <td>5.905438</td>\n",
       "      <td>1.071300</td>\n",
       "      <td>12630.880622</td>\n",
       "      <td>8608.386210</td>\n",
       "      <td>0.802074</td>\n",
       "      <td>342.317995</td>\n",
       "      <td>0.938346</td>\n",
       "      <td>277.720643</td>\n",
       "      <td>219.727988</td>\n",
       "    </tr>\n",
       "    <tr>\n",
       "      <th>min</th>\n",
       "      <td>0.000000</td>\n",
       "      <td>1.219000e+04</td>\n",
       "      <td>12.000000</td>\n",
       "      <td>0.000000</td>\n",
       "      <td>1.000000</td>\n",
       "      <td>1.000000</td>\n",
       "      <td>2.000000</td>\n",
       "      <td>1.000000</td>\n",
       "      <td>1.300000</td>\n",
       "      <td>0.000000</td>\n",
       "      <td>0.000000</td>\n",
       "      <td>181.000000</td>\n",
       "      <td>0.000000</td>\n",
       "      <td>1.000000</td>\n",
       "      <td>0.000000</td>\n",
       "      <td>13.000000</td>\n",
       "      <td>1.000000</td>\n",
       "    </tr>\n",
       "    <tr>\n",
       "      <th>25%</th>\n",
       "      <td>6.000000</td>\n",
       "      <td>3.400000e+06</td>\n",
       "      <td>40.000000</td>\n",
       "      <td>1.000000</td>\n",
       "      <td>2.520000</td>\n",
       "      <td>5.000000</td>\n",
       "      <td>18.600000</td>\n",
       "      <td>2.000000</td>\n",
       "      <td>7.000000</td>\n",
       "      <td>0.000000</td>\n",
       "      <td>18585.000000</td>\n",
       "      <td>9238.000000</td>\n",
       "      <td>0.000000</td>\n",
       "      <td>288.000000</td>\n",
       "      <td>0.000000</td>\n",
       "      <td>294.000000</td>\n",
       "      <td>45.000000</td>\n",
       "    </tr>\n",
       "    <tr>\n",
       "      <th>50%</th>\n",
       "      <td>9.000000</td>\n",
       "      <td>4.650000e+06</td>\n",
       "      <td>52.000000</td>\n",
       "      <td>2.000000</td>\n",
       "      <td>2.650000</td>\n",
       "      <td>9.000000</td>\n",
       "      <td>30.000000</td>\n",
       "      <td>4.000000</td>\n",
       "      <td>9.100000</td>\n",
       "      <td>1.000000</td>\n",
       "      <td>26726.000000</td>\n",
       "      <td>13098.500000</td>\n",
       "      <td>0.000000</td>\n",
       "      <td>455.000000</td>\n",
       "      <td>1.000000</td>\n",
       "      <td>502.000000</td>\n",
       "      <td>95.000000</td>\n",
       "    </tr>\n",
       "    <tr>\n",
       "      <th>75%</th>\n",
       "      <td>14.000000</td>\n",
       "      <td>6.800000e+06</td>\n",
       "      <td>69.900000</td>\n",
       "      <td>3.000000</td>\n",
       "      <td>2.800000</td>\n",
       "      <td>16.000000</td>\n",
       "      <td>42.300000</td>\n",
       "      <td>8.000000</td>\n",
       "      <td>12.000000</td>\n",
       "      <td>2.000000</td>\n",
       "      <td>37273.000000</td>\n",
       "      <td>16293.000000</td>\n",
       "      <td>1.000000</td>\n",
       "      <td>612.000000</td>\n",
       "      <td>1.000000</td>\n",
       "      <td>729.000000</td>\n",
       "      <td>232.000000</td>\n",
       "    </tr>\n",
       "    <tr>\n",
       "      <th>max</th>\n",
       "      <td>50.000000</td>\n",
       "      <td>7.630000e+08</td>\n",
       "      <td>900.000000</td>\n",
       "      <td>19.000000</td>\n",
       "      <td>100.000000</td>\n",
       "      <td>60.000000</td>\n",
       "      <td>409.700000</td>\n",
       "      <td>33.000000</td>\n",
       "      <td>112.000000</td>\n",
       "      <td>5.000000</td>\n",
       "      <td>84869.000000</td>\n",
       "      <td>65968.000000</td>\n",
       "      <td>3.000000</td>\n",
       "      <td>3190.000000</td>\n",
       "      <td>3.000000</td>\n",
       "      <td>1344.000000</td>\n",
       "      <td>1580.000000</td>\n",
       "    </tr>\n",
       "  </tbody>\n",
       "</table>\n",
       "</div>"
      ],
      "text/plain": [
       "       total_images    last_price    total_area         rooms  ceiling_height  \\\n",
       "count  23699.000000  2.369900e+04  23699.000000  23699.000000    14504.000000   \n",
       "mean       9.858475  6.541549e+06     60.348651      2.070636        2.771499   \n",
       "std        5.682529  1.088701e+07     35.654083      1.078405        1.261056   \n",
       "min        0.000000  1.219000e+04     12.000000      0.000000        1.000000   \n",
       "25%        6.000000  3.400000e+06     40.000000      1.000000        2.520000   \n",
       "50%        9.000000  4.650000e+06     52.000000      2.000000        2.650000   \n",
       "75%       14.000000  6.800000e+06     69.900000      3.000000        2.800000   \n",
       "max       50.000000  7.630000e+08    900.000000     19.000000      100.000000   \n",
       "\n",
       "       floors_total   living_area         floor  kitchen_area       balcony  \\\n",
       "count  23613.000000  21796.000000  23699.000000  21421.000000  12180.000000   \n",
       "mean      10.673824     34.457852      5.892358     10.569807      1.150082   \n",
       "std        6.597173     22.030445      4.885249      5.905438      1.071300   \n",
       "min        1.000000      2.000000      1.000000      1.300000      0.000000   \n",
       "25%        5.000000     18.600000      2.000000      7.000000      0.000000   \n",
       "50%        9.000000     30.000000      4.000000      9.100000      1.000000   \n",
       "75%       16.000000     42.300000      8.000000     12.000000      2.000000   \n",
       "max       60.000000    409.700000     33.000000    112.000000      5.000000   \n",
       "\n",
       "       airports_nearest  cityCenters_nearest  parks_around3000  parks_nearest  \\\n",
       "count      18157.000000         18180.000000      18181.000000    8079.000000   \n",
       "mean       28793.672193         14191.277833          0.611408     490.804555   \n",
       "std        12630.880622          8608.386210          0.802074     342.317995   \n",
       "min            0.000000           181.000000          0.000000       1.000000   \n",
       "25%        18585.000000          9238.000000          0.000000     288.000000   \n",
       "50%        26726.000000         13098.500000          0.000000     455.000000   \n",
       "75%        37273.000000         16293.000000          1.000000     612.000000   \n",
       "max        84869.000000         65968.000000          3.000000    3190.000000   \n",
       "\n",
       "       ponds_around3000  ponds_nearest  days_exposition  \n",
       "count      18181.000000    9110.000000     20518.000000  \n",
       "mean           0.770255     517.980900       180.888634  \n",
       "std            0.938346     277.720643       219.727988  \n",
       "min            0.000000      13.000000         1.000000  \n",
       "25%            0.000000     294.000000        45.000000  \n",
       "50%            1.000000     502.000000        95.000000  \n",
       "75%            1.000000     729.000000       232.000000  \n",
       "max            3.000000    1344.000000      1580.000000  "
      ]
     },
     "execution_count": 4,
     "metadata": {},
     "output_type": "execute_result"
    }
   ],
   "source": [
    "df.describe()"
   ]
  },
  {
   "cell_type": "code",
   "execution_count": 5,
   "metadata": {},
   "outputs": [
    {
     "data": {
      "text/html": [
       "<div>\n",
       "<style scoped>\n",
       "    .dataframe tbody tr th:only-of-type {\n",
       "        vertical-align: middle;\n",
       "    }\n",
       "\n",
       "    .dataframe tbody tr th {\n",
       "        vertical-align: top;\n",
       "    }\n",
       "\n",
       "    .dataframe thead th {\n",
       "        text-align: right;\n",
       "    }\n",
       "</style>\n",
       "<table border=\"1\" class=\"dataframe\">\n",
       "  <thead>\n",
       "    <tr style=\"text-align: right;\">\n",
       "      <th></th>\n",
       "      <th>first_day_exposition</th>\n",
       "      <th>is_apartment</th>\n",
       "      <th>locality_name</th>\n",
       "    </tr>\n",
       "  </thead>\n",
       "  <tbody>\n",
       "    <tr>\n",
       "      <th>count</th>\n",
       "      <td>23699</td>\n",
       "      <td>2775</td>\n",
       "      <td>23650</td>\n",
       "    </tr>\n",
       "    <tr>\n",
       "      <th>unique</th>\n",
       "      <td>1491</td>\n",
       "      <td>2</td>\n",
       "      <td>364</td>\n",
       "    </tr>\n",
       "    <tr>\n",
       "      <th>top</th>\n",
       "      <td>2018-02-01T00:00:00</td>\n",
       "      <td>False</td>\n",
       "      <td>Санкт-Петербург</td>\n",
       "    </tr>\n",
       "    <tr>\n",
       "      <th>freq</th>\n",
       "      <td>368</td>\n",
       "      <td>2725</td>\n",
       "      <td>15721</td>\n",
       "    </tr>\n",
       "  </tbody>\n",
       "</table>\n",
       "</div>"
      ],
      "text/plain": [
       "       first_day_exposition is_apartment    locality_name\n",
       "count                 23699         2775            23650\n",
       "unique                 1491            2              364\n",
       "top     2018-02-01T00:00:00        False  Санкт-Петербург\n",
       "freq                    368         2725            15721"
      ]
     },
     "execution_count": 5,
     "metadata": {},
     "output_type": "execute_result"
    }
   ],
   "source": [
    "df.describe(include='object')"
   ]
  },
  {
   "cell_type": "code",
   "execution_count": 6,
   "metadata": {},
   "outputs": [
    {
     "data": {
      "text/html": [
       "<div>\n",
       "<style scoped>\n",
       "    .dataframe tbody tr th:only-of-type {\n",
       "        vertical-align: middle;\n",
       "    }\n",
       "\n",
       "    .dataframe tbody tr th {\n",
       "        vertical-align: top;\n",
       "    }\n",
       "\n",
       "    .dataframe thead th {\n",
       "        text-align: right;\n",
       "    }\n",
       "</style>\n",
       "<table border=\"1\" class=\"dataframe\">\n",
       "  <thead>\n",
       "    <tr style=\"text-align: right;\">\n",
       "      <th></th>\n",
       "      <th>total_images</th>\n",
       "      <th>last_price</th>\n",
       "      <th>total_area</th>\n",
       "      <th>first_day_exposition</th>\n",
       "      <th>rooms</th>\n",
       "      <th>ceiling_height</th>\n",
       "      <th>floors_total</th>\n",
       "      <th>living_area</th>\n",
       "      <th>floor</th>\n",
       "      <th>is_apartment</th>\n",
       "      <th>...</th>\n",
       "      <th>kitchen_area</th>\n",
       "      <th>balcony</th>\n",
       "      <th>locality_name</th>\n",
       "      <th>airports_nearest</th>\n",
       "      <th>cityCenters_nearest</th>\n",
       "      <th>parks_around3000</th>\n",
       "      <th>parks_nearest</th>\n",
       "      <th>ponds_around3000</th>\n",
       "      <th>ponds_nearest</th>\n",
       "      <th>days_exposition</th>\n",
       "    </tr>\n",
       "  </thead>\n",
       "  <tbody>\n",
       "  </tbody>\n",
       "</table>\n",
       "<p>0 rows × 22 columns</p>\n",
       "</div>"
      ],
      "text/plain": [
       "Empty DataFrame\n",
       "Columns: [total_images, last_price, total_area, first_day_exposition, rooms, ceiling_height, floors_total, living_area, floor, is_apartment, studio, open_plan, kitchen_area, balcony, locality_name, airports_nearest, cityCenters_nearest, parks_around3000, parks_nearest, ponds_around3000, ponds_nearest, days_exposition]\n",
       "Index: []\n",
       "\n",
       "[0 rows x 22 columns]"
      ]
     },
     "execution_count": 6,
     "metadata": {},
     "output_type": "execute_result"
    }
   ],
   "source": [
    "# Проверка различных значений.\n",
    "df.columns\n",
    "df['studio'].value_counts()\n",
    "df['rooms'].value_counts()\n",
    "df['is_apartment'].value_counts()\n",
    "len(df[df['airports_nearest'] == 0])\n",
    "len(df[df['parks_around3000'] == 0])\n",
    "df['locality_name'].value_counts()\n",
    "df[df.duplicated()]"
   ]
  },
  {
   "cell_type": "markdown",
   "metadata": {},
   "source": [
    "### Вывод"
   ]
  },
  {
   "cell_type": "markdown",
   "metadata": {},
   "source": [
    "1. `total_images` - число фото. в исследовании не понадобится. удалеяем\n",
    "1. `last_price` - цена на момент снятия с публикации. нулей нет, пропусков нет. параметр ключевой\n",
    "1. `total_area` - нулей нет, пропусков нет. параметр ключевой\n",
    "1. `first_day_exposition` - дата публикации. надо привести в формат даты\n",
    "1. `rooms` - есть нули, но они стоят там где либо студия, либо открытая планировка. поэтому оставляем нули. т.к. есть свободная планировка, то судя по всему есть квартиры без отделки... очень жаль что это никак не отображено в таблице, т.к. очень важный параметр для стоимости\n",
    "1. `ceiling_height` высота потолков. многовато пропусков(см. вывод 1 в этом markdown)\n",
    "1. `floors_total` попробуем реализовать замену пропусков по поиску аналогичных домов(расстояние аэропорт и центр питера), т.к. параметр в дальнейшим понадобится. Спойлер: идея косячная. сделал по другому\n",
    "1. `living_area` жилая площадь. поставим (среднюю площадь*общую площадь)\n",
    "1. `floor` - этаж \n",
    "1. `is_apartment` всег 50 значений да, есть подозрение, что в России слово аппартаменты не особ в ходу. столбец интереса не представляет. удаляем его.\n",
    "1. `studio` - значений не много и есть кой какой разнобой в кол-ве комнат, где то ноль где то 1 указана, думаю правильнее заменить значения rooms = 0, а саму колонку удалить.\n",
    "1. `open_plan` - такая же история как со студией, т.к. по сути является студией без отделки...\n",
    "1. `kitchen_area` поставим (среднюю площадь*общую площадь)\n",
    "1. `balcony` (см. вывод 2 в этом markdown)\n",
    "1. `locality_name` логика как с потолками не пройдет. как правило пропущены значения расстояние до города, расстояние до центра. значение довольно много поэтому правильнее маленькие поселки сгруппировать в \"другие\"\n",
    "1. `airports_nearest` - для каких то поселков можно заполнить значения по среднему для данного поселка, но смысла не вижу, все пропуски не удалить, такая же история со всеми данными которые завязаны на расстоянии\n",
    "1. `cityCenters_nearest`\n",
    "1. `parks_around3000`\n",
    "1. `parks_nearest`\n",
    "1. `ponds_nearest`\n",
    "1. `ponds_around3000`\n",
    "1. `days_exposition` - правильнее перевести в значение int... есть пропуски, возможно связано с тем что на момент выгрузки объявление было актуально...\n",
    "\n",
    "---  \n",
    "\n",
    "Вывод 1: была идея заполнить пропуски в высоте потолков/общем кол-ве этажей путем: найти эти дома по совпадающим расстояниям до центра/аэропорта, но пробежав глазами таблицу, пропуски могут быть и там и там... другой логики заполнения пропусков не вижу.\n",
    "\n",
    "Вывод 2: первоначально была мысль, что люди не указывали, потому что балконов нет, но т.к. отсутствует балконы даже в квартирах 200+м то пропуски будем заполнять по такому принципу:\n",
    "- ~~1.Найдем квартиру с минимальной площадью и 1 балконом. все пропуски с площадью меньше заменим нулями~~  \n",
    "Данный пункт убрал т.к. обнаружил, что балконы бывают в квартирах даже 12м2(по циану)  \n",
    "- 2.~~Далее разобьем площади на 10(число из головы) равных промежутков, и вставим кол-во балконов в зависимости от среднего, но т.к. балконов не может быть 0.47 , то будем вставлять рандомом)))~~  \n",
    "В ходе исследования идея переигралась. см. [замена пропущенных значений](#chanching)\n",
    "- а так вообще если бы не надо было менять пропуски то вообще не уверен что это нужно делать.\n",
    "\n",
    "Вывод 3: Столбцы названы корректно, дубликатов нет"
   ]
  },
  {
   "cell_type": "markdown",
   "metadata": {},
   "source": [
    "## Предобработка данных <a id=\"preprocessing\"></a>"
   ]
  },
  {
   "cell_type": "markdown",
   "metadata": {},
   "source": [
    "### Удаление столбцов<a id=\"delete\"></a>"
   ]
  },
  {
   "cell_type": "code",
   "execution_count": 7,
   "metadata": {},
   "outputs": [
    {
     "data": {
      "text/html": [
       "<div>\n",
       "<style scoped>\n",
       "    .dataframe tbody tr th:only-of-type {\n",
       "        vertical-align: middle;\n",
       "    }\n",
       "\n",
       "    .dataframe tbody tr th {\n",
       "        vertical-align: top;\n",
       "    }\n",
       "\n",
       "    .dataframe thead th {\n",
       "        text-align: right;\n",
       "    }\n",
       "</style>\n",
       "<table border=\"1\" class=\"dataframe\">\n",
       "  <thead>\n",
       "    <tr style=\"text-align: right;\">\n",
       "      <th></th>\n",
       "      <th>rooms</th>\n",
       "      <th>studio</th>\n",
       "      <th>open_plan</th>\n",
       "    </tr>\n",
       "  </thead>\n",
       "  <tbody>\n",
       "    <tr>\n",
       "      <th>0</th>\n",
       "      <td>0</td>\n",
       "      <td>True</td>\n",
       "      <td>False</td>\n",
       "    </tr>\n",
       "    <tr>\n",
       "      <th>1</th>\n",
       "      <td>2</td>\n",
       "      <td>False</td>\n",
       "      <td>False</td>\n",
       "    </tr>\n",
       "    <tr>\n",
       "      <th>2</th>\n",
       "      <td>0</td>\n",
       "      <td>False</td>\n",
       "      <td>True</td>\n",
       "    </tr>\n",
       "    <tr>\n",
       "      <th>3</th>\n",
       "      <td>0</td>\n",
       "      <td>True</td>\n",
       "      <td>True</td>\n",
       "    </tr>\n",
       "    <tr>\n",
       "      <th>4</th>\n",
       "      <td>5</td>\n",
       "      <td>False</td>\n",
       "      <td>False</td>\n",
       "    </tr>\n",
       "    <tr>\n",
       "      <th>5</th>\n",
       "      <td>6</td>\n",
       "      <td>False</td>\n",
       "      <td>False</td>\n",
       "    </tr>\n",
       "    <tr>\n",
       "      <th>6</th>\n",
       "      <td>0</td>\n",
       "      <td>False</td>\n",
       "      <td>False</td>\n",
       "    </tr>\n",
       "    <tr>\n",
       "      <th>7</th>\n",
       "      <td>0</td>\n",
       "      <td>False</td>\n",
       "      <td>True</td>\n",
       "    </tr>\n",
       "  </tbody>\n",
       "</table>\n",
       "</div>"
      ],
      "text/plain": [
       "   rooms  studio  open_plan\n",
       "0      0    True      False\n",
       "1      2   False      False\n",
       "2      0   False       True\n",
       "3      0    True       True\n",
       "4      5   False      False\n",
       "5      6   False      False\n",
       "6      0   False      False\n",
       "7      0   False       True"
      ]
     },
     "execution_count": 7,
     "metadata": {},
     "output_type": "execute_result"
    }
   ],
   "source": [
    "# Функция для расстановки корректной расстановки кол-ва комнат\n",
    "def check_studio(row):\n",
    "    if row['studio'] or row['open_plan']:\n",
    "        return 0\n",
    "    else:\n",
    "        return row['rooms']\n",
    "\n",
    "\n",
    "# Код для проверки работоспособности функции:\n",
    "columns_name = ['rooms', 'studio', 'open_plan']\n",
    "data = [[1, True, False],\n",
    "        [2, False, False],\n",
    "        [3, False, True],\n",
    "        [4, True, True],\n",
    "        [5, False, False],\n",
    "        [6, False, False],\n",
    "        [0, False, False],\n",
    "        [0, False, True]]\n",
    "test_df = pd.DataFrame(data=data, columns=columns_name)\n",
    "test_df['rooms'] = test_df.apply(check_studio, axis=1)\n",
    "test_df"
   ]
  },
  {
   "cell_type": "code",
   "execution_count": 8,
   "metadata": {},
   "outputs": [],
   "source": [
    "df['rooms'] = df.apply(check_studio, axis=1)\n",
    "df.drop(columns=['studio', 'open_plan', 'total_images', 'is_apartment'], inplace=True)"
   ]
  },
  {
   "cell_type": "markdown",
   "metadata": {},
   "source": [
    "### Замена пропущенных значений <a id=\"chanching\"></a>"
   ]
  },
  {
   "cell_type": "code",
   "execution_count": 9,
   "metadata": {},
   "outputs": [],
   "source": [
    "# Убираем единственный дурацкий ноль в расстоянии до аэропорта\n",
    "df['airports_nearest'] = df['airports_nearest'].replace(0, None)\n",
    "# Нашли минимальный площадь квартиры с балконом\n",
    "df[df['balcony']==1]['total_area'].min()"
   ]
  },
  {
   "cell_type": "code",
   "execution_count": 11,
   "metadata": {},
   "outputs": [],
   "source": [
    "# Разбили площади на категории\n",
    "df['balcony_category'] = pd.qcut(df['total_area'], q=10)"
   ]
  },
  {
   "cell_type": "code",
   "execution_count": 12,
   "metadata": {},
   "outputs": [
    {
     "data": {
      "text/html": [
       "<div>\n",
       "<style scoped>\n",
       "    .dataframe tbody tr th:only-of-type {\n",
       "        vertical-align: middle;\n",
       "    }\n",
       "\n",
       "    .dataframe tbody tr th {\n",
       "        vertical-align: top;\n",
       "    }\n",
       "\n",
       "    .dataframe thead th {\n",
       "        text-align: right;\n",
       "    }\n",
       "</style>\n",
       "<table border=\"1\" class=\"dataframe\">\n",
       "  <thead>\n",
       "    <tr style=\"text-align: right;\">\n",
       "      <th></th>\n",
       "      <th>balcony</th>\n",
       "      <th>without_zero</th>\n",
       "    </tr>\n",
       "    <tr>\n",
       "      <th>balcony_category</th>\n",
       "      <th></th>\n",
       "      <th></th>\n",
       "    </tr>\n",
       "  </thead>\n",
       "  <tbody>\n",
       "    <tr>\n",
       "      <th>(11.999, 33.0]</th>\n",
       "      <td>0.390282</td>\n",
       "      <td>0.833473</td>\n",
       "    </tr>\n",
       "    <tr>\n",
       "      <th>(33.0, 37.6]</th>\n",
       "      <td>0.614687</td>\n",
       "      <td>1.128120</td>\n",
       "    </tr>\n",
       "    <tr>\n",
       "      <th>(37.6, 42.0]</th>\n",
       "      <td>0.617794</td>\n",
       "      <td>1.145624</td>\n",
       "    </tr>\n",
       "    <tr>\n",
       "      <th>(42.0, 46.0]</th>\n",
       "      <td>0.505239</td>\n",
       "      <td>0.981161</td>\n",
       "    </tr>\n",
       "    <tr>\n",
       "      <th>(46.0, 52.0]</th>\n",
       "      <td>0.566487</td>\n",
       "      <td>1.073191</td>\n",
       "    </tr>\n",
       "    <tr>\n",
       "      <th>(52.0, 58.0]</th>\n",
       "      <td>0.661414</td>\n",
       "      <td>1.235481</td>\n",
       "    </tr>\n",
       "    <tr>\n",
       "      <th>(58.0, 64.8]</th>\n",
       "      <td>0.662298</td>\n",
       "      <td>1.233523</td>\n",
       "    </tr>\n",
       "    <tr>\n",
       "      <th>(64.8, 75.0]</th>\n",
       "      <td>0.681235</td>\n",
       "      <td>1.313998</td>\n",
       "    </tr>\n",
       "    <tr>\n",
       "      <th>(75.0, 93.52]</th>\n",
       "      <td>0.668301</td>\n",
       "      <td>1.341987</td>\n",
       "    </tr>\n",
       "    <tr>\n",
       "      <th>(93.52, 900.0]</th>\n",
       "      <td>0.568354</td>\n",
       "      <td>1.231261</td>\n",
       "    </tr>\n",
       "  </tbody>\n",
       "</table>\n",
       "</div>"
      ],
      "text/plain": [
       "                   balcony  without_zero\n",
       "balcony_category                        \n",
       "(11.999, 33.0]    0.390282      0.833473\n",
       "(33.0, 37.6]      0.614687      1.128120\n",
       "(37.6, 42.0]      0.617794      1.145624\n",
       "(42.0, 46.0]      0.505239      0.981161\n",
       "(46.0, 52.0]      0.566487      1.073191\n",
       "(52.0, 58.0]      0.661414      1.235481\n",
       "(58.0, 64.8]      0.662298      1.233523\n",
       "(64.8, 75.0]      0.681235      1.313998\n",
       "(75.0, 93.52]     0.668301      1.341987\n",
       "(93.52, 900.0]    0.568354      1.231261"
      ]
     },
     "execution_count": 12,
     "metadata": {},
     "output_type": "execute_result"
    }
   ],
   "source": [
    "# Делаем две таблицы, \n",
    "# Первую со средним значением кол-во балконов если расставить нули в пропусках, \n",
    "# Вторую: если пропуски оставляем\n",
    "df_balcony_zero = df.copy()\n",
    "df_balcony_zero['balcony'] = df_balcony_zero['balcony'].fillna(0)\n",
    "df_balcony_category_without_zero = df.pivot_table(\n",
    "    index=['balcony_category'], aggfunc='mean', values='balcony')\n",
    "df_balcony_category_zero = df_balcony_zero.pivot_table(\n",
    "    index=['balcony_category'], aggfunc='mean', values='balcony')\n",
    "df_balcony_category_zero['without_zero'] = df_balcony_category_without_zero['balcony']\n",
    "df_balcony_category_zero\n"
   ]
  },
  {
   "cell_type": "markdown",
   "metadata": {},
   "source": [
    "Ситуация не очень понятная что с пропусками... судя по кол-ву балконов при малых площадях больше похоже что пропуски возникают потому что при отсутствии балкона просто ничего не ставят, но вот квартиры от 93 метров практически половина \"без балконов\"... \n",
    "Наверно стоит переиграть первоначальную идею... просто заполнить нулями"
   ]
  },
  {
   "cell_type": "code",
   "execution_count": 13,
   "metadata": {},
   "outputs": [],
   "source": [
    "df['balcony'] = df['balcony'].fillna(0) # Заполняем пропуски\n",
    "df.drop(columns='balcony_category', inplace=True)  # Удаляем столбец, чтоб глаза не мазолил\n",
    "# Создаем колонку, в которой кортеж Расстояние аэропорт/ Расстояние до центра\n",
    "def distance_split(row):\n",
    "    return (row['airports_nearest'], row['cityCenters_nearest'])\n",
    "\n",
    "\n",
    "df['distance_for_floors'] = df.apply(distance_split, axis=1)\n",
    "\n",
    "data_group = df.pivot_table(index=['distance_for_floors'], values=['floors_total'])"
   ]
  },
  {
   "cell_type": "markdown",
   "metadata": {},
   "source": [
    "Идея провальная... на одном расстоянии находятся дома с разным количеством этажей. чудеса.\n",
    "Переигрываем идею... так как данные нужны для первого/последнего этажа. то находим сколько % занимает верхние этажи из имеющихся данных\n",
    "И с таким же процентом добавляем этажи относительно имеющегося.\n",
    "Хотя пропусков на самом деле всего то 86, можно было и просто удалить...)"
   ]
  },
  {
   "cell_type": "code",
   "execution_count": 16,
   "metadata": {},
   "outputs": [
    {
     "data": {
      "text/html": [
       "<div>\n",
       "<style scoped>\n",
       "    .dataframe tbody tr th:only-of-type {\n",
       "        vertical-align: middle;\n",
       "    }\n",
       "\n",
       "    .dataframe tbody tr th {\n",
       "        vertical-align: top;\n",
       "    }\n",
       "\n",
       "    .dataframe thead th {\n",
       "        text-align: right;\n",
       "    }\n",
       "</style>\n",
       "<table border=\"1\" class=\"dataframe\">\n",
       "  <thead>\n",
       "    <tr style=\"text-align: right;\">\n",
       "      <th></th>\n",
       "      <th>floors_total</th>\n",
       "      <th>cityCenters_nearest</th>\n",
       "      <th>airports_nearest</th>\n",
       "    </tr>\n",
       "  </thead>\n",
       "  <tbody>\n",
       "    <tr>\n",
       "      <th>5062</th>\n",
       "      <td>14.0</td>\n",
       "      <td>13205.0</td>\n",
       "      <td>6989.0</td>\n",
       "    </tr>\n",
       "    <tr>\n",
       "      <th>5074</th>\n",
       "      <td>25.0</td>\n",
       "      <td>13205.0</td>\n",
       "      <td>6989.0</td>\n",
       "    </tr>\n",
       "    <tr>\n",
       "      <th>10059</th>\n",
       "      <td>25.0</td>\n",
       "      <td>13205.0</td>\n",
       "      <td>6989.0</td>\n",
       "    </tr>\n",
       "    <tr>\n",
       "      <th>11294</th>\n",
       "      <td>14.0</td>\n",
       "      <td>13205.0</td>\n",
       "      <td>6989.0</td>\n",
       "    </tr>\n",
       "    <tr>\n",
       "      <th>15633</th>\n",
       "      <td>24.0</td>\n",
       "      <td>13205.0</td>\n",
       "      <td>6989.0</td>\n",
       "    </tr>\n",
       "    <tr>\n",
       "      <th>22283</th>\n",
       "      <td>14.0</td>\n",
       "      <td>13205.0</td>\n",
       "      <td>6989.0</td>\n",
       "    </tr>\n",
       "  </tbody>\n",
       "</table>\n",
       "</div>"
      ],
      "text/plain": [
       "       floors_total  cityCenters_nearest airports_nearest\n",
       "5062           14.0              13205.0           6989.0\n",
       "5074           25.0              13205.0           6989.0\n",
       "10059          25.0              13205.0           6989.0\n",
       "11294          14.0              13205.0           6989.0\n",
       "15633          24.0              13205.0           6989.0\n",
       "22283          14.0              13205.0           6989.0"
      ]
     },
     "execution_count": 16,
     "metadata": {},
     "output_type": "execute_result"
    }
   ],
   "source": [
    "df[['floors_total','cityCenters_nearest','airports_nearest']].query('cityCenters_nearest == 13205 and airports_nearest == 6989')"
   ]
  },
  {
   "cell_type": "code",
   "execution_count": 17,
   "metadata": {},
   "outputs": [
    {
     "data": {
      "text/plain": [
       "Index(['last_price', 'total_area', 'first_day_exposition', 'rooms',\n",
       "       'ceiling_height', 'floors_total', 'living_area', 'floor',\n",
       "       'kitchen_area', 'balcony', 'locality_name', 'airports_nearest',\n",
       "       'cityCenters_nearest', 'parks_around3000', 'parks_nearest',\n",
       "       'ponds_around3000', 'ponds_nearest', 'days_exposition',\n",
       "       'distance_for_floors'],\n",
       "      dtype='object')"
      ]
     },
     "execution_count": 17,
     "metadata": {},
     "output_type": "execute_result"
    }
   ],
   "source": [
    "df.columns"
   ]
  },
  {
   "cell_type": "code",
   "execution_count": 18,
   "metadata": {},
   "outputs": [
    {
     "name": "stderr",
     "output_type": "stream",
     "text": [
      "C:\\Users\\Bacek\\AppData\\Local\\Temp\\ipykernel_10436\\2040107583.py:6: UserWarning: Boolean Series key will be reindexed to match DataFrame index.\n",
      "  len(test_df[df['floor'] == df['floors_total']])\n"
     ]
    },
    {
     "data": {
      "text/plain": [
       "3361"
      ]
     },
     "execution_count": 18,
     "metadata": {},
     "output_type": "execute_result"
    }
   ],
   "source": [
    "df.drop(columns='distance_for_floors', inplace=True) # Удаляем стобец который оказался не нужным\n",
    "test_df = df.copy() # Копируем дф, чтою посмотреть что будет показывать без пропусков \n",
    "test_df.dropna(subset=['floors_total'], inplace=True)\n",
    "test_df['floors_total'] = test_df['floors_total'].astype(int)\n",
    "test_df['floor'] = test_df['floor'].astype(int)\n",
    "len(test_df[df['floor'] == df['floors_total']])"
   ]
  },
  {
   "cell_type": "code",
   "execution_count": 19,
   "metadata": {},
   "outputs": [],
   "source": [
    "def check_floor(row):\n",
    "    '''Функция которая принимает строку df, если отсутствует значение общего кол-ва высоты здания, то с шансом соответствующим проценту последних этажей возвращает такое же количество этажей сколько в зданий, в противном случае прибавляет от одного до 5 этажей, можно было поставить сколько угодно, т.к. только именно факт последнего этажа играет в нашем ислледовании\n",
    "    '''\n",
    "    if pd.notna(row['floors_total']):\n",
    "        return row['floors_total']\n",
    "    if random() > 3361/23613:\n",
    "        return row['floor'] + randint(1,5)\n",
    "    return row['floor']\n",
    "\n",
    "# Проверка работспособности функции\n",
    "columns_name = ['floor', 'floors_total']\n",
    "data = [[1, 22],\n",
    "        [2, 22],\n",
    "        [3, 22],\n",
    "        [4, None],\n",
    "        [5, None],\n",
    "        [6, 22],\n",
    "        [1, None],\n",
    "        [1, None]]\n",
    "test_df = pd.DataFrame(data=data, columns=columns_name)\n",
    "test_df['floors_total'] = test_df.apply(check_floor, axis=1)\n",
    "df['floors_total'] = df.apply(check_floor, axis=1)"
   ]
  },
  {
   "cell_type": "markdown",
   "metadata": {},
   "source": [
    "### Изменение даты <a id=\"date\"></a>"
   ]
  },
  {
   "cell_type": "code",
   "execution_count": 20,
   "metadata": {},
   "outputs": [],
   "source": [
    "# Сначало переводим формат obj в формат даты\n",
    "df['first_day_exposition'] = pd.to_datetime(df['first_day_exposition'], format='%Y-%m-%dT%H:%M:%S').dt.round('1d')"
   ]
  },
  {
   "cell_type": "markdown",
   "metadata": {},
   "source": [
    "### Замена типов данных <a id='type_change'></a>"
   ]
  },
  {
   "cell_type": "markdown",
   "metadata": {},
   "source": [
    "Так как по большой части пропуски было решено оставить, то изменение типа не приведет ни к чему, останется тот же float  \n",
    "Один из немногих пунктов который можно исправить: `balcony`"
   ]
  },
  {
   "cell_type": "code",
   "execution_count": 21,
   "metadata": {},
   "outputs": [],
   "source": [
    "df['balcony'] = df['balcony'].astype(int)\n",
    "df['floors_total'] = df['floors_total'].astype(int)\n",
    "# df.info()"
   ]
  },
  {
   "cell_type": "markdown",
   "metadata": {},
   "source": [
    "## Расчёты и добавление результатов в таблицу <a id=\"new_columns\"></a>"
   ]
  },
  {
   "cell_type": "code",
   "execution_count": 22,
   "metadata": {},
   "outputs": [],
   "source": [
    "# Добавляем цену квадратного метра\n",
    "df['price_one_metr'] = df['last_price']/df['total_area']\n",
    "# Добавляем день недели\n",
    "df['weekday'] = df['first_day_exposition'].dt.weekday\n",
    "df['month'] = df['first_day_exposition'].dt.month\n",
    "df['year'] = df['first_day_exposition'].dt.year"
   ]
  },
  {
   "cell_type": "code",
   "execution_count": 23,
   "metadata": {},
   "outputs": [],
   "source": [
    "# переименовываем в человеческий вид сразу\n",
    "weekdays = {\n",
    "    0 : 'понедельник',\n",
    "    1 : 'вторник',\n",
    "    2 : 'среда',\n",
    "    3 : 'четверг',\n",
    "    4 : 'пятница',\n",
    "    5 : 'суббота',\n",
    "    6 : 'воскресенье'\n",
    "}\n",
    "df['weekday_names'] = df['weekday'].map(weekdays)"
   ]
  },
  {
   "cell_type": "code",
   "execution_count": 24,
   "metadata": {},
   "outputs": [],
   "source": [
    "# Функция для категоризации этажей\n",
    "def floor_type(row):\n",
    "    if row['floor'] == 1:\n",
    "        return 'Первый'\n",
    "    if row['floor'] == row['floors_total']:\n",
    "        return 'Заключительный'\n",
    "    return 'Другой'\n",
    "\n",
    "# Проверка работоспособности функции\n",
    "columns_name = ['floor','floors_total']\n",
    "data=[\n",
    "    [1,14],\n",
    "    [22,25],\n",
    "    [13,13]\n",
    "]\n",
    "test_df = pd.DataFrame(data=data, columns=columns_name)\n",
    "test_df['category_floor'] = test_df.apply(floor_type, axis=1)\n",
    "# test_df\n"
   ]
  },
  {
   "cell_type": "code",
   "execution_count": 25,
   "metadata": {},
   "outputs": [],
   "source": [
    "df['category_floor'] = df.apply(floor_type, axis=1)"
   ]
  },
  {
   "cell_type": "code",
   "execution_count": 26,
   "metadata": {},
   "outputs": [
    {
     "data": {
      "text/html": [
       "<div>\n",
       "<style scoped>\n",
       "    .dataframe tbody tr th:only-of-type {\n",
       "        vertical-align: middle;\n",
       "    }\n",
       "\n",
       "    .dataframe tbody tr th {\n",
       "        vertical-align: top;\n",
       "    }\n",
       "\n",
       "    .dataframe thead th {\n",
       "        text-align: right;\n",
       "    }\n",
       "</style>\n",
       "<table border=\"1\" class=\"dataframe\">\n",
       "  <thead>\n",
       "    <tr style=\"text-align: right;\">\n",
       "      <th></th>\n",
       "      <th>total_area</th>\n",
       "      <th>kitchen_area</th>\n",
       "      <th>living_area</th>\n",
       "      <th>kitch</th>\n",
       "      <th>liv</th>\n",
       "    </tr>\n",
       "  </thead>\n",
       "  <tbody>\n",
       "    <tr>\n",
       "      <th>0</th>\n",
       "      <td>100.0</td>\n",
       "      <td>20.0</td>\n",
       "      <td>30.0</td>\n",
       "      <td>0.200</td>\n",
       "      <td>0.300</td>\n",
       "    </tr>\n",
       "    <tr>\n",
       "      <th>1</th>\n",
       "      <td>100.0</td>\n",
       "      <td>NaN</td>\n",
       "      <td>NaN</td>\n",
       "      <td>NaN</td>\n",
       "      <td>NaN</td>\n",
       "    </tr>\n",
       "    <tr>\n",
       "      <th>2</th>\n",
       "      <td>100.0</td>\n",
       "      <td>NaN</td>\n",
       "      <td>15.0</td>\n",
       "      <td>NaN</td>\n",
       "      <td>0.150</td>\n",
       "    </tr>\n",
       "    <tr>\n",
       "      <th>3</th>\n",
       "      <td>100.0</td>\n",
       "      <td>15.2</td>\n",
       "      <td>16.2</td>\n",
       "      <td>0.152</td>\n",
       "      <td>0.162</td>\n",
       "    </tr>\n",
       "    <tr>\n",
       "      <th>4</th>\n",
       "      <td>100.0</td>\n",
       "      <td>14.0</td>\n",
       "      <td>NaN</td>\n",
       "      <td>0.140</td>\n",
       "      <td>NaN</td>\n",
       "    </tr>\n",
       "  </tbody>\n",
       "</table>\n",
       "</div>"
      ],
      "text/plain": [
       "   total_area  kitchen_area  living_area  kitch    liv\n",
       "0       100.0          20.0         30.0  0.200  0.300\n",
       "1       100.0           NaN          NaN    NaN    NaN\n",
       "2       100.0           NaN         15.0    NaN  0.150\n",
       "3       100.0          15.2         16.2  0.152  0.162\n",
       "4       100.0          14.0          NaN  0.140    NaN"
      ]
     },
     "execution_count": 26,
     "metadata": {},
     "output_type": "execute_result"
    }
   ],
   "source": [
    "# Так как оставили пропуски в жилой площади и площади кухни, то высчитать простыи деленим соотношение нельзя\n",
    "# Пишем соответствующую функцию\n",
    "def function_closser(value):\n",
    "    value = value\n",
    "    def function_inside(row):\n",
    "        nonlocal value\n",
    "        if pd.isna(row[value]):\n",
    "            return None\n",
    "        return row[value] / row['total_area']\n",
    "    return function_inside\n",
    "  \n",
    "kitchen = function_closser('kitchen_area')\n",
    "living = function_closser('living_area')\n",
    "\n",
    "# Проверка работоспособности функции\n",
    "columns_name = ['total_area','kitchen_area','living_area']\n",
    "data = [\n",
    "    [100.0, 20, 30],\n",
    "    [100, None, None],\n",
    "    [100, None, 15.0],\n",
    "    [100.0, 15.2, 16.2],\n",
    "    [100.0, 14, None]\n",
    "]\n",
    "test_df = pd.DataFrame(data=data, columns=columns_name)\n",
    "test_df['kitch'] = test_df.apply(kitchen, axis=1)\n",
    "test_df['liv'] = test_df.apply(living, axis=1)\n",
    "test_df"
   ]
  },
  {
   "cell_type": "code",
   "execution_count": 27,
   "metadata": {},
   "outputs": [],
   "source": [
    "df['living_balance'] = df.apply(living, axis=1)\n",
    "df['kitchen_balance'] = df.apply(kitchen, axis=1)"
   ]
  },
  {
   "cell_type": "markdown",
   "metadata": {},
   "source": [
    "## Исследовательский анализ данных <a id=\"analyze\"></a>"
   ]
  },
  {
   "cell_type": "markdown",
   "metadata": {},
   "source": [
    "### Первоначальная оценка <a id='preanalyze'></a>"
   ]
  },
  {
   "cell_type": "code",
   "execution_count": 28,
   "metadata": {},
   "outputs": [
    {
     "data": {
      "text/html": [
       "<div>\n",
       "<style scoped>\n",
       "    .dataframe tbody tr th:only-of-type {\n",
       "        vertical-align: middle;\n",
       "    }\n",
       "\n",
       "    .dataframe tbody tr th {\n",
       "        vertical-align: top;\n",
       "    }\n",
       "\n",
       "    .dataframe thead th {\n",
       "        text-align: right;\n",
       "    }\n",
       "</style>\n",
       "<table border=\"1\" class=\"dataframe\">\n",
       "  <thead>\n",
       "    <tr style=\"text-align: right;\">\n",
       "      <th></th>\n",
       "      <th>total_area</th>\n",
       "      <th>rooms</th>\n",
       "      <th>last_price</th>\n",
       "      <th>ceiling_height</th>\n",
       "    </tr>\n",
       "  </thead>\n",
       "  <tbody>\n",
       "    <tr>\n",
       "      <th>count</th>\n",
       "      <td>23699.000000</td>\n",
       "      <td>23699.000000</td>\n",
       "      <td>2.369900e+04</td>\n",
       "      <td>14504.000000</td>\n",
       "    </tr>\n",
       "    <tr>\n",
       "      <th>mean</th>\n",
       "      <td>60.348651</td>\n",
       "      <td>2.069328</td>\n",
       "      <td>6.541549e+06</td>\n",
       "      <td>2.771499</td>\n",
       "    </tr>\n",
       "    <tr>\n",
       "      <th>std</th>\n",
       "      <td>35.654083</td>\n",
       "      <td>1.079409</td>\n",
       "      <td>1.088701e+07</td>\n",
       "      <td>1.261056</td>\n",
       "    </tr>\n",
       "    <tr>\n",
       "      <th>min</th>\n",
       "      <td>12.000000</td>\n",
       "      <td>0.000000</td>\n",
       "      <td>1.219000e+04</td>\n",
       "      <td>1.000000</td>\n",
       "    </tr>\n",
       "    <tr>\n",
       "      <th>25%</th>\n",
       "      <td>40.000000</td>\n",
       "      <td>1.000000</td>\n",
       "      <td>3.400000e+06</td>\n",
       "      <td>2.520000</td>\n",
       "    </tr>\n",
       "    <tr>\n",
       "      <th>50%</th>\n",
       "      <td>52.000000</td>\n",
       "      <td>2.000000</td>\n",
       "      <td>4.650000e+06</td>\n",
       "      <td>2.650000</td>\n",
       "    </tr>\n",
       "    <tr>\n",
       "      <th>75%</th>\n",
       "      <td>69.900000</td>\n",
       "      <td>3.000000</td>\n",
       "      <td>6.800000e+06</td>\n",
       "      <td>2.800000</td>\n",
       "    </tr>\n",
       "    <tr>\n",
       "      <th>max</th>\n",
       "      <td>900.000000</td>\n",
       "      <td>19.000000</td>\n",
       "      <td>7.630000e+08</td>\n",
       "      <td>100.000000</td>\n",
       "    </tr>\n",
       "  </tbody>\n",
       "</table>\n",
       "</div>"
      ],
      "text/plain": [
       "         total_area         rooms    last_price  ceiling_height\n",
       "count  23699.000000  23699.000000  2.369900e+04    14504.000000\n",
       "mean      60.348651      2.069328  6.541549e+06        2.771499\n",
       "std       35.654083      1.079409  1.088701e+07        1.261056\n",
       "min       12.000000      0.000000  1.219000e+04        1.000000\n",
       "25%       40.000000      1.000000  3.400000e+06        2.520000\n",
       "50%       52.000000      2.000000  4.650000e+06        2.650000\n",
       "75%       69.900000      3.000000  6.800000e+06        2.800000\n",
       "max      900.000000     19.000000  7.630000e+08      100.000000"
      ]
     },
     "execution_count": 28,
     "metadata": {},
     "output_type": "execute_result"
    }
   ],
   "source": [
    "# Буду рад подсказки как вывести иначе describe на определенные столбцы\n",
    "pivot = df['total_area'].describe()\n",
    "for name in ['rooms', 'last_price', 'ceiling_height']:\n",
    "    pivot = pd.concat([pivot, df[name].describe()],axis=1)\n",
    "pivot"
   ]
  },
  {
   "cell_type": "markdown",
   "metadata": {},
   "source": [
    "Смотрим на столбцы внимательно и понимаем, что минимальная стоимость квартиры 12190... значение уникальное. стоит его удалить. \n",
    "Также проблема с высотами потолков надо заменить значение свыше 7.5 метров на None и менее 2метров.\n",
    "19 комнат в квартире 370метров... поверим, может ранее была коммуналка"
   ]
  },
  {
   "cell_type": "code",
   "execution_count": 29,
   "metadata": {},
   "outputs": [],
   "source": [
    "df = df.query('last_price > 13000' )"
   ]
  },
  {
   "cell_type": "code",
   "execution_count": 30,
   "metadata": {},
   "outputs": [],
   "source": [
    "def check_height(row):\n",
    "    if row < 7.5 and row > 2:\n",
    "        return row\n",
    "\n",
    "# Проверка работоспособности функции:\n",
    "columns_name = ['ceiling_height', 'rooms']\n",
    "data = [[None, 1], [1.2, 4], [3, 2], [5, 2], [8,3]]\n",
    "test_df = pd.DataFrame(data=data, columns=columns_name)\n",
    "test_df['ceiling_height'] = test_df['ceiling_height'].apply(check_height)\n",
    "# test_df"
   ]
  },
  {
   "cell_type": "code",
   "execution_count": 31,
   "metadata": {},
   "outputs": [],
   "source": [
    "df['ceiling_height'] = df['ceiling_height'].apply(check_height)"
   ]
  },
  {
   "cell_type": "markdown",
   "metadata": {},
   "source": [
    "### Построение гистограмм <a id='diagram'></a> (площадь, цена, число комнат, высота потолков)"
   ]
  },
  {
   "cell_type": "code",
   "execution_count": 32,
   "metadata": {},
   "outputs": [
    {
     "data": {
      "text/plain": [
       "count    23698.000000\n",
       "mean        60.346598\n",
       "std         35.653434\n",
       "min         12.000000\n",
       "25%         40.000000\n",
       "50%         52.000000\n",
       "75%         69.875000\n",
       "max        900.000000\n",
       "Name: total_area, dtype: float64"
      ]
     },
     "execution_count": 32,
     "metadata": {},
     "output_type": "execute_result"
    }
   ],
   "source": [
    "df['total_area'].describe()"
   ]
  },
  {
   "cell_type": "code",
   "execution_count": 33,
   "metadata": {},
   "outputs": [
    {
     "data": {
      "text/plain": [
       "<AxesSubplot:>"
      ]
     },
     "execution_count": 33,
     "metadata": {},
     "output_type": "execute_result"
    },
    {
     "data": {
      "image/png": "[encoded data removed]",
      "text/plain": [
       "<Figure size 1296x288 with 1 Axes>"
      ]
     },
     "metadata": {
      "needs_background": "light"
     },
     "output_type": "display_data"
    }
   ],
   "source": [
    "df['total_area'].hist(bins=100, range=(10, 500),figsize=(18,4))"
   ]
  },
  {
   "cell_type": "code",
   "execution_count": 34,
   "metadata": {},
   "outputs": [
    {
     "data": {
      "text/plain": [
       "<AxesSubplot:>"
      ]
     },
     "execution_count": 34,
     "metadata": {},
     "output_type": "execute_result"
    },
    {
     "data": {
      "image/png": "[encoded data removed]",
      "text/plain": [
       "<Figure size 432x288 with 1 Axes>"
      ]
     },
     "metadata": {
      "needs_background": "light"
     },
     "output_type": "display_data"
    }
   ],
   "source": [
    "df.boxplot('total_area')"
   ]
  },
  {
   "cell_type": "code",
   "execution_count": 35,
   "metadata": {},
   "outputs": [],
   "source": [
    "# видим бяку. прикидываем нормальные значеня и чистим по ним\n",
    "normal_value_area = (69.875 - 40.0)*1.5 + 69.875\n",
    "df = df.query('total_area <= @normal_value_area')"
   ]
  },
  {
   "cell_type": "code",
   "execution_count": 36,
   "metadata": {},
   "outputs": [
    {
     "data": {
      "text/plain": [
       "count    22458.000000\n",
       "mean        54.362474\n",
       "std         19.382328\n",
       "min         12.000000\n",
       "25%         39.400000\n",
       "50%         50.100000\n",
       "75%         65.600000\n",
       "max        114.600000\n",
       "Name: total_area, dtype: float64"
      ]
     },
     "metadata": {},
     "output_type": "display_data"
    },
    {
     "name": "stdout",
     "output_type": "stream",
     "text": [
      "75%:  65.6\n"
     ]
    }
   ],
   "source": [
    "# КОД РЕВЬЮЕРА \n",
    "\n",
    "display(df['total_area'].describe())\n",
    "\n",
    "print('75%: ', df['total_area'].describe().loc['75%'])"
   ]
  },
  {
   "cell_type": "code",
   "execution_count": 37,
   "metadata": {},
   "outputs": [
    {
     "data": {
      "text/plain": [
       "1    8027\n",
       "2    7901\n",
       "3    5442\n",
       "4     792\n",
       "0     214\n",
       "5      72\n",
       "6       9\n",
       "7       1\n",
       "Name: rooms, dtype: int64"
      ]
     },
     "execution_count": 37,
     "metadata": {},
     "output_type": "execute_result"
    }
   ],
   "source": [
    "df['rooms'].value_counts()"
   ]
  },
  {
   "cell_type": "code",
   "execution_count": 38,
   "metadata": {},
   "outputs": [],
   "source": [
    "df = df.query('rooms <= 5')"
   ]
  },
  {
   "cell_type": "code",
   "execution_count": 39,
   "metadata": {},
   "outputs": [
    {
     "data": {
      "text/plain": [
       "<AxesSubplot:>"
      ]
     },
     "execution_count": 39,
     "metadata": {},
     "output_type": "execute_result"
    },
    {
     "data": {
      "image/png": "[encoded data removed]",
      "text/plain": [
       "<Figure size 504x288 with 1 Axes>"
      ]
     },
     "metadata": {
      "needs_background": "light"
     },
     "output_type": "display_data"
    }
   ],
   "source": [
    "df['rooms'].hist(bins=5, range=(0, 5), figsize=(7, 4))"
   ]
  },
  {
   "cell_type": "code",
   "execution_count": 40,
   "metadata": {},
   "outputs": [
    {
     "data": {
      "text/plain": [
       "<AxesSubplot:>"
      ]
     },
     "execution_count": 40,
     "metadata": {},
     "output_type": "execute_result"
    },
    {
     "data": {
      "image/png": "[encoded data removed]",
      "text/plain": [
       "<Figure size 1296x288 with 1 Axes>"
      ]
     },
     "metadata": {
      "needs_background": "light"
     },
     "output_type": "display_data"
    }
   ],
   "source": [
    "df['last_price'].hist(bins=50,figsize=(18,4))"
   ]
  },
  {
   "cell_type": "code",
   "execution_count": 41,
   "metadata": {},
   "outputs": [],
   "source": [
    "df['last_price'].describe()\n",
    "max_normal_price = ((6300000 - 3355000)*1.5 + 6300000)*2\n",
    "df = df.query('last_price <= @max_normal_price')"
   ]
  },
  {
   "cell_type": "code",
   "execution_count": 42,
   "metadata": {},
   "outputs": [
    {
     "data": {
      "text/plain": [
       "<AxesSubplot:>"
      ]
     },
     "execution_count": 42,
     "metadata": {},
     "output_type": "execute_result"
    },
    {
     "data": {
      "image/png": "[encoded data removed]",
      "text/plain": [
       "<Figure size 432x288 with 1 Axes>"
      ]
     },
     "metadata": {
      "needs_background": "light"
     },
     "output_type": "display_data"
    }
   ],
   "source": [
    "df.boxplot('last_price')  # Boxplot выглядит нормально.\n"
   ]
  },
  {
   "cell_type": "code",
   "execution_count": 43,
   "metadata": {},
   "outputs": [
    {
     "data": {
      "text/plain": [
       "count    13523.000000\n",
       "mean         2.698260\n",
       "std          0.241987\n",
       "min          2.200000\n",
       "25%          2.500000\n",
       "50%          2.630000\n",
       "75%          2.760000\n",
       "max          5.800000\n",
       "Name: ceiling_height, dtype: float64"
      ]
     },
     "execution_count": 43,
     "metadata": {},
     "output_type": "execute_result"
    }
   ],
   "source": [
    "df['ceiling_height'].describe()"
   ]
  },
  {
   "cell_type": "code",
   "execution_count": 44,
   "metadata": {},
   "outputs": [
    {
     "data": {
      "text/plain": [
       "<AxesSubplot:>"
      ]
     },
     "execution_count": 44,
     "metadata": {},
     "output_type": "execute_result"
    },
    {
     "data": {
      "image/png": "[encoded data removed]",
      "text/plain": [
       "<Figure size 1296x288 with 1 Axes>"
      ]
     },
     "metadata": {
      "needs_background": "light"
     },
     "output_type": "display_data"
    }
   ],
   "source": [
    "df['ceiling_height'].hist(bins=50,figsize=(18,4), range=(2, 6))"
   ]
  },
  {
   "cell_type": "code",
   "execution_count": 45,
   "metadata": {},
   "outputs": [],
   "source": [
    "# Тут удалять 1.5 межквартильного размаха не хочется... оставим до 4 метров выборку(В Питере все таки попадаются старые дома с высокими полками)\n",
    "# df = df.query('ceiling_height <= 4') Код прошлого варианта\n",
    "df = df[(df['ceiling_height'].isna()) | (df['ceiling_height'] <= 4)]"
   ]
  },
  {
   "cell_type": "markdown",
   "metadata": {},
   "source": [
    "### Время продажи квартиры <a id='sell_time'></a>"
   ]
  },
  {
   "cell_type": "code",
   "execution_count": 46,
   "metadata": {},
   "outputs": [
    {
     "data": {
      "text/plain": [
       "<AxesSubplot:>"
      ]
     },
     "execution_count": 46,
     "metadata": {},
     "output_type": "execute_result"
    },
    {
     "data": {
      "image/png": "[encoded data removed]",
      "text/plain": [
       "<Figure size 1296x288 with 1 Axes>"
      ]
     },
     "metadata": {
      "needs_background": "light"
     },
     "output_type": "display_data"
    }
   ],
   "source": [
    "df['days_exposition'].hist(figsize=(18,4),bins=30, range=(0,500))"
   ]
  },
  {
   "cell_type": "code",
   "execution_count": 46,
   "metadata": {},
   "outputs": [
    {
     "data": {
      "text/plain": [
       "count    19477.000000\n",
       "mean       174.574935\n",
       "std        212.488641\n",
       "min          1.000000\n",
       "25%         44.000000\n",
       "50%         92.000000\n",
       "75%        222.000000\n",
       "max       1580.000000\n",
       "Name: days_exposition, dtype: float64"
      ]
     },
     "execution_count": 46,
     "metadata": {},
     "output_type": "execute_result"
    }
   ],
   "source": [
    "df['days_exposition'].describe()"
   ]
  },
  {
   "cell_type": "code",
   "execution_count": 47,
   "metadata": {},
   "outputs": [
    {
     "data": {
      "image/png": "[encoded data removed]",
      "text/plain": [
       "<Figure size 432x288 with 1 Axes>"
      ]
     },
     "metadata": {
      "needs_background": "light"
     },
     "output_type": "display_data"
    }
   ],
   "source": [
    "sns.boxplot(x=df['days_exposition'])\n",
    "plt.xlim(0,600)\n",
    "plt.show()"
   ]
  },
  {
   "cell_type": "markdown",
   "metadata": {},
   "source": [
    "**Промежуточный вывод**  \n",
    "Медианное время продажи квартиры ~~95~~ 93 дней, свыше 225 ~~230~~ дней можно считать долгим. Время продажи свыше 450 ~~500~~ дней - очень долго... \n",
    "продажи которые прошли менее чем за полтора месяца : можно считать быстрыми."
   ]
  },
  {
   "cell_type": "code",
   "execution_count": 48,
   "metadata": {},
   "outputs": [],
   "source": [
    "df.reset_index(drop=True, inplace=True)  # Обновил индексы... ну так чтоб красиво было."
   ]
  },
  {
   "cell_type": "markdown",
   "metadata": {},
   "source": [
    "### Зависимость стоимости <a id='price_depended'></a>"
   ]
  },
  {
   "cell_type": "code",
   "execution_count": 49,
   "metadata": {},
   "outputs": [
    {
     "data": {
      "text/html": [
       "<div>\n",
       "<style scoped>\n",
       "    .dataframe tbody tr th:only-of-type {\n",
       "        vertical-align: middle;\n",
       "    }\n",
       "\n",
       "    .dataframe tbody tr th {\n",
       "        vertical-align: top;\n",
       "    }\n",
       "\n",
       "    .dataframe thead th {\n",
       "        text-align: right;\n",
       "    }\n",
       "</style>\n",
       "<table border=\"1\" class=\"dataframe\">\n",
       "  <thead>\n",
       "    <tr style=\"text-align: right;\">\n",
       "      <th></th>\n",
       "      <th>total_area</th>\n",
       "      <th>price_one_metr</th>\n",
       "      <th>rooms</th>\n",
       "      <th>cityCenters_nearest</th>\n",
       "    </tr>\n",
       "  </thead>\n",
       "  <tbody>\n",
       "    <tr>\n",
       "      <th>total_area</th>\n",
       "      <td>1.000000</td>\n",
       "      <td>0.070015</td>\n",
       "      <td>0.792549</td>\n",
       "      <td>-0.170909</td>\n",
       "    </tr>\n",
       "    <tr>\n",
       "      <th>price_one_metr</th>\n",
       "      <td>0.070015</td>\n",
       "      <td>1.000000</td>\n",
       "      <td>-0.143477</td>\n",
       "      <td>-0.401659</td>\n",
       "    </tr>\n",
       "    <tr>\n",
       "      <th>rooms</th>\n",
       "      <td>0.792549</td>\n",
       "      <td>-0.143477</td>\n",
       "      <td>1.000000</td>\n",
       "      <td>-0.096863</td>\n",
       "    </tr>\n",
       "    <tr>\n",
       "      <th>cityCenters_nearest</th>\n",
       "      <td>-0.170909</td>\n",
       "      <td>-0.401659</td>\n",
       "      <td>-0.096863</td>\n",
       "      <td>1.000000</td>\n",
       "    </tr>\n",
       "  </tbody>\n",
       "</table>\n",
       "</div>"
      ],
      "text/plain": [
       "                     total_area  price_one_metr     rooms  cityCenters_nearest\n",
       "total_area             1.000000        0.070015  0.792549            -0.170909\n",
       "price_one_metr         0.070015        1.000000 -0.143477            -0.401659\n",
       "rooms                  0.792549       -0.143477  1.000000            -0.096863\n",
       "cityCenters_nearest   -0.170909       -0.401659 -0.096863             1.000000"
      ]
     },
     "execution_count": 49,
     "metadata": {},
     "output_type": "execute_result"
    }
   ],
   "source": [
    "df[['total_area','price_one_metr','rooms','cityCenters_nearest']].corr()"
   ]
  },
  {
   "cell_type": "code",
   "execution_count": 50,
   "metadata": {},
   "outputs": [
    {
     "data": {
      "text/plain": [
       "<AxesSubplot:xlabel='rooms', ylabel='price_one_metr'>"
      ]
     },
     "execution_count": 50,
     "metadata": {},
     "output_type": "execute_result"
    },
    {
     "data": {
      "image/png": "[encoded data removed]",
      "text/plain": [
       "<Figure size 432x288 with 1 Axes>"
      ]
     },
     "metadata": {
      "needs_background": "light"
     },
     "output_type": "display_data"
    }
   ],
   "source": [
    "df.plot(y='price_one_metr', x='rooms', kind='scatter', alpha=0.02)"
   ]
  },
  {
   "cell_type": "code",
   "execution_count": 51,
   "metadata": {},
   "outputs": [
    {
     "data": {
      "text/plain": [
       "<AxesSubplot:xlabel='rooms', ylabel='price_one_metr'>"
      ]
     },
     "execution_count": 51,
     "metadata": {},
     "output_type": "execute_result"
    },
    {
     "data": {
      "image/png": "[encoded data removed]",
      "text/plain": [
       "<Figure size 432x288 with 1 Axes>"
      ]
     },
     "metadata": {
      "needs_background": "light"
     },
     "output_type": "display_data"
    }
   ],
   "source": [
    "df.plot(y='price_one_metr', x='rooms', kind='scatter', alpha=0.1, ylim=(00000,200000))"
   ]
  },
  {
   "cell_type": "code",
   "execution_count": 52,
   "metadata": {},
   "outputs": [
    {
     "data": {
      "text/plain": [
       "<AxesSubplot:xlabel='total_area', ylabel='price_one_metr'>"
      ]
     },
     "execution_count": 52,
     "metadata": {},
     "output_type": "execute_result"
    },
    {
     "data": {
      "image/png": "[encoded data removed]",
      "text/plain": [
       "<Figure size 432x288 with 1 Axes>"
      ]
     },
     "metadata": {
      "needs_background": "light"
     },
     "output_type": "display_data"
    }
   ],
   "source": [
    "df.plot(y='price_one_metr', x='total_area', kind='scatter', alpha=0.02, ylim=(25000,200000))"
   ]
  },
  {
   "cell_type": "markdown",
   "metadata": {},
   "source": [
    "Вообщем корреляция Пирсона дает более понятный ответ, зависимость между кол-вом комнат и стоимостью есть, но не сильная. (студии подороже чем квартира разбитая на большое кол-во комнат)\n",
    "Ну также ооочень слабая зависимость видна: что маленькие квартиры в среднем имеют более дорогую стоимость за кв.м., связанно скорее всего с ликвидностью такого жилья."
   ]
  },
  {
   "cell_type": "code",
   "execution_count": 54,
   "metadata": {},
   "outputs": [
    {
     "data": {
      "image/png": "[encoded data removed]",
      "text/plain": [
       "<Figure size 432x288 with 1 Axes>"
      ]
     },
     "metadata": {
      "needs_background": "light"
     },
     "output_type": "display_data"
    }
   ],
   "source": [
    "df.groupby('rooms')['price_one_metr'].median().plot()\n",
    "plt.title('Медианная стоимость за м2 в зависимости от кол-ва комнат')\n",
    "plt.xlabel('rooms')\n",
    "plt.ylabel('price_one_metr')\n",
    "plt.show()"
   ]
  },
  {
   "cell_type": "code",
   "execution_count": 55,
   "metadata": {},
   "outputs": [],
   "source": [
    "df_test = df.copy()"
   ]
  },
  {
   "cell_type": "code",
   "execution_count": 56,
   "metadata": {},
   "outputs": [
    {
     "data": {
      "text/plain": [
       "category_floor_Первый           -0.171257\n",
       "category_floor_Другой            0.207338\n",
       "category_floor_Заключительный   -0.100116\n",
       "dtype: float64"
      ]
     },
     "execution_count": 56,
     "metadata": {},
     "output_type": "execute_result"
    }
   ],
   "source": [
    "df_test = pd.get_dummies(df_test, columns=['category_floor'])  # Делаем столбцы с разными категориями этажности для анализа\n",
    "df_test[['category_floor_Первый',\n",
    "    'category_floor_Другой', 'category_floor_Заключительный']].corrwith(df.price_one_metr)\n",
    "\n",
    "# df = pd.get_dummies(df, columns=['category_floor'])  # Делаем столбцы с разными категориями этажности для анализа\n",
    "# df[['category_floor_Первый',\n",
    "#     'category_floor_Другой', 'category_floor_Заключительный']].corrwith(df.price_one_metr)"
   ]
  },
  {
   "cell_type": "code",
   "execution_count": 57,
   "metadata": {},
   "outputs": [
    {
     "data": {
      "text/plain": [
       "category_floor\n",
       "Другой            97297.297297\n",
       "Заключительный    86042.638623\n",
       "Первый            80814.999308\n",
       "Name: price_one_metr, dtype: float64"
      ]
     },
     "execution_count": 57,
     "metadata": {},
     "output_type": "execute_result"
    }
   ],
   "source": [
    "df.groupby('category_floor')['price_one_metr'].median()"
   ]
  },
  {
   "cell_type": "code",
   "execution_count": 58,
   "metadata": {},
   "outputs": [],
   "source": [
    "df_test = df.groupby('category_floor')['price_one_metr'].median()"
   ]
  },
  {
   "cell_type": "code",
   "execution_count": 59,
   "metadata": {},
   "outputs": [
    {
     "data": {
      "image/png": "[encoded data removed]",
      "text/plain": [
       "<Figure size 504x288 with 1 Axes>"
      ]
     },
     "metadata": {
      "needs_background": "light"
     },
     "output_type": "display_data"
    }
   ],
   "source": [
    "df.groupby('category_floor')['price_one_metr'].median().plot(\n",
    "    kind='bar', title='Завимость от этажа',\n",
    "    xlabel='Кол-во этажей', ylabel='Средняя стоимость',\n",
    "    figsize=(7,4))\n",
    "\n",
    "plt.show()"
   ]
  },
  {
   "cell_type": "code",
   "execution_count": 60,
   "metadata": {},
   "outputs": [
    {
     "data": {
      "text/plain": [
       "category_floor_dummies_Первый           -0.171257\n",
       "category_floor_dummies_Другой            0.207338\n",
       "category_floor_dummies_Заключительный   -0.100116\n",
       "dtype: float64"
      ]
     },
     "execution_count": 60,
     "metadata": {},
     "output_type": "execute_result"
    }
   ],
   "source": [
    "df['category_floor_dummies'] = df['category_floor'].copy()\n",
    "df = pd.get_dummies(df, columns=['category_floor_dummies'])  # Делаем столбцы с разными категориями этажности для анализа\n",
    "df[['category_floor_dummies_Первый',\n",
    "    'category_floor_dummies_Другой', 'category_floor_dummies_Заключительный']].corrwith(df.price_one_metr)"
   ]
  },
  {
   "cell_type": "markdown",
   "metadata": {},
   "source": [
    "Корреляция прослеживается, стоимость вполне адекватно распределилась сначала первые этажи(дешевые) -> последний() -> другие\n"
   ]
  },
  {
   "cell_type": "code",
   "execution_count": 61,
   "metadata": {},
   "outputs": [
    {
     "data": {
      "text/plain": [
       "weekday   -0.013406\n",
       "month     -0.004416\n",
       "year       0.057895\n",
       "dtype: float64"
      ]
     },
     "execution_count": 61,
     "metadata": {},
     "output_type": "execute_result"
    }
   ],
   "source": [
    "df[['weekday', 'month', 'year']].corrwith(df.price_one_metr)"
   ]
  },
  {
   "cell_type": "code",
   "execution_count": 62,
   "metadata": {},
   "outputs": [
    {
     "data": {
      "image/png": "[encoded data removed]",
      "text/plain": [
       "<Figure size 1152x1296 with 6 Axes>"
      ]
     },
     "metadata": {
      "needs_background": "light"
     },
     "output_type": "display_data"
    }
   ],
   "source": [
    "dictation = {\n",
    "    'weekday' : ('Дни недели', 'дня недели', 1),\n",
    "    'month' : ('Месяцы', 'месяца', 3),\n",
    "    'year' : ('Год','года', 5)\n",
    "}\n",
    "\n",
    "for couple in dictation:\n",
    "    # print(couple, dictation[couple][0])\n",
    "    plt.subplot(3, 2, dictation[couple][2])\n",
    "    df.groupby(couple)['price_one_metr'].count().plot(\n",
    "        kind='bar', xlabel=dictation[couple][0],\n",
    "        title=f'Кол-во квартир в зависимости от {dictation[couple][1]}',\n",
    "        figsize=(8,18))\n",
    "    plt.subplot(3, 2, dictation[couple][2]+1)\n",
    "    df.groupby(couple)['price_one_metr'].mean().plot(\n",
    "        kind='bar', xlabel=dictation[couple][0],\n",
    "        title=f'Средняя стоимость квартир в зависимости от {dictation[couple][1]}',\n",
    "        figsize=(16,18))\n",
    "plt.show()"
   ]
  },
  {
   "cell_type": "markdown",
   "metadata": {},
   "source": [
    "Если смотреть по корреляции: то зависимость не прослеживаться, но т.к. связь не линейная, то и не должна прослеживаться. По графикам единственно что прослеживается, что квартир выставляют больше и больше с каждым годом и в основном выставляются в будние дни. Также прослеживается тенденция по месяцам: в мае и январе(когда праздники) выставляют мало квартир, также есть просадка по среднему количеству выставляемых квартир в сезон отпусков.\n",
    "~~Зависимости от даты и месяца публикации корреляция не особ прослеживается. а вот тендеция увеличения стоимости из года в год прослеживается.~~"
   ]
  },
  {
   "cell_type": "code",
   "execution_count": 63,
   "metadata": {},
   "outputs": [
    {
     "data": {
      "text/html": [
       "<div>\n",
       "<style scoped>\n",
       "    .dataframe tbody tr th:only-of-type {\n",
       "        vertical-align: middle;\n",
       "    }\n",
       "\n",
       "    .dataframe tbody tr th {\n",
       "        vertical-align: top;\n",
       "    }\n",
       "\n",
       "    .dataframe thead th {\n",
       "        text-align: right;\n",
       "    }\n",
       "</style>\n",
       "<table border=\"1\" class=\"dataframe\">\n",
       "  <thead>\n",
       "    <tr style=\"text-align: right;\">\n",
       "      <th></th>\n",
       "      <th>count</th>\n",
       "      <th>median</th>\n",
       "    </tr>\n",
       "    <tr>\n",
       "      <th>locality_name</th>\n",
       "      <th></th>\n",
       "      <th></th>\n",
       "    </tr>\n",
       "  </thead>\n",
       "  <tbody>\n",
       "    <tr>\n",
       "      <th>Санкт-Петербург</th>\n",
       "      <td>14427</td>\n",
       "      <td>103636.363636</td>\n",
       "    </tr>\n",
       "    <tr>\n",
       "      <th>Пушкин</th>\n",
       "      <td>345</td>\n",
       "      <td>99650.349650</td>\n",
       "    </tr>\n",
       "    <tr>\n",
       "      <th>деревня Кудрово</th>\n",
       "      <td>298</td>\n",
       "      <td>91831.871902</td>\n",
       "    </tr>\n",
       "    <tr>\n",
       "      <th>посёлок Парголово</th>\n",
       "      <td>326</td>\n",
       "      <td>91780.224134</td>\n",
       "    </tr>\n",
       "    <tr>\n",
       "      <th>посёлок Мурино</th>\n",
       "      <td>522</td>\n",
       "      <td>85878.462169</td>\n",
       "    </tr>\n",
       "    <tr>\n",
       "      <th>посёлок Шушары</th>\n",
       "      <td>437</td>\n",
       "      <td>76829.268293</td>\n",
       "    </tr>\n",
       "    <tr>\n",
       "      <th>Колпино</th>\n",
       "      <td>336</td>\n",
       "      <td>74723.748474</td>\n",
       "    </tr>\n",
       "    <tr>\n",
       "      <th>Гатчина</th>\n",
       "      <td>304</td>\n",
       "      <td>67860.569236</td>\n",
       "    </tr>\n",
       "    <tr>\n",
       "      <th>Всеволожск</th>\n",
       "      <td>393</td>\n",
       "      <td>65789.473684</td>\n",
       "    </tr>\n",
       "    <tr>\n",
       "      <th>Выборг</th>\n",
       "      <td>227</td>\n",
       "      <td>58158.319871</td>\n",
       "    </tr>\n",
       "  </tbody>\n",
       "</table>\n",
       "</div>"
      ],
      "text/plain": [
       "                   count         median\n",
       "locality_name                          \n",
       "Санкт-Петербург    14427  103636.363636\n",
       "Пушкин               345   99650.349650\n",
       "деревня Кудрово      298   91831.871902\n",
       "посёлок Парголово    326   91780.224134\n",
       "посёлок Мурино       522   85878.462169\n",
       "посёлок Шушары       437   76829.268293\n",
       "Колпино              336   74723.748474\n",
       "Гатчина              304   67860.569236\n",
       "Всеволожск           393   65789.473684\n",
       "Выборг               227   58158.319871"
      ]
     },
     "execution_count": 63,
     "metadata": {},
     "output_type": "execute_result"
    }
   ],
   "source": [
    "# Группируем по поселкам(взяли медианное значение стоимости)\n",
    "df_local = df.pivot_table(\n",
    "    index=['locality_name'], values='price_one_metr', aggfunc=['count', 'median'])\n",
    "df_local.columns = ['count', 'median']\n",
    "# Выбираем 10 поселков с наибольшим кол-вом данных\n",
    "df_local = df_local.sort_values(by='count', ascending=False).head(10)\n",
    "# Сортируем по медианной стоимости за кв.м\n",
    "df_local.sort_values(by='median', ascending=False)\n"
   ]
  },
  {
   "cell_type": "markdown",
   "metadata": {},
   "source": [
    "### Зависимость стоимости от удалености к центру <a id='price_depended_centre'></a>"
   ]
  },
  {
   "cell_type": "code",
   "execution_count": 64,
   "metadata": {},
   "outputs": [],
   "source": [
    "df_centre = df.query(\"locality_name == 'Санкт-Петербург'\").dropna(subset=['cityCenters_nearest'])\n",
    "df_centre['kilometers_to_centre'] = df_centre['cityCenters_nearest'].apply(lambda x: int(x/1000)) \n",
    "df_centre = df_centre.pivot_table(index='kilometers_to_centre', values='price_one_metr', aggfunc=['count','mean','median'])\n",
    "df_centre.columns = ['count','mean','median']\n",
    "df_centre[['mean','median']] = df_centre[['mean','median']].astype(int)"
   ]
  },
  {
   "cell_type": "markdown",
   "metadata": {},
   "source": [
    "Видим что среднее от медианы не сильно отличается, разницы принципиальной нет по какому значению строить график"
   ]
  },
  {
   "cell_type": "code",
   "execution_count": 65,
   "metadata": {},
   "outputs": [
    {
     "data": {
      "text/plain": [
       "<AxesSubplot:xlabel='kilometers_to_centre', ylabel='mean'>"
      ]
     },
     "execution_count": 65,
     "metadata": {},
     "output_type": "execute_result"
    },
    {
     "data": {
      "image/png": "[encoded data removed]",
      "text/plain": [
       "<Figure size 432x288 with 1 Axes>"
      ]
     },
     "metadata": {},
     "output_type": "display_data"
    }
   ],
   "source": [
    "sns.set_style('whitegrid')\n",
    "sns.lineplot(data=df_centre.query('kilometers_to_centre < 23'), y='mean', x='kilometers_to_centre')"
   ]
  },
  {
   "cell_type": "markdown",
   "metadata": {},
   "source": [
    "По графику видно, что чем ближе к центру, тем цена выше, довольно отчетливо видно, что максимальнай цена примерно до 7-8км от центра(по данным янд.недвижемости), далее цена медленно понижаться. есть всплеск в 20км, скорее всего это какое то элитное жилье, аля \"Рублёвка\" в экологически чистом районе."
   ]
  },
  {
   "cell_type": "code",
   "execution_count": 66,
   "metadata": {},
   "outputs": [
    {
     "data": {
      "text/html": [
       "<div>\n",
       "<style scoped>\n",
       "    .dataframe tbody tr th:only-of-type {\n",
       "        vertical-align: middle;\n",
       "    }\n",
       "\n",
       "    .dataframe tbody tr th {\n",
       "        vertical-align: top;\n",
       "    }\n",
       "\n",
       "    .dataframe thead th {\n",
       "        text-align: right;\n",
       "    }\n",
       "</style>\n",
       "<table border=\"1\" class=\"dataframe\">\n",
       "  <thead>\n",
       "    <tr style=\"text-align: right;\">\n",
       "      <th></th>\n",
       "      <th>total_area</th>\n",
       "      <th>price_one_metr</th>\n",
       "      <th>rooms</th>\n",
       "      <th>ceiling_height</th>\n",
       "    </tr>\n",
       "  </thead>\n",
       "  <tbody>\n",
       "    <tr>\n",
       "      <th>count</th>\n",
       "      <td>2624.000000</td>\n",
       "      <td>2624.000000</td>\n",
       "      <td>2624.000000</td>\n",
       "      <td>1658.000000</td>\n",
       "    </tr>\n",
       "    <tr>\n",
       "      <th>mean</th>\n",
       "      <td>68.401300</td>\n",
       "      <td>126887.393846</td>\n",
       "      <td>2.342226</td>\n",
       "      <td>3.019041</td>\n",
       "    </tr>\n",
       "    <tr>\n",
       "      <th>std</th>\n",
       "      <td>22.051525</td>\n",
       "      <td>38171.928381</td>\n",
       "      <td>0.955886</td>\n",
       "      <td>0.319823</td>\n",
       "    </tr>\n",
       "    <tr>\n",
       "      <th>min</th>\n",
       "      <td>12.000000</td>\n",
       "      <td>17391.304348</td>\n",
       "      <td>0.000000</td>\n",
       "      <td>2.400000</td>\n",
       "    </tr>\n",
       "    <tr>\n",
       "      <th>25%</th>\n",
       "      <td>50.075000</td>\n",
       "      <td>100000.000000</td>\n",
       "      <td>2.000000</td>\n",
       "      <td>2.800000</td>\n",
       "    </tr>\n",
       "    <tr>\n",
       "      <th>50%</th>\n",
       "      <td>68.000000</td>\n",
       "      <td>120026.232949</td>\n",
       "      <td>2.000000</td>\n",
       "      <td>3.000000</td>\n",
       "    </tr>\n",
       "    <tr>\n",
       "      <th>75%</th>\n",
       "      <td>85.000000</td>\n",
       "      <td>145667.701863</td>\n",
       "      <td>3.000000</td>\n",
       "      <td>3.200000</td>\n",
       "    </tr>\n",
       "    <tr>\n",
       "      <th>max</th>\n",
       "      <td>114.600000</td>\n",
       "      <td>392354.124748</td>\n",
       "      <td>5.000000</td>\n",
       "      <td>4.000000</td>\n",
       "    </tr>\n",
       "  </tbody>\n",
       "</table>\n",
       "</div>"
      ],
      "text/plain": [
       "        total_area  price_one_metr        rooms  ceiling_height\n",
       "count  2624.000000     2624.000000  2624.000000     1658.000000\n",
       "mean     68.401300   126887.393846     2.342226        3.019041\n",
       "std      22.051525    38171.928381     0.955886        0.319823\n",
       "min      12.000000    17391.304348     0.000000        2.400000\n",
       "25%      50.075000   100000.000000     2.000000        2.800000\n",
       "50%      68.000000   120026.232949     2.000000        3.000000\n",
       "75%      85.000000   145667.701863     3.000000        3.200000\n",
       "max     114.600000   392354.124748     5.000000        4.000000"
      ]
     },
     "execution_count": 66,
     "metadata": {},
     "output_type": "execute_result"
    }
   ],
   "source": [
    "df.query('cityCenters_nearest <= 7500')[['total_area', 'price_one_metr','rooms','ceiling_height']].describe()\n"
   ]
  },
  {
   "cell_type": "code",
   "execution_count": 67,
   "metadata": {},
   "outputs": [
    {
     "data": {
      "text/plain": [
       "<AxesSubplot:>"
      ]
     },
     "execution_count": 67,
     "metadata": {},
     "output_type": "execute_result"
    },
    {
     "data": {
      "image/png": "[encoded data removed]",
      "text/plain": [
       "<Figure size 432x288 with 1 Axes>"
      ]
     },
     "metadata": {},
     "output_type": "display_data"
    }
   ],
   "source": [
    "df.query('cityCenters_nearest <= 7500').boxplot('price_one_metr')"
   ]
  },
  {
   "cell_type": "code",
   "execution_count": 68,
   "metadata": {},
   "outputs": [
    {
     "data": {
      "text/plain": [
       "total_area            -0.246126\n",
       "rooms                 -0.384425\n",
       "ceiling_height        -0.053926\n",
       "cityCenters_nearest    0.062086\n",
       "dtype: float64"
      ]
     },
     "execution_count": 68,
     "metadata": {},
     "output_type": "execute_result"
    }
   ],
   "source": [
    "# Отбросим выбросы\n",
    "df.query('cityCenters_nearest <= 7500 and price_one_metr >= 60000 and price_one_metr <=190000')[\n",
    "    ['total_area', 'rooms', 'ceiling_height', 'cityCenters_nearest']].corrwith(df.price_one_metr)"
   ]
  },
  {
   "cell_type": "markdown",
   "metadata": {},
   "source": [
    "Очень интересно... получается в маленьких квартирах стоимость за 1кв.м дороже, чем в большой квартире. и странно что практически отсутствует корреляция с высотой потолка и вообще она обратная: выше потолок - меньше стоимость. удаленности от центра на таком расстояние не сильно влияет на стоимость. Хотя если сделать выборку по удаленности менее 4500 метров - то там корреляция будет отрицательная."
   ]
  },
  {
   "cell_type": "code",
   "execution_count": 69,
   "metadata": {},
   "outputs": [
    {
     "data": {
      "text/plain": [
       "Index(['last_price', 'total_area', 'first_day_exposition', 'rooms',\n",
       "       'ceiling_height', 'floors_total', 'living_area', 'floor',\n",
       "       'kitchen_area', 'balcony', 'locality_name', 'airports_nearest',\n",
       "       'cityCenters_nearest', 'parks_around3000', 'parks_nearest',\n",
       "       'ponds_around3000', 'ponds_nearest', 'days_exposition',\n",
       "       'price_one_metr', 'weekday', 'month', 'year', 'weekday_names',\n",
       "       'category_floor', 'living_balance', 'kitchen_balance',\n",
       "       'category_floor_dummies_Другой',\n",
       "       'category_floor_dummies_Заключительный',\n",
       "       'category_floor_dummies_Первый'],\n",
       "      dtype='object')"
      ]
     },
     "execution_count": 69,
     "metadata": {},
     "output_type": "execute_result"
    }
   ],
   "source": [
    "df.columns"
   ]
  },
  {
   "cell_type": "code",
   "execution_count": 70,
   "metadata": {},
   "outputs": [
    {
     "data": {
      "image/png": "[encoded data removed]",
      "text/plain": [
       "<Figure size 864x1008 with 3 Axes>"
      ]
     },
     "metadata": {},
     "output_type": "display_data"
    }
   ],
   "source": [
    "plt.subplot(3,1,1)\n",
    "df.query('cityCenters_nearest <= 7500').groupby('category_floor')['price_one_metr'].mean().plot(\n",
    "    kind = 'bar', xlabel='Этаж', title=f'Средняя стоимость в зависимости от этажа(центр)', rot=0)\n",
    "plt.subplot(3,1,2)\n",
    "df.query('cityCenters_nearest <= 7500').groupby('rooms')['price_one_metr'].mean().plot(\n",
    "    kind = 'bar', xlabel='Количество - комнат', title=f'Средняя стоимость в зависимости от кол-во комнат(центр)', rot=0)\n",
    "plt.subplot(3,1,3)\n",
    "df.query('cityCenters_nearest <= 7500').groupby('year')['price_one_metr'].mean().plot(\n",
    "    kind = 'bar', xlabel='Год публикации', title=f'Динамика стоимости 1кв.м в период с 2014 по 2019гг',\n",
    "    figsize=(12,14), rot=0)\n",
    "plt.show()"
   ]
  },
  {
   "cell_type": "markdown",
   "metadata": {},
   "source": [
    "### Ликвидность квартир в центре <a id='liquid_centre'></a>"
   ]
  },
  {
   "cell_type": "code",
   "execution_count": 71,
   "metadata": {},
   "outputs": [
    {
     "name": "stderr",
     "output_type": "stream",
     "text": [
      "C:\\Users\\Bacek\\AppData\\Local\\Temp\\ipykernel_10436\\2030603361.py:2: SettingWithCopyWarning: \n",
      "A value is trying to be set on a copy of a slice from a DataFrame.\n",
      "Try using .loc[row_indexer,col_indexer] = value instead\n",
      "\n",
      "See the caveats in the documentation: https://pandas.pydata.org/pandas-docs/stable/user_guide/indexing.html#returning-a-view-versus-a-copy\n",
      "  df_centre_liquid['total_area_category'] = pd.qcut(df_centre_liquid['total_area'], q=10)\n"
     ]
    }
   ],
   "source": [
    "df_centre_liquid = df.query('cityCenters_nearest <= 7500 and price_one_metr >= 60000 and price_one_metr <=190000')\n",
    "df_centre_liquid['total_area_category'] = pd.qcut(df_centre_liquid['total_area'], q=10)"
   ]
  },
  {
   "cell_type": "code",
   "execution_count": 72,
   "metadata": {},
   "outputs": [
    {
     "data": {
      "text/html": [
       "<div>\n",
       "<style scoped>\n",
       "    .dataframe tbody tr th:only-of-type {\n",
       "        vertical-align: middle;\n",
       "    }\n",
       "\n",
       "    .dataframe tbody tr th {\n",
       "        vertical-align: top;\n",
       "    }\n",
       "\n",
       "    .dataframe thead tr th {\n",
       "        text-align: left;\n",
       "    }\n",
       "\n",
       "    .dataframe thead tr:last-of-type th {\n",
       "        text-align: right;\n",
       "    }\n",
       "</style>\n",
       "<table border=\"1\" class=\"dataframe\">\n",
       "  <thead>\n",
       "    <tr>\n",
       "      <th></th>\n",
       "      <th colspan=\"2\" halign=\"left\">mean</th>\n",
       "      <th colspan=\"2\" halign=\"left\">median</th>\n",
       "    </tr>\n",
       "    <tr>\n",
       "      <th></th>\n",
       "      <th>days_exposition</th>\n",
       "      <th>price_one_metr</th>\n",
       "      <th>days_exposition</th>\n",
       "      <th>price_one_metr</th>\n",
       "    </tr>\n",
       "    <tr>\n",
       "      <th>total_area_category</th>\n",
       "      <th></th>\n",
       "      <th></th>\n",
       "      <th></th>\n",
       "      <th></th>\n",
       "    </tr>\n",
       "  </thead>\n",
       "  <tbody>\n",
       "    <tr>\n",
       "      <th>(12.999, 40.92]</th>\n",
       "      <td>124.393519</td>\n",
       "      <td>135450.765348</td>\n",
       "      <td>61.5</td>\n",
       "      <td>132911.392405</td>\n",
       "    </tr>\n",
       "    <tr>\n",
       "      <th>(40.92, 47.0]</th>\n",
       "      <td>208.020492</td>\n",
       "      <td>131114.677070</td>\n",
       "      <td>111.5</td>\n",
       "      <td>129268.292683</td>\n",
       "    </tr>\n",
       "    <tr>\n",
       "      <th>(47.0, 54.56]</th>\n",
       "      <td>219.163551</td>\n",
       "      <td>122932.112308</td>\n",
       "      <td>111.0</td>\n",
       "      <td>120625.000000</td>\n",
       "    </tr>\n",
       "    <tr>\n",
       "      <th>(54.56, 61.0]</th>\n",
       "      <td>191.140187</td>\n",
       "      <td>120185.596545</td>\n",
       "      <td>96.5</td>\n",
       "      <td>119672.131148</td>\n",
       "    </tr>\n",
       "    <tr>\n",
       "      <th>(61.0, 68.0]</th>\n",
       "      <td>229.990698</td>\n",
       "      <td>120637.835315</td>\n",
       "      <td>120.0</td>\n",
       "      <td>115384.615385</td>\n",
       "    </tr>\n",
       "    <tr>\n",
       "      <th>(68.0, 74.0]</th>\n",
       "      <td>264.247573</td>\n",
       "      <td>119952.821986</td>\n",
       "      <td>156.5</td>\n",
       "      <td>114864.864865</td>\n",
       "    </tr>\n",
       "    <tr>\n",
       "      <th>(74.0, 82.0]</th>\n",
       "      <td>221.402778</td>\n",
       "      <td>113899.657020</td>\n",
       "      <td>145.5</td>\n",
       "      <td>106250.000000</td>\n",
       "    </tr>\n",
       "    <tr>\n",
       "      <th>(82.0, 90.0]</th>\n",
       "      <td>229.598086</td>\n",
       "      <td>115291.451238</td>\n",
       "      <td>138.0</td>\n",
       "      <td>108518.086348</td>\n",
       "    </tr>\n",
       "    <tr>\n",
       "      <th>(90.0, 99.5]</th>\n",
       "      <td>306.142857</td>\n",
       "      <td>113390.487425</td>\n",
       "      <td>206.5</td>\n",
       "      <td>105913.978495</td>\n",
       "    </tr>\n",
       "    <tr>\n",
       "      <th>(99.5, 114.6]</th>\n",
       "      <td>302.487685</td>\n",
       "      <td>112055.280339</td>\n",
       "      <td>201.0</td>\n",
       "      <td>108094.768016</td>\n",
       "    </tr>\n",
       "  </tbody>\n",
       "</table>\n",
       "</div>"
      ],
      "text/plain": [
       "                               mean                         median  \\\n",
       "                    days_exposition price_one_metr days_exposition   \n",
       "total_area_category                                                  \n",
       "(12.999, 40.92]          124.393519  135450.765348            61.5   \n",
       "(40.92, 47.0]            208.020492  131114.677070           111.5   \n",
       "(47.0, 54.56]            219.163551  122932.112308           111.0   \n",
       "(54.56, 61.0]            191.140187  120185.596545            96.5   \n",
       "(61.0, 68.0]             229.990698  120637.835315           120.0   \n",
       "(68.0, 74.0]             264.247573  119952.821986           156.5   \n",
       "(74.0, 82.0]             221.402778  113899.657020           145.5   \n",
       "(82.0, 90.0]             229.598086  115291.451238           138.0   \n",
       "(90.0, 99.5]             306.142857  113390.487425           206.5   \n",
       "(99.5, 114.6]            302.487685  112055.280339           201.0   \n",
       "\n",
       "                                    \n",
       "                    price_one_metr  \n",
       "total_area_category                 \n",
       "(12.999, 40.92]      132911.392405  \n",
       "(40.92, 47.0]        129268.292683  \n",
       "(47.0, 54.56]        120625.000000  \n",
       "(54.56, 61.0]        119672.131148  \n",
       "(61.0, 68.0]         115384.615385  \n",
       "(68.0, 74.0]         114864.864865  \n",
       "(74.0, 82.0]         106250.000000  \n",
       "(82.0, 90.0]         108518.086348  \n",
       "(90.0, 99.5]         105913.978495  \n",
       "(99.5, 114.6]        108094.768016  "
      ]
     },
     "execution_count": 72,
     "metadata": {},
     "output_type": "execute_result"
    }
   ],
   "source": [
    "df_pivot_liquid = df_centre_liquid.pivot_table(\n",
    "    index=['total_area_category'], values=['price_one_metr','days_exposition'], aggfunc=['mean', 'median'])\n",
    "df_pivot_liquid\n"
   ]
  },
  {
   "cell_type": "markdown",
   "metadata": {},
   "source": [
    "## Общий вывод <a id=\"conlusion\"></a>"
   ]
  },
  {
   "cell_type": "markdown",
   "metadata": {},
   "source": [
    "Изучив данные можно сделать следующие выводы: \n",
    "1. Отсутствуют некоторые важные параметры для определения стоимости(во первых состояние квартиры)\n",
    "2. Квартиры низкой площади более ликвидны (видно что и быстрее продаются и стоимость за квадратный метр больше)\n",
    "3. Выделен центр - примерно 7500метров (по данным яндексНедвижисоти)\n",
    "4. Средняя стоимость даже в самой дорогом городе Лен.области(г.Пушкин) не превышает средней стоимости жилья в Санкт-Петербурге\n",
    "5. Таблица почищена...\n",
    "6. Зависимости от месяца и дня недели не наблюдается, однако наблюдает небольшая зависимоть: больше год - больше стоимость\n",
    "7. Этажность квартиры влияет. Вообщем не зря на популярных сервисах продажи недвижимости есть фильтры (\"не первый\", \"не заключительный\")\n",
    "8. Разбивка квартиры на большое кол-во комнат - плохое капитоловложение\n",
    "9. Странно корреляция между высотой потолкой и стоимостью не особ прослеживается."
   ]
  }
 ],
 "metadata": {
  "ExecuteTimeLog": [
   {
    "duration": 1468,
    "start_time": "2022-02-12T03:29:35.428Z"
   },
   {
    "duration": 3035,
    "start_time": "2022-02-12T03:29:36.899Z"
   },
   {
    "duration": -4314,
    "start_time": "2022-02-12T03:29:44.259Z"
   },
   {
    "duration": -4314,
    "start_time": "2022-02-12T03:29:44.261Z"
   },
   {
    "duration": -4312,
    "start_time": "2022-02-12T03:29:44.262Z"
   },
   {
    "duration": -4311,
    "start_time": "2022-02-12T03:29:44.263Z"
   },
   {
    "duration": -4310,
    "start_time": "2022-02-12T03:29:44.265Z"
   },
   {
    "duration": -4308,
    "start_time": "2022-02-12T03:29:44.266Z"
   },
   {
    "duration": -4306,
    "start_time": "2022-02-12T03:29:44.267Z"
   },
   {
    "duration": -4304,
    "start_time": "2022-02-12T03:29:44.268Z"
   },
   {
    "duration": -4306,
    "start_time": "2022-02-12T03:29:44.273Z"
   },
   {
    "duration": -4305,
    "start_time": "2022-02-12T03:29:44.274Z"
   },
   {
    "duration": -4304,
    "start_time": "2022-02-12T03:29:44.276Z"
   },
   {
    "duration": -4303,
    "start_time": "2022-02-12T03:29:44.277Z"
   },
   {
    "duration": -4302,
    "start_time": "2022-02-12T03:29:44.279Z"
   },
   {
    "duration": -4329,
    "start_time": "2022-02-12T03:29:44.309Z"
   },
   {
    "duration": -4286,
    "start_time": "2022-02-12T03:29:44.310Z"
   },
   {
    "duration": -4286,
    "start_time": "2022-02-12T03:29:44.312Z"
   },
   {
    "duration": -4284,
    "start_time": "2022-02-12T03:29:44.313Z"
   },
   {
    "duration": -4282,
    "start_time": "2022-02-12T03:29:44.314Z"
   },
   {
    "duration": -4280,
    "start_time": "2022-02-12T03:29:44.315Z"
   },
   {
    "duration": -4279,
    "start_time": "2022-02-12T03:29:44.316Z"
   },
   {
    "duration": -4280,
    "start_time": "2022-02-12T03:29:44.320Z"
   },
   {
    "duration": -4279,
    "start_time": "2022-02-12T03:29:44.322Z"
   },
   {
    "duration": -4278,
    "start_time": "2022-02-12T03:29:44.323Z"
   },
   {
    "duration": -4276,
    "start_time": "2022-02-12T03:29:44.324Z"
   },
   {
    "duration": -4274,
    "start_time": "2022-02-12T03:29:44.325Z"
   },
   {
    "duration": -4277,
    "start_time": "2022-02-12T03:29:44.330Z"
   },
   {
    "duration": -4275,
    "start_time": "2022-02-12T03:29:44.331Z"
   },
   {
    "duration": -4273,
    "start_time": "2022-02-12T03:29:44.332Z"
   },
   {
    "duration": -4378,
    "start_time": "2022-02-12T03:29:44.439Z"
   },
   {
    "duration": -4397,
    "start_time": "2022-02-12T03:29:44.519Z"
   },
   {
    "duration": -4462,
    "start_time": "2022-02-12T03:29:44.587Z"
   },
   {
    "duration": -4460,
    "start_time": "2022-02-12T03:29:44.588Z"
   },
   {
    "duration": -4458,
    "start_time": "2022-02-12T03:29:44.589Z"
   },
   {
    "duration": -4458,
    "start_time": "2022-02-12T03:29:44.591Z"
   },
   {
    "duration": -4456,
    "start_time": "2022-02-12T03:29:44.592Z"
   },
   {
    "duration": -4455,
    "start_time": "2022-02-12T03:29:44.593Z"
   },
   {
    "duration": -4454,
    "start_time": "2022-02-12T03:29:44.595Z"
   },
   {
    "duration": -4453,
    "start_time": "2022-02-12T03:29:44.596Z"
   },
   {
    "duration": -4452,
    "start_time": "2022-02-12T03:29:44.597Z"
   },
   {
    "duration": -4451,
    "start_time": "2022-02-12T03:29:44.598Z"
   },
   {
    "duration": -4451,
    "start_time": "2022-02-12T03:29:44.600Z"
   },
   {
    "duration": -4450,
    "start_time": "2022-02-12T03:29:44.601Z"
   },
   {
    "duration": -4449,
    "start_time": "2022-02-12T03:29:44.602Z"
   },
   {
    "duration": -4449,
    "start_time": "2022-02-12T03:29:44.604Z"
   },
   {
    "duration": -4448,
    "start_time": "2022-02-12T03:29:44.605Z"
   },
   {
    "duration": -4447,
    "start_time": "2022-02-12T03:29:44.606Z"
   },
   {
    "duration": -4385,
    "start_time": "2022-02-12T03:29:44.607Z"
   },
   {
    "duration": -4384,
    "start_time": "2022-02-12T03:29:44.609Z"
   },
   {
    "duration": -4383,
    "start_time": "2022-02-12T03:29:44.610Z"
   },
   {
    "duration": -4382,
    "start_time": "2022-02-12T03:29:44.611Z"
   },
   {
    "duration": -4381,
    "start_time": "2022-02-12T03:29:44.613Z"
   },
   {
    "duration": -4380,
    "start_time": "2022-02-12T03:29:44.614Z"
   },
   {
    "duration": -4379,
    "start_time": "2022-02-12T03:29:44.615Z"
   },
   {
    "duration": -4388,
    "start_time": "2022-02-12T03:29:44.626Z"
   },
   {
    "duration": -4387,
    "start_time": "2022-02-12T03:29:44.627Z"
   },
   {
    "duration": -4387,
    "start_time": "2022-02-12T03:29:44.629Z"
   },
   {
    "duration": -4386,
    "start_time": "2022-02-12T03:29:44.630Z"
   },
   {
    "duration": 1160,
    "start_time": "2022-02-16T18:07:26.499Z"
   },
   {
    "duration": 83,
    "start_time": "2022-02-16T18:07:27.661Z"
   },
   {
    "duration": 89,
    "start_time": "2022-02-16T18:07:27.747Z"
   },
   {
    "duration": 42,
    "start_time": "2022-02-16T18:07:27.839Z"
   },
   {
    "duration": 50,
    "start_time": "2022-02-16T18:07:27.883Z"
   },
   {
    "duration": 34,
    "start_time": "2022-02-16T18:07:27.935Z"
   },
   {
    "duration": 1033,
    "start_time": "2022-02-16T18:07:27.972Z"
   },
   {
    "duration": 4,
    "start_time": "2022-02-16T18:07:29.007Z"
   },
   {
    "duration": 7,
    "start_time": "2022-02-16T18:07:29.069Z"
   },
   {
    "duration": 13,
    "start_time": "2022-02-16T18:07:29.077Z"
   },
   {
    "duration": 83,
    "start_time": "2022-02-16T18:07:29.092Z"
   },
   {
    "duration": 7,
    "start_time": "2022-02-16T18:07:29.176Z"
   },
   {
    "duration": 530,
    "start_time": "2022-02-16T18:07:29.185Z"
   },
   {
    "duration": 2005,
    "start_time": "2022-02-16T18:07:29.717Z"
   },
   {
    "duration": 25,
    "start_time": "2022-02-16T18:07:31.723Z"
   },
   {
    "duration": 481,
    "start_time": "2022-02-16T18:07:31.750Z"
   },
   {
    "duration": 10,
    "start_time": "2022-02-16T18:07:32.233Z"
   },
   {
    "duration": 12,
    "start_time": "2022-02-16T18:07:32.245Z"
   },
   {
    "duration": 24,
    "start_time": "2022-02-16T18:07:32.259Z"
   },
   {
    "duration": 6,
    "start_time": "2022-02-16T18:07:32.285Z"
   },
   {
    "duration": 15,
    "start_time": "2022-02-16T18:07:32.293Z"
   },
   {
    "duration": 634,
    "start_time": "2022-02-16T18:07:32.310Z"
   },
   {
    "duration": 25,
    "start_time": "2022-02-16T18:07:32.949Z"
   },
   {
    "duration": 1381,
    "start_time": "2022-02-16T18:07:32.977Z"
   },
   {
    "duration": 27,
    "start_time": "2022-02-16T18:07:34.360Z"
   },
   {
    "duration": 10,
    "start_time": "2022-02-16T18:07:34.389Z"
   },
   {
    "duration": 6,
    "start_time": "2022-02-16T18:07:34.400Z"
   },
   {
    "duration": 12,
    "start_time": "2022-02-16T18:07:34.407Z"
   },
   {
    "duration": 10,
    "start_time": "2022-02-16T18:07:34.421Z"
   },
   {
    "duration": 476,
    "start_time": "2022-02-16T18:07:34.433Z"
   },
   {
    "duration": 163,
    "start_time": "2022-02-16T18:07:34.911Z"
   },
   {
    "duration": 8,
    "start_time": "2022-02-16T18:07:35.076Z"
   },
   {
    "duration": 7,
    "start_time": "2022-02-16T18:07:35.086Z"
   },
   {
    "duration": 16,
    "start_time": "2022-02-16T18:07:35.095Z"
   },
   {
    "duration": 232,
    "start_time": "2022-02-16T18:07:35.113Z"
   },
   {
    "duration": 384,
    "start_time": "2022-02-16T18:07:35.347Z"
   },
   {
    "duration": 14,
    "start_time": "2022-02-16T18:07:35.732Z"
   },
   {
    "duration": 177,
    "start_time": "2022-02-16T18:07:35.748Z"
   },
   {
    "duration": 11,
    "start_time": "2022-02-16T18:07:35.927Z"
   },
   {
    "duration": 382,
    "start_time": "2022-02-16T18:07:35.940Z"
   },
   {
    "duration": 8,
    "start_time": "2022-02-16T18:07:36.324Z"
   },
   {
    "duration": 374,
    "start_time": "2022-02-16T18:07:36.334Z"
   },
   {
    "duration": 9,
    "start_time": "2022-02-16T18:07:36.709Z"
   },
   {
    "duration": 173,
    "start_time": "2022-02-16T18:07:36.720Z"
   },
   {
    "duration": 3,
    "start_time": "2022-02-16T18:07:36.895Z"
   },
   {
    "duration": 18,
    "start_time": "2022-02-16T18:07:36.900Z"
   },
   {
    "duration": 472,
    "start_time": "2022-02-16T18:07:36.920Z"
   },
   {
    "duration": 438,
    "start_time": "2022-02-16T18:07:37.393Z"
   },
   {
    "duration": 536,
    "start_time": "2022-02-16T18:07:37.833Z"
   },
   {
    "duration": 20,
    "start_time": "2022-02-16T18:07:38.371Z"
   },
   {
    "duration": 10,
    "start_time": "2022-02-16T18:07:38.392Z"
   },
   {
    "duration": 26,
    "start_time": "2022-02-16T18:07:38.403Z"
   },
   {
    "duration": 67,
    "start_time": "2022-02-16T18:07:38.431Z"
   },
   {
    "duration": 382,
    "start_time": "2022-02-16T18:07:38.500Z"
   },
   {
    "duration": -3377,
    "start_time": "2022-02-16T18:07:42.261Z"
   },
   {
    "duration": -3377,
    "start_time": "2022-02-16T18:07:42.262Z"
   },
   {
    "duration": -3381,
    "start_time": "2022-02-16T18:07:42.267Z"
   },
   {
    "duration": -3382,
    "start_time": "2022-02-16T18:07:42.269Z"
   },
   {
    "duration": -3383,
    "start_time": "2022-02-16T18:07:42.270Z"
   },
   {
    "duration": 8,
    "start_time": "2022-02-16T18:12:24.181Z"
   },
   {
    "duration": 3,
    "start_time": "2022-02-16T18:15:24.094Z"
   },
   {
    "duration": 80,
    "start_time": "2022-02-16T18:15:24.099Z"
   },
   {
    "duration": 98,
    "start_time": "2022-02-16T18:15:24.182Z"
   },
   {
    "duration": 30,
    "start_time": "2022-02-16T18:15:24.282Z"
   },
   {
    "duration": 64,
    "start_time": "2022-02-16T18:15:24.314Z"
   },
   {
    "duration": 13,
    "start_time": "2022-02-16T18:15:24.380Z"
   },
   {
    "duration": 622,
    "start_time": "2022-02-16T18:15:24.395Z"
   },
   {
    "duration": 5,
    "start_time": "2022-02-16T18:15:25.021Z"
   },
   {
    "duration": 11,
    "start_time": "2022-02-16T18:15:25.028Z"
   },
   {
    "duration": 28,
    "start_time": "2022-02-16T18:15:25.041Z"
   },
   {
    "duration": 30,
    "start_time": "2022-02-16T18:15:25.071Z"
   },
   {
    "duration": 6,
    "start_time": "2022-02-16T18:15:25.103Z"
   },
   {
    "duration": 478,
    "start_time": "2022-02-16T18:15:25.111Z"
   },
   {
    "duration": 2040,
    "start_time": "2022-02-16T18:15:25.591Z"
   },
   {
    "duration": 21,
    "start_time": "2022-02-16T18:15:27.633Z"
   },
   {
    "duration": 501,
    "start_time": "2022-02-16T18:15:27.656Z"
   },
   {
    "duration": 13,
    "start_time": "2022-02-16T18:15:28.159Z"
   },
   {
    "duration": 8,
    "start_time": "2022-02-16T18:15:28.174Z"
   },
   {
    "duration": 15,
    "start_time": "2022-02-16T18:15:28.185Z"
   },
   {
    "duration": 6,
    "start_time": "2022-02-16T18:15:28.202Z"
   },
   {
    "duration": 11,
    "start_time": "2022-02-16T18:15:28.210Z"
   },
   {
    "duration": 682,
    "start_time": "2022-02-16T18:15:28.222Z"
   },
   {
    "duration": 17,
    "start_time": "2022-02-16T18:15:28.907Z"
   },
   {
    "duration": 1424,
    "start_time": "2022-02-16T18:15:28.927Z"
   },
   {
    "duration": 28,
    "start_time": "2022-02-16T18:15:30.353Z"
   },
   {
    "duration": 11,
    "start_time": "2022-02-16T18:15:30.384Z"
   },
   {
    "duration": 7,
    "start_time": "2022-02-16T18:15:30.397Z"
   },
   {
    "duration": 13,
    "start_time": "2022-02-16T18:15:30.406Z"
   },
   {
    "duration": 13,
    "start_time": "2022-02-16T18:15:30.421Z"
   },
   {
    "duration": 591,
    "start_time": "2022-02-16T18:15:30.436Z"
   },
   {
    "duration": 180,
    "start_time": "2022-02-16T18:15:31.029Z"
   },
   {
    "duration": 11,
    "start_time": "2022-02-16T18:15:31.211Z"
   },
   {
    "duration": 7,
    "start_time": "2022-02-16T18:15:31.223Z"
   },
   {
    "duration": 13,
    "start_time": "2022-02-16T18:15:31.232Z"
   },
   {
    "duration": 344,
    "start_time": "2022-02-16T18:15:31.247Z"
   },
   {
    "duration": 481,
    "start_time": "2022-02-16T18:15:31.593Z"
   },
   {
    "duration": 12,
    "start_time": "2022-02-16T18:15:32.076Z"
   },
   {
    "duration": 182,
    "start_time": "2022-02-16T18:15:32.089Z"
   },
   {
    "duration": 10,
    "start_time": "2022-02-16T18:15:32.272Z"
   },
   {
    "duration": 559,
    "start_time": "2022-02-16T18:15:32.284Z"
   },
   {
    "duration": 10,
    "start_time": "2022-02-16T19:03:54.344Z"
   },
   {
    "duration": 9,
    "start_time": "2022-02-16T19:03:58.495Z"
   },
   {
    "duration": 9,
    "start_time": "2022-02-16T19:04:00.631Z"
   },
   {
    "duration": 42,
    "start_time": "2022-02-16T19:04:31.619Z"
   },
   {
    "duration": 27,
    "start_time": "2022-02-16T19:05:07.866Z"
   },
   {
    "duration": 23,
    "start_time": "2022-02-16T19:05:39.086Z"
   },
   {
    "duration": 307,
    "start_time": "2022-02-16T19:06:52.099Z"
   },
   {
    "duration": 27,
    "start_time": "2022-02-16T19:11:08.906Z"
   },
   {
    "duration": 179,
    "start_time": "2022-02-16T19:11:08.935Z"
   },
   {
    "duration": 16,
    "start_time": "2022-02-16T19:11:09.117Z"
   },
   {
    "duration": 14,
    "start_time": "2022-02-16T19:11:09.135Z"
   },
   {
    "duration": 34,
    "start_time": "2022-02-16T19:11:09.168Z"
   },
   {
    "duration": 276,
    "start_time": "2022-02-16T19:12:12.948Z"
   },
   {
    "duration": 3,
    "start_time": "2022-02-16T19:12:23.023Z"
   },
   {
    "duration": 91,
    "start_time": "2022-02-16T19:12:23.028Z"
   },
   {
    "duration": 100,
    "start_time": "2022-02-16T19:12:23.121Z"
   },
   {
    "duration": 29,
    "start_time": "2022-02-16T19:12:23.223Z"
   },
   {
    "duration": 61,
    "start_time": "2022-02-16T19:12:23.254Z"
   },
   {
    "duration": 13,
    "start_time": "2022-02-16T19:12:23.316Z"
   },
   {
    "duration": 628,
    "start_time": "2022-02-16T19:12:23.331Z"
   },
   {
    "duration": 7,
    "start_time": "2022-02-16T19:12:23.962Z"
   },
   {
    "duration": 12,
    "start_time": "2022-02-16T19:12:23.971Z"
   },
   {
    "duration": 18,
    "start_time": "2022-02-16T19:12:23.984Z"
   },
   {
    "duration": 30,
    "start_time": "2022-02-16T19:12:24.003Z"
   },
   {
    "duration": 6,
    "start_time": "2022-02-16T19:12:24.035Z"
   },
   {
    "duration": 489,
    "start_time": "2022-02-16T19:12:24.043Z"
   },
   {
    "duration": 2381,
    "start_time": "2022-02-16T19:12:24.534Z"
   },
   {
    "duration": 19,
    "start_time": "2022-02-16T19:12:26.917Z"
   },
   {
    "duration": 493,
    "start_time": "2022-02-16T19:12:26.938Z"
   },
   {
    "duration": 9,
    "start_time": "2022-02-16T19:12:27.433Z"
   },
   {
    "duration": 10,
    "start_time": "2022-02-16T19:12:27.444Z"
   },
   {
    "duration": 29,
    "start_time": "2022-02-16T19:12:27.456Z"
   },
   {
    "duration": 15,
    "start_time": "2022-02-16T19:12:27.487Z"
   },
   {
    "duration": 32,
    "start_time": "2022-02-16T19:12:27.504Z"
   },
   {
    "duration": 656,
    "start_time": "2022-02-16T19:12:27.537Z"
   },
   {
    "duration": 17,
    "start_time": "2022-02-16T19:12:28.197Z"
   },
   {
    "duration": 1491,
    "start_time": "2022-02-16T19:12:28.217Z"
   },
   {
    "duration": 35,
    "start_time": "2022-02-16T19:12:29.716Z"
   },
   {
    "duration": 15,
    "start_time": "2022-02-16T19:12:29.754Z"
   },
   {
    "duration": 6,
    "start_time": "2022-02-16T19:12:29.771Z"
   },
   {
    "duration": 14,
    "start_time": "2022-02-16T19:12:29.779Z"
   },
   {
    "duration": 10,
    "start_time": "2022-02-16T19:12:29.795Z"
   },
   {
    "duration": 589,
    "start_time": "2022-02-16T19:12:29.807Z"
   },
   {
    "duration": 183,
    "start_time": "2022-02-16T19:12:30.398Z"
   },
   {
    "duration": 8,
    "start_time": "2022-02-16T19:12:30.583Z"
   },
   {
    "duration": 16,
    "start_time": "2022-02-16T19:12:30.593Z"
   },
   {
    "duration": 11,
    "start_time": "2022-02-16T19:12:30.611Z"
   },
   {
    "duration": 346,
    "start_time": "2022-02-16T19:12:30.624Z"
   },
   {
    "duration": 511,
    "start_time": "2022-02-16T19:12:30.972Z"
   },
   {
    "duration": 14,
    "start_time": "2022-02-16T19:12:31.485Z"
   },
   {
    "duration": 194,
    "start_time": "2022-02-16T19:12:31.501Z"
   },
   {
    "duration": 10,
    "start_time": "2022-02-16T19:12:31.697Z"
   },
   {
    "duration": 524,
    "start_time": "2022-02-16T19:12:31.708Z"
   },
   {
    "duration": 8,
    "start_time": "2022-02-16T19:12:32.234Z"
   },
   {
    "duration": 554,
    "start_time": "2022-02-16T19:12:32.244Z"
   },
   {
    "duration": 9,
    "start_time": "2022-02-16T19:12:32.799Z"
   },
   {
    "duration": 294,
    "start_time": "2022-02-16T19:12:32.810Z"
   },
   {
    "duration": 3,
    "start_time": "2022-02-16T19:12:33.106Z"
   },
   {
    "duration": 28,
    "start_time": "2022-02-16T19:12:33.111Z"
   },
   {
    "duration": 29,
    "start_time": "2022-02-16T19:12:33.141Z"
   },
   {
    "duration": 563,
    "start_time": "2022-02-16T19:12:33.172Z"
   },
   {
    "duration": 588,
    "start_time": "2022-02-16T19:12:33.737Z"
   },
   {
    "duration": 653,
    "start_time": "2022-02-16T19:12:34.327Z"
   },
   {
    "duration": 336,
    "start_time": "2022-02-16T19:12:34.981Z"
   },
   {
    "duration": 21,
    "start_time": "2022-02-16T19:12:35.319Z"
   },
   {
    "duration": 28,
    "start_time": "2022-02-16T19:12:35.342Z"
   },
   {
    "duration": 28,
    "start_time": "2022-02-16T19:12:35.372Z"
   },
   {
    "duration": 40,
    "start_time": "2022-02-16T19:12:35.401Z"
   },
   {
    "duration": 288,
    "start_time": "2022-02-16T19:12:35.443Z"
   },
   {
    "duration": -3484,
    "start_time": "2022-02-16T19:12:39.218Z"
   },
   {
    "duration": -3484,
    "start_time": "2022-02-16T19:12:39.220Z"
   },
   {
    "duration": -3487,
    "start_time": "2022-02-16T19:12:39.225Z"
   },
   {
    "duration": -3488,
    "start_time": "2022-02-16T19:12:39.227Z"
   },
   {
    "duration": -3487,
    "start_time": "2022-02-16T19:12:39.228Z"
   },
   {
    "duration": 10,
    "start_time": "2022-02-16T19:13:07.730Z"
   },
   {
    "duration": 257,
    "start_time": "2022-02-16T19:13:19.886Z"
   },
   {
    "duration": 7,
    "start_time": "2022-02-16T19:13:24.872Z"
   },
   {
    "duration": 26,
    "start_time": "2022-02-16T19:13:39.413Z"
   },
   {
    "duration": 162,
    "start_time": "2022-02-16T19:13:39.441Z"
   },
   {
    "duration": 15,
    "start_time": "2022-02-16T19:13:39.605Z"
   },
   {
    "duration": 13,
    "start_time": "2022-02-16T19:13:39.622Z"
   },
   {
    "duration": 53,
    "start_time": "2022-02-16T19:13:39.637Z"
   },
   {
    "duration": 14,
    "start_time": "2022-02-16T19:14:36.191Z"
   },
   {
    "duration": 36,
    "start_time": "2022-02-16T19:14:36.847Z"
   },
   {
    "duration": 233,
    "start_time": "2022-03-15T12:22:31.050Z"
   },
   {
    "duration": 1131,
    "start_time": "2022-03-15T12:22:33.490Z"
   },
   {
    "duration": 98,
    "start_time": "2022-03-15T12:22:34.623Z"
   },
   {
    "duration": 121,
    "start_time": "2022-03-15T12:22:34.759Z"
   },
   {
    "duration": 26,
    "start_time": "2022-03-15T12:22:34.881Z"
   },
   {
    "duration": 72,
    "start_time": "2022-03-15T12:22:34.908Z"
   },
   {
    "duration": 14,
    "start_time": "2022-03-15T12:22:34.982Z"
   },
   {
    "duration": 569,
    "start_time": "2022-03-15T12:22:34.997Z"
   },
   {
    "duration": 4,
    "start_time": "2022-03-15T12:22:35.569Z"
   },
   {
    "duration": 7,
    "start_time": "2022-03-15T12:22:35.575Z"
   },
   {
    "duration": 10,
    "start_time": "2022-03-15T12:22:35.584Z"
   },
   {
    "duration": 41,
    "start_time": "2022-03-15T12:22:35.595Z"
   },
   {
    "duration": 7,
    "start_time": "2022-03-15T12:22:35.638Z"
   },
   {
    "duration": 421,
    "start_time": "2022-03-15T12:22:35.659Z"
   },
   {
    "duration": 1890,
    "start_time": "2022-03-15T12:22:36.082Z"
   },
   {
    "duration": 12,
    "start_time": "2022-03-15T12:22:37.974Z"
   },
   {
    "duration": 19,
    "start_time": "2022-03-15T12:22:37.987Z"
   },
   {
    "duration": 27,
    "start_time": "2022-03-15T12:22:38.007Z"
   },
   {
    "duration": 430,
    "start_time": "2022-03-15T12:22:38.036Z"
   },
   {
    "duration": 9,
    "start_time": "2022-03-15T12:22:38.467Z"
   },
   {
    "duration": 35,
    "start_time": "2022-03-15T12:22:38.477Z"
   },
   {
    "duration": 26,
    "start_time": "2022-03-15T12:22:38.513Z"
   },
   {
    "duration": 10,
    "start_time": "2022-03-15T12:22:38.541Z"
   },
   {
    "duration": 28,
    "start_time": "2022-03-15T12:22:38.554Z"
   },
   {
    "duration": 620,
    "start_time": "2022-03-15T12:22:38.585Z"
   },
   {
    "duration": 18,
    "start_time": "2022-03-15T12:22:39.207Z"
   },
   {
    "duration": 1295,
    "start_time": "2022-03-15T12:22:39.227Z"
   },
   {
    "duration": 37,
    "start_time": "2022-03-15T12:22:40.523Z"
   },
   {
    "duration": 10,
    "start_time": "2022-03-15T12:22:40.563Z"
   },
   {
    "duration": 15,
    "start_time": "2022-03-15T12:22:40.575Z"
   },
   {
    "duration": 34,
    "start_time": "2022-03-15T12:22:40.592Z"
   },
   {
    "duration": 20,
    "start_time": "2022-03-15T12:22:40.627Z"
   },
   {
    "duration": 428,
    "start_time": "2022-03-15T12:22:40.648Z"
   },
   {
    "duration": 146,
    "start_time": "2022-03-15T12:22:41.077Z"
   },
   {
    "duration": 8,
    "start_time": "2022-03-15T12:22:41.225Z"
   },
   {
    "duration": 21,
    "start_time": "2022-03-15T12:22:41.235Z"
   },
   {
    "duration": 8,
    "start_time": "2022-03-15T12:22:57.153Z"
   },
   {
    "duration": 14,
    "start_time": "2022-03-15T12:23:16.476Z"
   },
   {
    "duration": 13,
    "start_time": "2022-03-15T12:23:29.067Z"
   },
   {
    "duration": 3,
    "start_time": "2022-03-15T12:24:34.862Z"
   },
   {
    "duration": 99,
    "start_time": "2022-03-15T12:24:34.868Z"
   },
   {
    "duration": 73,
    "start_time": "2022-03-15T12:24:34.969Z"
   },
   {
    "duration": 38,
    "start_time": "2022-03-15T12:24:35.043Z"
   },
   {
    "duration": 42,
    "start_time": "2022-03-15T12:24:35.082Z"
   },
   {
    "duration": 34,
    "start_time": "2022-03-15T12:24:35.126Z"
   },
   {
    "duration": 558,
    "start_time": "2022-03-15T12:24:35.162Z"
   },
   {
    "duration": 4,
    "start_time": "2022-03-15T12:24:35.722Z"
   },
   {
    "duration": 7,
    "start_time": "2022-03-15T12:24:35.728Z"
   },
   {
    "duration": 22,
    "start_time": "2022-03-15T12:24:35.737Z"
   },
   {
    "duration": 27,
    "start_time": "2022-03-15T12:24:35.760Z"
   },
   {
    "duration": 5,
    "start_time": "2022-03-15T12:24:35.789Z"
   },
   {
    "duration": 438,
    "start_time": "2022-03-15T12:24:35.796Z"
   },
   {
    "duration": 1929,
    "start_time": "2022-03-15T12:24:36.238Z"
   },
   {
    "duration": 12,
    "start_time": "2022-03-15T12:24:38.168Z"
   },
   {
    "duration": 4,
    "start_time": "2022-03-15T12:24:38.182Z"
   },
   {
    "duration": 19,
    "start_time": "2022-03-15T12:24:38.187Z"
   },
   {
    "duration": 485,
    "start_time": "2022-03-15T12:24:38.207Z"
   },
   {
    "duration": 10,
    "start_time": "2022-03-15T12:24:38.696Z"
   },
   {
    "duration": 6,
    "start_time": "2022-03-15T12:24:38.709Z"
   },
   {
    "duration": 15,
    "start_time": "2022-03-15T12:24:38.717Z"
   },
   {
    "duration": 28,
    "start_time": "2022-03-15T12:24:38.733Z"
   },
   {
    "duration": 6,
    "start_time": "2022-03-15T12:24:38.763Z"
   },
   {
    "duration": 663,
    "start_time": "2022-03-15T12:24:38.771Z"
   },
   {
    "duration": 24,
    "start_time": "2022-03-15T12:24:39.436Z"
   },
   {
    "duration": 1253,
    "start_time": "2022-03-15T12:24:39.461Z"
   },
   {
    "duration": 28,
    "start_time": "2022-03-15T12:24:40.715Z"
   },
   {
    "duration": 21,
    "start_time": "2022-03-15T12:24:40.744Z"
   },
   {
    "duration": 5,
    "start_time": "2022-03-15T12:24:40.768Z"
   },
   {
    "duration": 17,
    "start_time": "2022-03-15T12:24:40.774Z"
   },
   {
    "duration": 10,
    "start_time": "2022-03-15T12:24:40.793Z"
   },
   {
    "duration": 479,
    "start_time": "2022-03-15T12:24:40.806Z"
   },
   {
    "duration": 166,
    "start_time": "2022-03-15T12:24:41.287Z"
   },
   {
    "duration": 9,
    "start_time": "2022-03-15T12:24:41.459Z"
   },
   {
    "duration": 13,
    "start_time": "2022-03-15T12:24:41.470Z"
   },
   {
    "duration": 5,
    "start_time": "2022-03-15T12:24:41.485Z"
   },
   {
    "duration": 10,
    "start_time": "2022-03-15T12:24:41.492Z"
   },
   {
    "duration": 237,
    "start_time": "2022-03-15T12:24:41.504Z"
   },
   {
    "duration": 416,
    "start_time": "2022-03-15T12:24:41.743Z"
   },
   {
    "duration": 13,
    "start_time": "2022-03-15T12:24:42.161Z"
   },
   {
    "duration": 171,
    "start_time": "2022-03-15T12:24:42.176Z"
   },
   {
    "duration": 17,
    "start_time": "2022-03-15T12:24:42.350Z"
   },
   {
    "duration": 360,
    "start_time": "2022-03-15T12:24:42.370Z"
   },
   {
    "duration": 11,
    "start_time": "2022-03-15T12:24:42.734Z"
   },
   {
    "duration": 10,
    "start_time": "2022-03-15T12:24:46.148Z"
   },
   {
    "duration": 9,
    "start_time": "2022-03-15T12:24:48.011Z"
   }
  ],
  "kernelspec": {
   "display_name": "Python 3",
   "language": "python",
   "name": "python3"
  },
  "language_info": {
   "codemirror_mode": {
    "name": "ipython",
    "version": 3
   },
   "file_extension": ".py",
   "mimetype": "text/x-python",
   "name": "python",
   "nbconvert_exporter": "python",
   "pygments_lexer": "ipython3",
   "version": "3.10.4"
  },
  "toc": {
   "base_numbering": 1,
   "nav_menu": {},
   "number_sections": true,
   "sideBar": true,
   "skip_h1_title": true,
   "title_cell": "Содержание",
   "title_sidebar": "Contents",
   "toc_cell": true,
   "toc_position": {
    "height": "calc(100% - 180px)",
    "left": "10px",
    "top": "150px",
    "width": "292px"
   },
   "toc_section_display": true,
   "toc_window_display": true
  }
 },
 "nbformat": 4,
 "nbformat_minor": 2
}
