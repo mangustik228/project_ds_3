{
 "cells": [
  {
   "cell_type": "markdown",
   "metadata": {
    "toc": true
   },
   "source": [
    "## Содержание <a id=\"main_title\"></a>"
   ]
  },
  {
   "cell_type": "markdown",
   "metadata": {},
   "source": [
    "0. [Исследование объявлений о продаже квартир](#title)\n",
    "1. [Изучение данных из файла](#file)\n",
    "2. [Предобработка](#preprocessing)\n",
    ">- [Удаление лишних столбцов](#delete) \n",
    ">- [Замена пропущенных значений](#chanching) \n",
    ">- [Изменение даты](#date)\n",
    ">- [Замена типов данных](#type_change)\n",
    "3. [Расчёты и добавление результатов в таблицу](#new_columns)\n",
    "4. [Исследовательский анализ данных](#analyze)\n",
    ">- [Первоначальная оценка](#preanalyze)\n",
    ">- [Построение диаграмм(площадь, цена, число комнат, высота потолков)](#diagram)\n",
    ">- [Время продажи квартиры](#sell_time)\n",
    ">- [Зависимость стоимости](#price_depended)\n",
    ">- [Зависимость стоимости от удаленности от центра](#price_depended_centre)\n",
    ">- [Ликвидность квартир в центре](#liquid_centre)\n",
    "5. [Общий вывод](#conlusion)\n",
    "6. [Чек лист](#check_list)"
   ]
  },
  {
   "cell_type": "markdown",
   "metadata": {},
   "source": [
    "## Исследование объявлений о продаже квартир <a id=\"title\"></a>"
   ]
  },
  {
   "cell_type": "markdown",
   "metadata": {},
   "source": [
    "В вашем распоряжении данные сервиса Яндекс.Недвижимость — архив объявлений о продаже квартир в Санкт-Петербурге и соседних населённых пунктах за несколько лет. Нужно научиться определять рыночную стоимость объектов недвижимости. Ваша задача — установить параметры. Это позволит построить автоматизированную систему: она отследит аномалии и мошенническую деятельность. \n",
    "\n",
    "По каждой квартире на продажу доступны два вида данных. Первые вписаны пользователем, вторые получены автоматически на основе картографических данных. Например, расстояние до центра, аэропорта, ближайшего парка и водоёма. "
   ]
  },
  {
   "cell_type": "markdown",
   "metadata": {},
   "source": [
    "[Вернуться к содержанию](#main_title)"
   ]
  },
  {
   "cell_type": "markdown",
   "metadata": {},
   "source": [
    "## Изучение данных из файла <a id=\"file\"></a>"
   ]
  },
  {
   "cell_type": "code",
   "execution_count": 160,
   "metadata": {},
   "outputs": [],
   "source": [
    "import pandas as pd\n",
    "import matplotlib.pyplot as plt\n",
    "import seaborn as sns\n",
    "from random import random\n",
    "from random import randint"
   ]
  },
  {
   "cell_type": "code",
   "execution_count": 161,
   "metadata": {},
   "outputs": [
    {
     "name": "stdout",
     "output_type": "stream",
     "text": [
      "<class 'pandas.core.frame.DataFrame'>\n",
      "RangeIndex: 23699 entries, 0 to 23698\n",
      "Data columns (total 22 columns):\n",
      " #   Column                Non-Null Count  Dtype  \n",
      "---  ------                --------------  -----  \n",
      " 0   total_images          23699 non-null  int64  \n",
      " 1   last_price            23699 non-null  float64\n",
      " 2   total_area            23699 non-null  float64\n",
      " 3   first_day_exposition  23699 non-null  object \n",
      " 4   rooms                 23699 non-null  int64  \n",
      " 5   ceiling_height        14504 non-null  float64\n",
      " 6   floors_total          23613 non-null  float64\n",
      " 7   living_area           21796 non-null  float64\n",
      " 8   floor                 23699 non-null  int64  \n",
      " 9   is_apartment          2775 non-null   object \n",
      " 10  studio                23699 non-null  bool   \n",
      " 11  open_plan             23699 non-null  bool   \n",
      " 12  kitchen_area          21421 non-null  float64\n",
      " 13  balcony               12180 non-null  float64\n",
      " 14  locality_name         23650 non-null  object \n",
      " 15  airports_nearest      18157 non-null  float64\n",
      " 16  cityCenters_nearest   18180 non-null  float64\n",
      " 17  parks_around3000      18181 non-null  float64\n",
      " 18  parks_nearest         8079 non-null   float64\n",
      " 19  ponds_around3000      18181 non-null  float64\n",
      " 20  ponds_nearest         9110 non-null   float64\n",
      " 21  days_exposition       20518 non-null  float64\n",
      "dtypes: bool(2), float64(14), int64(3), object(3)\n",
      "memory usage: 3.7+ MB\n"
     ]
    }
   ],
   "source": [
    "df = pd.read_csv('real_estate_data.csv', sep='\\t')\n",
    "df.info()"
   ]
  },
  {
   "cell_type": "code",
   "execution_count": 162,
   "metadata": {},
   "outputs": [
    {
     "data": {
      "text/html": [
       "<div>\n",
       "<style scoped>\n",
       "    .dataframe tbody tr th:only-of-type {\n",
       "        vertical-align: middle;\n",
       "    }\n",
       "\n",
       "    .dataframe tbody tr th {\n",
       "        vertical-align: top;\n",
       "    }\n",
       "\n",
       "    .dataframe thead th {\n",
       "        text-align: right;\n",
       "    }\n",
       "</style>\n",
       "<table border=\"1\" class=\"dataframe\">\n",
       "  <thead>\n",
       "    <tr style=\"text-align: right;\">\n",
       "      <th></th>\n",
       "      <th>total_images</th>\n",
       "      <th>last_price</th>\n",
       "      <th>total_area</th>\n",
       "      <th>rooms</th>\n",
       "      <th>ceiling_height</th>\n",
       "      <th>floors_total</th>\n",
       "      <th>living_area</th>\n",
       "      <th>floor</th>\n",
       "      <th>kitchen_area</th>\n",
       "      <th>balcony</th>\n",
       "      <th>airports_nearest</th>\n",
       "      <th>cityCenters_nearest</th>\n",
       "      <th>parks_around3000</th>\n",
       "      <th>parks_nearest</th>\n",
       "      <th>ponds_around3000</th>\n",
       "      <th>ponds_nearest</th>\n",
       "      <th>days_exposition</th>\n",
       "    </tr>\n",
       "  </thead>\n",
       "  <tbody>\n",
       "    <tr>\n",
       "      <th>count</th>\n",
       "      <td>23699.000000</td>\n",
       "      <td>2.369900e+04</td>\n",
       "      <td>23699.000000</td>\n",
       "      <td>23699.000000</td>\n",
       "      <td>14504.000000</td>\n",
       "      <td>23613.000000</td>\n",
       "      <td>21796.000000</td>\n",
       "      <td>23699.000000</td>\n",
       "      <td>21421.000000</td>\n",
       "      <td>12180.000000</td>\n",
       "      <td>18157.000000</td>\n",
       "      <td>18180.000000</td>\n",
       "      <td>18181.000000</td>\n",
       "      <td>8079.000000</td>\n",
       "      <td>18181.000000</td>\n",
       "      <td>9110.000000</td>\n",
       "      <td>20518.000000</td>\n",
       "    </tr>\n",
       "    <tr>\n",
       "      <th>mean</th>\n",
       "      <td>9.858475</td>\n",
       "      <td>6.541549e+06</td>\n",
       "      <td>60.348651</td>\n",
       "      <td>2.070636</td>\n",
       "      <td>2.771499</td>\n",
       "      <td>10.673824</td>\n",
       "      <td>34.457852</td>\n",
       "      <td>5.892358</td>\n",
       "      <td>10.569807</td>\n",
       "      <td>1.150082</td>\n",
       "      <td>28793.672193</td>\n",
       "      <td>14191.277833</td>\n",
       "      <td>0.611408</td>\n",
       "      <td>490.804555</td>\n",
       "      <td>0.770255</td>\n",
       "      <td>517.980900</td>\n",
       "      <td>180.888634</td>\n",
       "    </tr>\n",
       "    <tr>\n",
       "      <th>std</th>\n",
       "      <td>5.682529</td>\n",
       "      <td>1.088701e+07</td>\n",
       "      <td>35.654083</td>\n",
       "      <td>1.078405</td>\n",
       "      <td>1.261056</td>\n",
       "      <td>6.597173</td>\n",
       "      <td>22.030445</td>\n",
       "      <td>4.885249</td>\n",
       "      <td>5.905438</td>\n",
       "      <td>1.071300</td>\n",
       "      <td>12630.880622</td>\n",
       "      <td>8608.386210</td>\n",
       "      <td>0.802074</td>\n",
       "      <td>342.317995</td>\n",
       "      <td>0.938346</td>\n",
       "      <td>277.720643</td>\n",
       "      <td>219.727988</td>\n",
       "    </tr>\n",
       "    <tr>\n",
       "      <th>min</th>\n",
       "      <td>0.000000</td>\n",
       "      <td>1.219000e+04</td>\n",
       "      <td>12.000000</td>\n",
       "      <td>0.000000</td>\n",
       "      <td>1.000000</td>\n",
       "      <td>1.000000</td>\n",
       "      <td>2.000000</td>\n",
       "      <td>1.000000</td>\n",
       "      <td>1.300000</td>\n",
       "      <td>0.000000</td>\n",
       "      <td>0.000000</td>\n",
       "      <td>181.000000</td>\n",
       "      <td>0.000000</td>\n",
       "      <td>1.000000</td>\n",
       "      <td>0.000000</td>\n",
       "      <td>13.000000</td>\n",
       "      <td>1.000000</td>\n",
       "    </tr>\n",
       "    <tr>\n",
       "      <th>25%</th>\n",
       "      <td>6.000000</td>\n",
       "      <td>3.400000e+06</td>\n",
       "      <td>40.000000</td>\n",
       "      <td>1.000000</td>\n",
       "      <td>2.520000</td>\n",
       "      <td>5.000000</td>\n",
       "      <td>18.600000</td>\n",
       "      <td>2.000000</td>\n",
       "      <td>7.000000</td>\n",
       "      <td>0.000000</td>\n",
       "      <td>18585.000000</td>\n",
       "      <td>9238.000000</td>\n",
       "      <td>0.000000</td>\n",
       "      <td>288.000000</td>\n",
       "      <td>0.000000</td>\n",
       "      <td>294.000000</td>\n",
       "      <td>45.000000</td>\n",
       "    </tr>\n",
       "    <tr>\n",
       "      <th>50%</th>\n",
       "      <td>9.000000</td>\n",
       "      <td>4.650000e+06</td>\n",
       "      <td>52.000000</td>\n",
       "      <td>2.000000</td>\n",
       "      <td>2.650000</td>\n",
       "      <td>9.000000</td>\n",
       "      <td>30.000000</td>\n",
       "      <td>4.000000</td>\n",
       "      <td>9.100000</td>\n",
       "      <td>1.000000</td>\n",
       "      <td>26726.000000</td>\n",
       "      <td>13098.500000</td>\n",
       "      <td>0.000000</td>\n",
       "      <td>455.000000</td>\n",
       "      <td>1.000000</td>\n",
       "      <td>502.000000</td>\n",
       "      <td>95.000000</td>\n",
       "    </tr>\n",
       "    <tr>\n",
       "      <th>75%</th>\n",
       "      <td>14.000000</td>\n",
       "      <td>6.800000e+06</td>\n",
       "      <td>69.900000</td>\n",
       "      <td>3.000000</td>\n",
       "      <td>2.800000</td>\n",
       "      <td>16.000000</td>\n",
       "      <td>42.300000</td>\n",
       "      <td>8.000000</td>\n",
       "      <td>12.000000</td>\n",
       "      <td>2.000000</td>\n",
       "      <td>37273.000000</td>\n",
       "      <td>16293.000000</td>\n",
       "      <td>1.000000</td>\n",
       "      <td>612.000000</td>\n",
       "      <td>1.000000</td>\n",
       "      <td>729.000000</td>\n",
       "      <td>232.000000</td>\n",
       "    </tr>\n",
       "    <tr>\n",
       "      <th>max</th>\n",
       "      <td>50.000000</td>\n",
       "      <td>7.630000e+08</td>\n",
       "      <td>900.000000</td>\n",
       "      <td>19.000000</td>\n",
       "      <td>100.000000</td>\n",
       "      <td>60.000000</td>\n",
       "      <td>409.700000</td>\n",
       "      <td>33.000000</td>\n",
       "      <td>112.000000</td>\n",
       "      <td>5.000000</td>\n",
       "      <td>84869.000000</td>\n",
       "      <td>65968.000000</td>\n",
       "      <td>3.000000</td>\n",
       "      <td>3190.000000</td>\n",
       "      <td>3.000000</td>\n",
       "      <td>1344.000000</td>\n",
       "      <td>1580.000000</td>\n",
       "    </tr>\n",
       "  </tbody>\n",
       "</table>\n",
       "</div>"
      ],
      "text/plain": [
       "       total_images    last_price    total_area         rooms  ceiling_height  \\\n",
       "count  23699.000000  2.369900e+04  23699.000000  23699.000000    14504.000000   \n",
       "mean       9.858475  6.541549e+06     60.348651      2.070636        2.771499   \n",
       "std        5.682529  1.088701e+07     35.654083      1.078405        1.261056   \n",
       "min        0.000000  1.219000e+04     12.000000      0.000000        1.000000   \n",
       "25%        6.000000  3.400000e+06     40.000000      1.000000        2.520000   \n",
       "50%        9.000000  4.650000e+06     52.000000      2.000000        2.650000   \n",
       "75%       14.000000  6.800000e+06     69.900000      3.000000        2.800000   \n",
       "max       50.000000  7.630000e+08    900.000000     19.000000      100.000000   \n",
       "\n",
       "       floors_total   living_area         floor  kitchen_area       balcony  \\\n",
       "count  23613.000000  21796.000000  23699.000000  21421.000000  12180.000000   \n",
       "mean      10.673824     34.457852      5.892358     10.569807      1.150082   \n",
       "std        6.597173     22.030445      4.885249      5.905438      1.071300   \n",
       "min        1.000000      2.000000      1.000000      1.300000      0.000000   \n",
       "25%        5.000000     18.600000      2.000000      7.000000      0.000000   \n",
       "50%        9.000000     30.000000      4.000000      9.100000      1.000000   \n",
       "75%       16.000000     42.300000      8.000000     12.000000      2.000000   \n",
       "max       60.000000    409.700000     33.000000    112.000000      5.000000   \n",
       "\n",
       "       airports_nearest  cityCenters_nearest  parks_around3000  parks_nearest  \\\n",
       "count      18157.000000         18180.000000      18181.000000    8079.000000   \n",
       "mean       28793.672193         14191.277833          0.611408     490.804555   \n",
       "std        12630.880622          8608.386210          0.802074     342.317995   \n",
       "min            0.000000           181.000000          0.000000       1.000000   \n",
       "25%        18585.000000          9238.000000          0.000000     288.000000   \n",
       "50%        26726.000000         13098.500000          0.000000     455.000000   \n",
       "75%        37273.000000         16293.000000          1.000000     612.000000   \n",
       "max        84869.000000         65968.000000          3.000000    3190.000000   \n",
       "\n",
       "       ponds_around3000  ponds_nearest  days_exposition  \n",
       "count      18181.000000    9110.000000     20518.000000  \n",
       "mean           0.770255     517.980900       180.888634  \n",
       "std            0.938346     277.720643       219.727988  \n",
       "min            0.000000      13.000000         1.000000  \n",
       "25%            0.000000     294.000000        45.000000  \n",
       "50%            1.000000     502.000000        95.000000  \n",
       "75%            1.000000     729.000000       232.000000  \n",
       "max            3.000000    1344.000000      1580.000000  "
      ]
     },
     "execution_count": 162,
     "metadata": {},
     "output_type": "execute_result"
    }
   ],
   "source": [
    "df.describe()"
   ]
  },
  {
   "cell_type": "code",
   "execution_count": 163,
   "metadata": {},
   "outputs": [
    {
     "data": {
      "text/html": [
       "<div>\n",
       "<style scoped>\n",
       "    .dataframe tbody tr th:only-of-type {\n",
       "        vertical-align: middle;\n",
       "    }\n",
       "\n",
       "    .dataframe tbody tr th {\n",
       "        vertical-align: top;\n",
       "    }\n",
       "\n",
       "    .dataframe thead th {\n",
       "        text-align: right;\n",
       "    }\n",
       "</style>\n",
       "<table border=\"1\" class=\"dataframe\">\n",
       "  <thead>\n",
       "    <tr style=\"text-align: right;\">\n",
       "      <th></th>\n",
       "      <th>first_day_exposition</th>\n",
       "      <th>is_apartment</th>\n",
       "      <th>locality_name</th>\n",
       "    </tr>\n",
       "  </thead>\n",
       "  <tbody>\n",
       "    <tr>\n",
       "      <th>count</th>\n",
       "      <td>23699</td>\n",
       "      <td>2775</td>\n",
       "      <td>23650</td>\n",
       "    </tr>\n",
       "    <tr>\n",
       "      <th>unique</th>\n",
       "      <td>1491</td>\n",
       "      <td>2</td>\n",
       "      <td>364</td>\n",
       "    </tr>\n",
       "    <tr>\n",
       "      <th>top</th>\n",
       "      <td>2018-02-01T00:00:00</td>\n",
       "      <td>False</td>\n",
       "      <td>Санкт-Петербург</td>\n",
       "    </tr>\n",
       "    <tr>\n",
       "      <th>freq</th>\n",
       "      <td>368</td>\n",
       "      <td>2725</td>\n",
       "      <td>15721</td>\n",
       "    </tr>\n",
       "  </tbody>\n",
       "</table>\n",
       "</div>"
      ],
      "text/plain": [
       "       first_day_exposition is_apartment    locality_name\n",
       "count                 23699         2775            23650\n",
       "unique                 1491            2              364\n",
       "top     2018-02-01T00:00:00        False  Санкт-Петербург\n",
       "freq                    368         2725            15721"
      ]
     },
     "execution_count": 163,
     "metadata": {},
     "output_type": "execute_result"
    }
   ],
   "source": [
    "df.describe(include='object')"
   ]
  },
  {
   "cell_type": "code",
   "execution_count": 164,
   "metadata": {},
   "outputs": [
    {
     "data": {
      "text/html": [
       "<div>\n",
       "<style scoped>\n",
       "    .dataframe tbody tr th:only-of-type {\n",
       "        vertical-align: middle;\n",
       "    }\n",
       "\n",
       "    .dataframe tbody tr th {\n",
       "        vertical-align: top;\n",
       "    }\n",
       "\n",
       "    .dataframe thead th {\n",
       "        text-align: right;\n",
       "    }\n",
       "</style>\n",
       "<table border=\"1\" class=\"dataframe\">\n",
       "  <thead>\n",
       "    <tr style=\"text-align: right;\">\n",
       "      <th></th>\n",
       "      <th>total_images</th>\n",
       "      <th>last_price</th>\n",
       "      <th>total_area</th>\n",
       "      <th>first_day_exposition</th>\n",
       "      <th>rooms</th>\n",
       "      <th>ceiling_height</th>\n",
       "      <th>floors_total</th>\n",
       "      <th>living_area</th>\n",
       "      <th>floor</th>\n",
       "      <th>is_apartment</th>\n",
       "      <th>...</th>\n",
       "      <th>kitchen_area</th>\n",
       "      <th>balcony</th>\n",
       "      <th>locality_name</th>\n",
       "      <th>airports_nearest</th>\n",
       "      <th>cityCenters_nearest</th>\n",
       "      <th>parks_around3000</th>\n",
       "      <th>parks_nearest</th>\n",
       "      <th>ponds_around3000</th>\n",
       "      <th>ponds_nearest</th>\n",
       "      <th>days_exposition</th>\n",
       "    </tr>\n",
       "  </thead>\n",
       "  <tbody>\n",
       "  </tbody>\n",
       "</table>\n",
       "<p>0 rows × 22 columns</p>\n",
       "</div>"
      ],
      "text/plain": [
       "Empty DataFrame\n",
       "Columns: [total_images, last_price, total_area, first_day_exposition, rooms, ceiling_height, floors_total, living_area, floor, is_apartment, studio, open_plan, kitchen_area, balcony, locality_name, airports_nearest, cityCenters_nearest, parks_around3000, parks_nearest, ponds_around3000, ponds_nearest, days_exposition]\n",
       "Index: []\n",
       "\n",
       "[0 rows x 22 columns]"
      ]
     },
     "execution_count": 164,
     "metadata": {},
     "output_type": "execute_result"
    }
   ],
   "source": [
    "# Проверка различных значений.\n",
    "df['is_apartment'].value_counts()\n",
    "df.columns\n",
    "df['studio'].value_counts()\n",
    "df['rooms'].value_counts()\n",
    "len(df[df['airports_nearest'] == 0])\n",
    "len(df[df['parks_around3000'] == 0])\n",
    "df['locality_name'].value_counts()\n",
    "df[df.duplicated()]"
   ]
  },
  {
   "cell_type": "markdown",
   "metadata": {},
   "source": [
    "### Вывод"
   ]
  },
  {
   "cell_type": "markdown",
   "metadata": {},
   "source": [
    "1. `total_images` - число фото. в исследовании не понадобится. удалеяем\n",
    "1. `last_price` - цена на момент снятия с публикации. нулей нет, пропусков нет. параметр ключевой\n",
    "1. `total_area` - нулей нет, пропусков нет. параметр ключевой\n",
    "1. `first_day_exposition` - дата публикации. надо привести в формат даты\n",
    "1. `rooms` - есть нули, но они стоят там где либо студия, либо открытая планировка. поэтому оставляем нули. т.к. есть свободная планировка, то судя по всему есть квартиры без отделки... очень жаль что это никак не отображено в таблице, т.к. очень важный параметр для стоимости\n",
    "1. `ceiling_height` высота потолков. многовато пропусков(см. вывод 1 в этом markdown)\n",
    "1. `floors_total` попробуем реализовать замену пропусков по поиску аналогичных домов(расстояние аэропорт и центр питера), т.к. параметр в дальнейшим понадобится. Спойлер: идея косячная. сделал по другому\n",
    "1. `living_area` жилая площадь. поставим (среднюю площадь*общую площадь)\n",
    "1. `floor` - этаж \n",
    "1. `is_apartment` всег 50 значений да, есть подозрение, что в России слово аппартаменты не особ в ходу. столбец интереса не представляет. удаляем его.\n",
    "1. `studio` - значений не много и есть кой какой разнобой в кол-ве комнат, где то ноль где то 1 указана, думаю правильнее заменить значения rooms = 0, а саму колонку удалить.\n",
    "1. `open_plan` - такая же история как со студией, т.к. по сути является студией без отделки...\n",
    "1. `kitchen_area` поставим (среднюю площадь*общую площадь)\n",
    "1. `balcony` (см. вывод 2 в этом markdown)\n",
    "1. `locality_name` логика как с потолками не пройдет. как правило пропущены значения расстояние до города, расстояние до центра. значение довольно много поэтому правильнее маленькие поселки сгруппировать в \"другие\"\n",
    "1. `airports_nearest` - для каких то поселков можно заполнить значения по среднему для данного поселка, но смысла не вижу, все пропуски не удалить, такая же история со всеми данными которые завязаны на расстоянии\n",
    "1. `cityCenters_nearest`\n",
    "1. `parks_around3000`\n",
    "1. `parks_nearest`\n",
    "1. `ponds_nearest`\n",
    "1. `ponds_around3000`\n",
    "1. `days_exposition` - правильнее перевести в значение int... есть пропуски, возможно связано с тем что на момент выгрузки объявление было актуально...\n",
    "\n",
    "---  \n",
    "\n",
    "Вывод 1: была идея заполнить пропуски в высоте потолков/общем кол-ве этажей путем: найти эти дома по совпадающим расстояниям до центра/аэропорта, но пробежав глазами таблицу, пропуски могут быть и там и там... другой логики заполнения пропусков не вижу.\n",
    "\n",
    "Вывод 2: первоначально была мысль, что люди не указывали, потому что балконов нет, но т.к. отсутствует балконы даже в квартирах 200+м то пропуски будем заполнять по такому принципу:\n",
    "- ~~1.Найдем квартиру с минимальной площадью и 1 балконом. все пропуски с площадью меньше заменим нулями~~  \n",
    "Данный пункт убрал т.к. обнаружил, что балконы бывают в квартирах даже 12м2(по циану)  \n",
    "- 2.~~Далее разобьем площади на 10(число из головы) равных промежутков, и вставим кол-во балконов в зависимости от среднего, но т.к. балконов не может быть 0.47 , то будем вставлять рандомом)))~~  \n",
    "В ходе исследования идея переигралась. см. [замена пропущенных значений](#chanching)\n",
    "- а так вообще если бы не надо было менять пропуски то вообще не уверен что это нужно делать.\n",
    "\n",
    "Вывод 3: Столбцы названы корректно, дубликатов нет"
   ]
  },
  {
   "cell_type": "markdown",
   "metadata": {},
   "source": [
    "[Вернуться к содержанию](#main_title)"
   ]
  },
  {
   "cell_type": "markdown",
   "metadata": {},
   "source": [
    "## Предобработка данных <a id=\"preprocessing\"></a>"
   ]
  },
  {
   "cell_type": "markdown",
   "metadata": {},
   "source": [
    "### Удаление столбцов<a id=\"delete\"></a>"
   ]
  },
  {
   "cell_type": "code",
   "execution_count": 165,
   "metadata": {},
   "outputs": [
    {
     "data": {
      "text/html": [
       "<div>\n",
       "<style scoped>\n",
       "    .dataframe tbody tr th:only-of-type {\n",
       "        vertical-align: middle;\n",
       "    }\n",
       "\n",
       "    .dataframe tbody tr th {\n",
       "        vertical-align: top;\n",
       "    }\n",
       "\n",
       "    .dataframe thead th {\n",
       "        text-align: right;\n",
       "    }\n",
       "</style>\n",
       "<table border=\"1\" class=\"dataframe\">\n",
       "  <thead>\n",
       "    <tr style=\"text-align: right;\">\n",
       "      <th></th>\n",
       "      <th>rooms</th>\n",
       "      <th>studio</th>\n",
       "      <th>open_plan</th>\n",
       "    </tr>\n",
       "  </thead>\n",
       "  <tbody>\n",
       "    <tr>\n",
       "      <th>0</th>\n",
       "      <td>0</td>\n",
       "      <td>True</td>\n",
       "      <td>False</td>\n",
       "    </tr>\n",
       "    <tr>\n",
       "      <th>1</th>\n",
       "      <td>2</td>\n",
       "      <td>False</td>\n",
       "      <td>False</td>\n",
       "    </tr>\n",
       "    <tr>\n",
       "      <th>2</th>\n",
       "      <td>0</td>\n",
       "      <td>False</td>\n",
       "      <td>True</td>\n",
       "    </tr>\n",
       "    <tr>\n",
       "      <th>3</th>\n",
       "      <td>0</td>\n",
       "      <td>True</td>\n",
       "      <td>True</td>\n",
       "    </tr>\n",
       "    <tr>\n",
       "      <th>4</th>\n",
       "      <td>5</td>\n",
       "      <td>False</td>\n",
       "      <td>False</td>\n",
       "    </tr>\n",
       "    <tr>\n",
       "      <th>5</th>\n",
       "      <td>6</td>\n",
       "      <td>False</td>\n",
       "      <td>False</td>\n",
       "    </tr>\n",
       "    <tr>\n",
       "      <th>6</th>\n",
       "      <td>0</td>\n",
       "      <td>False</td>\n",
       "      <td>False</td>\n",
       "    </tr>\n",
       "    <tr>\n",
       "      <th>7</th>\n",
       "      <td>0</td>\n",
       "      <td>False</td>\n",
       "      <td>True</td>\n",
       "    </tr>\n",
       "  </tbody>\n",
       "</table>\n",
       "</div>"
      ],
      "text/plain": [
       "   rooms  studio  open_plan\n",
       "0      0    True      False\n",
       "1      2   False      False\n",
       "2      0   False       True\n",
       "3      0    True       True\n",
       "4      5   False      False\n",
       "5      6   False      False\n",
       "6      0   False      False\n",
       "7      0   False       True"
      ]
     },
     "execution_count": 165,
     "metadata": {},
     "output_type": "execute_result"
    }
   ],
   "source": [
    "# Функция для расстановки корректной расстановки кол-ва комнат\n",
    "def check_studio(row):\n",
    "    if row['studio'] or row['open_plan']:\n",
    "        return 0\n",
    "    else:\n",
    "        return row['rooms']\n",
    "\n",
    "\n",
    "# Код для проверки работоспособности функции:\n",
    "columns_name = ['rooms', 'studio', 'open_plan']\n",
    "data = [[1, True, False],\n",
    "        [2, False, False],\n",
    "        [3, False, True],\n",
    "        [4, True, True],\n",
    "        [5, False, False],\n",
    "        [6, False, False],\n",
    "        [0, False, False],\n",
    "        [0, False, True]]\n",
    "test_df = pd.DataFrame(data=data, columns=columns_name)\n",
    "test_df['rooms'] = test_df.apply(check_studio, axis=1)\n",
    "test_df"
   ]
  },
  {
   "cell_type": "code",
   "execution_count": 166,
   "metadata": {},
   "outputs": [],
   "source": [
    "df['rooms'] = df.apply(check_studio, axis=1)\n",
    "df.drop(columns=['studio', 'open_plan', 'total_images', 'is_apartment'], inplace=True)"
   ]
  },
  {
   "cell_type": "markdown",
   "metadata": {},
   "source": [
    "[Вернуться к содержанию](#main_title)"
   ]
  },
  {
   "cell_type": "markdown",
   "metadata": {},
   "source": [
    "### Замена пропущенных значений <a id=\"chanching\"></a>"
   ]
  },
  {
   "cell_type": "code",
   "execution_count": 167,
   "metadata": {},
   "outputs": [],
   "source": [
    "# Убираем единственный дурацкий ноль в расстоянии до аэропорта\n",
    "df['airports_nearest'] = df['airports_nearest'].replace(0, None)"
   ]
  },
  {
   "cell_type": "code",
   "execution_count": 168,
   "metadata": {},
   "outputs": [
    {
     "data": {
      "text/plain": [
       "18.0"
      ]
     },
     "execution_count": 168,
     "metadata": {},
     "output_type": "execute_result"
    }
   ],
   "source": [
    "# Нашли минимальный площадь квартиры с балконом\n",
    "df[df['balcony']==1]['total_area'].min()"
   ]
  },
  {
   "cell_type": "code",
   "execution_count": 169,
   "metadata": {},
   "outputs": [],
   "source": [
    "# Разбили площади на категории\n",
    "df['balcony_category'] = pd.qcut(df['total_area'], q=10)"
   ]
  },
  {
   "cell_type": "code",
   "execution_count": 170,
   "metadata": {},
   "outputs": [
    {
     "data": {
      "text/html": [
       "<div>\n",
       "<style scoped>\n",
       "    .dataframe tbody tr th:only-of-type {\n",
       "        vertical-align: middle;\n",
       "    }\n",
       "\n",
       "    .dataframe tbody tr th {\n",
       "        vertical-align: top;\n",
       "    }\n",
       "\n",
       "    .dataframe thead th {\n",
       "        text-align: right;\n",
       "    }\n",
       "</style>\n",
       "<table border=\"1\" class=\"dataframe\">\n",
       "  <thead>\n",
       "    <tr style=\"text-align: right;\">\n",
       "      <th></th>\n",
       "      <th>balcony</th>\n",
       "      <th>without_zero</th>\n",
       "    </tr>\n",
       "    <tr>\n",
       "      <th>balcony_category</th>\n",
       "      <th></th>\n",
       "      <th></th>\n",
       "    </tr>\n",
       "  </thead>\n",
       "  <tbody>\n",
       "    <tr>\n",
       "      <th>(11.999, 33.0]</th>\n",
       "      <td>0.390282</td>\n",
       "      <td>0.833473</td>\n",
       "    </tr>\n",
       "    <tr>\n",
       "      <th>(33.0, 37.6]</th>\n",
       "      <td>0.614687</td>\n",
       "      <td>1.128120</td>\n",
       "    </tr>\n",
       "    <tr>\n",
       "      <th>(37.6, 42.0]</th>\n",
       "      <td>0.617794</td>\n",
       "      <td>1.145624</td>\n",
       "    </tr>\n",
       "    <tr>\n",
       "      <th>(42.0, 46.0]</th>\n",
       "      <td>0.505239</td>\n",
       "      <td>0.981161</td>\n",
       "    </tr>\n",
       "    <tr>\n",
       "      <th>(46.0, 52.0]</th>\n",
       "      <td>0.566487</td>\n",
       "      <td>1.073191</td>\n",
       "    </tr>\n",
       "    <tr>\n",
       "      <th>(52.0, 58.0]</th>\n",
       "      <td>0.661414</td>\n",
       "      <td>1.235481</td>\n",
       "    </tr>\n",
       "    <tr>\n",
       "      <th>(58.0, 64.8]</th>\n",
       "      <td>0.662298</td>\n",
       "      <td>1.233523</td>\n",
       "    </tr>\n",
       "    <tr>\n",
       "      <th>(64.8, 75.0]</th>\n",
       "      <td>0.681235</td>\n",
       "      <td>1.313998</td>\n",
       "    </tr>\n",
       "    <tr>\n",
       "      <th>(75.0, 93.52]</th>\n",
       "      <td>0.668301</td>\n",
       "      <td>1.341987</td>\n",
       "    </tr>\n",
       "    <tr>\n",
       "      <th>(93.52, 900.0]</th>\n",
       "      <td>0.568354</td>\n",
       "      <td>1.231261</td>\n",
       "    </tr>\n",
       "  </tbody>\n",
       "</table>\n",
       "</div>"
      ],
      "text/plain": [
       "                   balcony  without_zero\n",
       "balcony_category                        \n",
       "(11.999, 33.0]    0.390282      0.833473\n",
       "(33.0, 37.6]      0.614687      1.128120\n",
       "(37.6, 42.0]      0.617794      1.145624\n",
       "(42.0, 46.0]      0.505239      0.981161\n",
       "(46.0, 52.0]      0.566487      1.073191\n",
       "(52.0, 58.0]      0.661414      1.235481\n",
       "(58.0, 64.8]      0.662298      1.233523\n",
       "(64.8, 75.0]      0.681235      1.313998\n",
       "(75.0, 93.52]     0.668301      1.341987\n",
       "(93.52, 900.0]    0.568354      1.231261"
      ]
     },
     "execution_count": 170,
     "metadata": {},
     "output_type": "execute_result"
    }
   ],
   "source": [
    "# Делаем две таблицы, \n",
    "# Первую со средним значением кол-во балконов если расставить нули в пропусках, \n",
    "# Вторую: если пропуски оставляем\n",
    "df_balcony_zero = df.copy()\n",
    "df_balcony_zero['balcony'] = df_balcony_zero['balcony'].fillna(0)\n",
    "df_balcony_category_without_zero = df.pivot_table(\n",
    "    index=['balcony_category'], aggfunc='mean', values='balcony')\n",
    "df_balcony_category_zero = df_balcony_zero.pivot_table(\n",
    "    index=['balcony_category'], aggfunc='mean', values='balcony')\n",
    "df_balcony_category_zero['without_zero'] = df_balcony_category_without_zero['balcony']\n",
    "df_balcony_category_zero\n"
   ]
  },
  {
   "cell_type": "markdown",
   "metadata": {},
   "source": [
    "Ситуация не очень понятная что с пропусками... судя по кол-ву балконов при малых площадях больше похоже что пропуски возникают потому что при отсутствии балкона просто ничего не ставят, но вот квартиры от 93 метров практически половина \"без балконов\"... \n",
    "Наверно стоит переиграть первоначальную идею... просто заполнить нулями"
   ]
  },
  {
   "cell_type": "code",
   "execution_count": 171,
   "metadata": {},
   "outputs": [],
   "source": [
    "df['balcony'] = df['balcony'].fillna(0) # Заполняем пропуски\n",
    "df.drop(columns='balcony_category', inplace=True)  # Удаляем столбец, чтоб глаза не мазолил"
   ]
  },
  {
   "cell_type": "code",
   "execution_count": 172,
   "metadata": {},
   "outputs": [],
   "source": [
    "# Создаем колонку, в которой кортеж Расстояние аэропорт/ Расстояние до центра\n",
    "def distance_split(row):\n",
    "    return (row['airports_nearest'], row['cityCenters_nearest'])\n",
    "\n",
    "\n",
    "df['distance_for_floors'] = df.apply(distance_split, axis=1)\n"
   ]
  },
  {
   "cell_type": "code",
   "execution_count": 173,
   "metadata": {},
   "outputs": [],
   "source": [
    "data_group = df.pivot_table(index=['distance_for_floors'], values=['floors_total'])\n",
    "\n",
    "# Идея провальная... на одном расстоянии находятся дома с разным количеством этажей. чудеса.\n",
    "# Переигрываем идею... так как данные нужны для первого/последнего этажа. то находим сколько % занимает верхние этажи из имеющихся данных\n",
    "# И с таким же процентом добавляем этажи относительно имеющегося.\n",
    "# Хотя пропусков на самом деле всего то 86, можно было и просто удалить...)"
   ]
  },
  {
   "cell_type": "code",
   "execution_count": 174,
   "metadata": {},
   "outputs": [
    {
     "name": "stderr",
     "output_type": "stream",
     "text": [
      "C:\\Users\\Bacek\\AppData\\Local\\Temp/ipykernel_22100/1793015234.py:6: UserWarning: Boolean Series key will be reindexed to match DataFrame index.\n",
      "  len(test_df[df['floor'] == df['floors_total']])\n"
     ]
    },
    {
     "data": {
      "text/plain": [
       "3361"
      ]
     },
     "execution_count": 174,
     "metadata": {},
     "output_type": "execute_result"
    }
   ],
   "source": [
    "df.drop(columns='distance_for_floors', inplace=True) # Удаляем стобец который оказался не нужным\n",
    "test_df = df.copy() # Копируем дф, чтою посмотреть что будет показывать без пропусков \n",
    "test_df.dropna(subset=['floors_total'], inplace=True)\n",
    "test_df['floors_total'] = test_df['floors_total'].astype(int)\n",
    "test_df['floor'] = test_df['floor'].astype(int)\n",
    "len(test_df[df['floor'] == df['floors_total']])"
   ]
  },
  {
   "cell_type": "code",
   "execution_count": 175,
   "metadata": {},
   "outputs": [],
   "source": [
    "# Функция которая принимает строку df, если отсутствует значение общего кол-ва высоты здания, то с шансом соответствующим\n",
    "# проценту последних этажей возвращает такое же количество этажей сколько в зданий, в противном случае прибавляет от одного до 5 этажей,\n",
    "# можно было поставить сколько угодно, т.к. только именно факт последнего этажа играет в нашем ислледовании\n",
    "\n",
    "def check_floor(row):\n",
    "    if pd.notna(row['floors_total']):\n",
    "        return row['floors_total']\n",
    "    if random() > 3361/23613:\n",
    "        return row['floor'] + randint(1,5)\n",
    "    return row['floor']\n",
    "\n",
    "# Проверка работспособности функции\n",
    "columns_name = ['floor', 'floors_total']\n",
    "data = [[1, 22],\n",
    "        [2, 22],\n",
    "        [3, 22],\n",
    "        [4, None],\n",
    "        [5, None],\n",
    "        [6, 22],\n",
    "        [1, None],\n",
    "        [1, None]]\n",
    "test_df = pd.DataFrame(data=data, columns=columns_name)\n",
    "test_df['floors_total'] = test_df.apply(check_floor, axis=1)\n",
    "df['floors_total'] = df.apply(check_floor, axis=1)"
   ]
  },
  {
   "cell_type": "markdown",
   "metadata": {},
   "source": [
    "[Вернуться к содержанию](#main_title)"
   ]
  },
  {
   "cell_type": "markdown",
   "metadata": {},
   "source": [
    "### Изменение даты <a id=\"date\"></a>"
   ]
  },
  {
   "cell_type": "code",
   "execution_count": 176,
   "metadata": {},
   "outputs": [],
   "source": [
    "# Сначало переводим формат obj в формат даты\n",
    "df['first_day_exposition'] = pd.to_datetime(df['first_day_exposition'], format='%Y-%m-%dT%H:%M:%S').dt.round('1d')"
   ]
  },
  {
   "cell_type": "markdown",
   "metadata": {},
   "source": [
    "[Вернуться к содержанию](#main_title)"
   ]
  },
  {
   "cell_type": "markdown",
   "metadata": {},
   "source": [
    "### Замена типов данных <a id='type_change'></a>"
   ]
  },
  {
   "cell_type": "markdown",
   "metadata": {},
   "source": [
    "Так как по большой части пропуски было решено оставить, то изменение типа не приведет ни к чему, останется тот же float  \n",
    "Один из немногих пунктов который можно исправить: `balcony`"
   ]
  },
  {
   "cell_type": "code",
   "execution_count": 177,
   "metadata": {},
   "outputs": [],
   "source": [
    "df['balcony'] = df['balcony'].astype(int)\n",
    "df['floors_total'] = df['floors_total'].astype(int)\n",
    "# df.info()"
   ]
  },
  {
   "cell_type": "markdown",
   "metadata": {},
   "source": [
    "[Вернуться к содержанию](#main_title)"
   ]
  },
  {
   "cell_type": "markdown",
   "metadata": {},
   "source": [
    "## Расчёты и добавление результатов в таблицу <a id=\"new_columns\"></a>"
   ]
  },
  {
   "cell_type": "code",
   "execution_count": 178,
   "metadata": {},
   "outputs": [],
   "source": [
    "# Добавляем цену квадратного метра\n",
    "df['price_one_metr'] = df['last_price']/df['total_area']\n",
    "# Добавляем день недели\n",
    "df['weekday'] = df['first_day_exposition'].dt.weekday\n",
    "df['month'] = df['first_day_exposition'].dt.month\n",
    "df['year'] = df['first_day_exposition'].dt.year"
   ]
  },
  {
   "cell_type": "code",
   "execution_count": 179,
   "metadata": {},
   "outputs": [],
   "source": [
    "# переименовываем в человеческий вид сразу\n",
    "weekdays = {\n",
    "    0 : 'понедельник',\n",
    "    1 : 'вторник',\n",
    "    2 : 'среда',\n",
    "    3 : 'четверг',\n",
    "    4 : 'пятница',\n",
    "    5 : 'суббота',\n",
    "    6 : 'воскресенье'\n",
    "}\n",
    "df['weekday_names'] = df['weekday'].map(weekdays)"
   ]
  },
  {
   "cell_type": "code",
   "execution_count": 180,
   "metadata": {},
   "outputs": [],
   "source": [
    "# Функция для категоризации этажей\n",
    "def floor_type(row):\n",
    "    if row['floor'] == 1:\n",
    "        return 'Первый'\n",
    "    if row['floor'] == row['floors_total']:\n",
    "        return 'Заключительный'\n",
    "    return 'Другой'\n",
    "\n",
    "# Проверка работоспособности функции\n",
    "columns_name = ['floor','floors_total']\n",
    "data=[\n",
    "    [1,14],\n",
    "    [22,25],\n",
    "    [13,13]\n",
    "]\n",
    "test_df = pd.DataFrame(data=data, columns=columns_name)\n",
    "test_df['category_floor'] = test_df.apply(floor_type, axis=1)\n",
    "# test_df\n"
   ]
  },
  {
   "cell_type": "code",
   "execution_count": 181,
   "metadata": {},
   "outputs": [],
   "source": [
    "df['category_floor'] = df.apply(floor_type, axis=1)"
   ]
  },
  {
   "cell_type": "code",
   "execution_count": 182,
   "metadata": {},
   "outputs": [
    {
     "data": {
      "text/html": [
       "<div>\n",
       "<style scoped>\n",
       "    .dataframe tbody tr th:only-of-type {\n",
       "        vertical-align: middle;\n",
       "    }\n",
       "\n",
       "    .dataframe tbody tr th {\n",
       "        vertical-align: top;\n",
       "    }\n",
       "\n",
       "    .dataframe thead th {\n",
       "        text-align: right;\n",
       "    }\n",
       "</style>\n",
       "<table border=\"1\" class=\"dataframe\">\n",
       "  <thead>\n",
       "    <tr style=\"text-align: right;\">\n",
       "      <th></th>\n",
       "      <th>total_area</th>\n",
       "      <th>kitchen_area</th>\n",
       "      <th>living_area</th>\n",
       "      <th>kitch</th>\n",
       "      <th>liv</th>\n",
       "    </tr>\n",
       "  </thead>\n",
       "  <tbody>\n",
       "    <tr>\n",
       "      <th>0</th>\n",
       "      <td>100.0</td>\n",
       "      <td>20.0</td>\n",
       "      <td>30.0</td>\n",
       "      <td>0.200</td>\n",
       "      <td>0.300</td>\n",
       "    </tr>\n",
       "    <tr>\n",
       "      <th>1</th>\n",
       "      <td>100.0</td>\n",
       "      <td>NaN</td>\n",
       "      <td>NaN</td>\n",
       "      <td>NaN</td>\n",
       "      <td>NaN</td>\n",
       "    </tr>\n",
       "    <tr>\n",
       "      <th>2</th>\n",
       "      <td>100.0</td>\n",
       "      <td>NaN</td>\n",
       "      <td>15.0</td>\n",
       "      <td>NaN</td>\n",
       "      <td>0.150</td>\n",
       "    </tr>\n",
       "    <tr>\n",
       "      <th>3</th>\n",
       "      <td>100.0</td>\n",
       "      <td>15.2</td>\n",
       "      <td>16.2</td>\n",
       "      <td>0.152</td>\n",
       "      <td>0.162</td>\n",
       "    </tr>\n",
       "    <tr>\n",
       "      <th>4</th>\n",
       "      <td>100.0</td>\n",
       "      <td>14.0</td>\n",
       "      <td>NaN</td>\n",
       "      <td>0.140</td>\n",
       "      <td>NaN</td>\n",
       "    </tr>\n",
       "  </tbody>\n",
       "</table>\n",
       "</div>"
      ],
      "text/plain": [
       "   total_area  kitchen_area  living_area  kitch    liv\n",
       "0       100.0          20.0         30.0  0.200  0.300\n",
       "1       100.0           NaN          NaN    NaN    NaN\n",
       "2       100.0           NaN         15.0    NaN  0.150\n",
       "3       100.0          15.2         16.2  0.152  0.162\n",
       "4       100.0          14.0          NaN  0.140    NaN"
      ]
     },
     "execution_count": 182,
     "metadata": {},
     "output_type": "execute_result"
    }
   ],
   "source": [
    "# Так как оставили пропуски в жилой площади и площади кухни, то высчитать простыи деленим соотношение нельзя\n",
    "# Пишем соответствующую функцию\n",
    "def function_closser(value):\n",
    "    value = value\n",
    "    def function_inside(row):\n",
    "        nonlocal value\n",
    "        if pd.isna(row[value]):\n",
    "            return None\n",
    "        return row[value] / row['total_area']\n",
    "    return function_inside\n",
    "  \n",
    "kitchen = function_closser('kitchen_area')\n",
    "living = function_closser('living_area')\n",
    "\n",
    "# Проверка работоспособности функции\n",
    "columns_name = ['total_area','kitchen_area','living_area']\n",
    "data = [\n",
    "    [100.0, 20, 30],\n",
    "    [100, None, None],\n",
    "    [100, None, 15.0],\n",
    "    [100.0, 15.2, 16.2],\n",
    "    [100.0, 14, None]\n",
    "]\n",
    "test_df = pd.DataFrame(data=data, columns=columns_name)\n",
    "test_df['kitch'] = test_df.apply(kitchen, axis=1)\n",
    "test_df['liv'] = test_df.apply(living, axis=1)\n",
    "test_df"
   ]
  },
  {
   "cell_type": "code",
   "execution_count": 183,
   "metadata": {},
   "outputs": [],
   "source": [
    "df['living_balance'] = df.apply(living, axis=1)\n",
    "df['kitchen_balance'] = df.apply(kitchen, axis=1)"
   ]
  },
  {
   "cell_type": "markdown",
   "metadata": {},
   "source": [
    "[Вернуться к содержанию](#main_title)"
   ]
  },
  {
   "cell_type": "markdown",
   "metadata": {},
   "source": [
    "## Исследовательский анализ данных <a id=\"analyze\"></a>"
   ]
  },
  {
   "cell_type": "markdown",
   "metadata": {},
   "source": [
    "### Первоначальная оценка <a id='preanalyze'></a>"
   ]
  },
  {
   "cell_type": "code",
   "execution_count": 184,
   "metadata": {},
   "outputs": [
    {
     "data": {
      "text/html": [
       "<div>\n",
       "<style scoped>\n",
       "    .dataframe tbody tr th:only-of-type {\n",
       "        vertical-align: middle;\n",
       "    }\n",
       "\n",
       "    .dataframe tbody tr th {\n",
       "        vertical-align: top;\n",
       "    }\n",
       "\n",
       "    .dataframe thead th {\n",
       "        text-align: right;\n",
       "    }\n",
       "</style>\n",
       "<table border=\"1\" class=\"dataframe\">\n",
       "  <thead>\n",
       "    <tr style=\"text-align: right;\">\n",
       "      <th></th>\n",
       "      <th>total_area</th>\n",
       "      <th>rooms</th>\n",
       "      <th>last_price</th>\n",
       "      <th>ceiling_height</th>\n",
       "    </tr>\n",
       "  </thead>\n",
       "  <tbody>\n",
       "    <tr>\n",
       "      <th>count</th>\n",
       "      <td>23699.000000</td>\n",
       "      <td>23699.000000</td>\n",
       "      <td>2.369900e+04</td>\n",
       "      <td>14504.000000</td>\n",
       "    </tr>\n",
       "    <tr>\n",
       "      <th>mean</th>\n",
       "      <td>60.348651</td>\n",
       "      <td>2.069328</td>\n",
       "      <td>6.541549e+06</td>\n",
       "      <td>2.771499</td>\n",
       "    </tr>\n",
       "    <tr>\n",
       "      <th>std</th>\n",
       "      <td>35.654083</td>\n",
       "      <td>1.079409</td>\n",
       "      <td>1.088701e+07</td>\n",
       "      <td>1.261056</td>\n",
       "    </tr>\n",
       "    <tr>\n",
       "      <th>min</th>\n",
       "      <td>12.000000</td>\n",
       "      <td>0.000000</td>\n",
       "      <td>1.219000e+04</td>\n",
       "      <td>1.000000</td>\n",
       "    </tr>\n",
       "    <tr>\n",
       "      <th>25%</th>\n",
       "      <td>40.000000</td>\n",
       "      <td>1.000000</td>\n",
       "      <td>3.400000e+06</td>\n",
       "      <td>2.520000</td>\n",
       "    </tr>\n",
       "    <tr>\n",
       "      <th>50%</th>\n",
       "      <td>52.000000</td>\n",
       "      <td>2.000000</td>\n",
       "      <td>4.650000e+06</td>\n",
       "      <td>2.650000</td>\n",
       "    </tr>\n",
       "    <tr>\n",
       "      <th>75%</th>\n",
       "      <td>69.900000</td>\n",
       "      <td>3.000000</td>\n",
       "      <td>6.800000e+06</td>\n",
       "      <td>2.800000</td>\n",
       "    </tr>\n",
       "    <tr>\n",
       "      <th>max</th>\n",
       "      <td>900.000000</td>\n",
       "      <td>19.000000</td>\n",
       "      <td>7.630000e+08</td>\n",
       "      <td>100.000000</td>\n",
       "    </tr>\n",
       "  </tbody>\n",
       "</table>\n",
       "</div>"
      ],
      "text/plain": [
       "         total_area         rooms    last_price  ceiling_height\n",
       "count  23699.000000  23699.000000  2.369900e+04    14504.000000\n",
       "mean      60.348651      2.069328  6.541549e+06        2.771499\n",
       "std       35.654083      1.079409  1.088701e+07        1.261056\n",
       "min       12.000000      0.000000  1.219000e+04        1.000000\n",
       "25%       40.000000      1.000000  3.400000e+06        2.520000\n",
       "50%       52.000000      2.000000  4.650000e+06        2.650000\n",
       "75%       69.900000      3.000000  6.800000e+06        2.800000\n",
       "max      900.000000     19.000000  7.630000e+08      100.000000"
      ]
     },
     "execution_count": 184,
     "metadata": {},
     "output_type": "execute_result"
    }
   ],
   "source": [
    "# Буду рад подсказки как вывести иначе describe на определенные столбцы\n",
    "pivot = df['total_area'].describe()\n",
    "for name in ['rooms', 'last_price', 'ceiling_height']:\n",
    "    pivot = pd.concat([pivot, df[name].describe()],axis=1)\n",
    "pivot"
   ]
  },
  {
   "cell_type": "markdown",
   "metadata": {},
   "source": [
    "Смотрим на столбцы внимательно и понимаем, что минимальная стоимость квартиры 12190... значение уникальное. стоит его удалить. \n",
    "Также проблема с высотами потолков надо заменить значение свыше 7.5 метров на None и менее 2метров.\n",
    "19 комнат в квартире 370метров... поверим, может ранее была коммуналка"
   ]
  },
  {
   "cell_type": "code",
   "execution_count": 185,
   "metadata": {},
   "outputs": [],
   "source": [
    "df = df.query('last_price > 13000' )"
   ]
  },
  {
   "cell_type": "code",
   "execution_count": 186,
   "metadata": {},
   "outputs": [],
   "source": [
    "def check_height(row):\n",
    "    if row < 7.5 and row > 2:\n",
    "        return row\n",
    "\n",
    "# Проверка работоспособности функции:\n",
    "columns_name = ['ceiling_height', 'rooms']\n",
    "data = [[None, 1], [1.2, 4], [3, 2], [5, 2], [8,3]]\n",
    "test_df = pd.DataFrame(data=data, columns=columns_name)\n",
    "test_df['ceiling_height'] = test_df['ceiling_height'].apply(check_height)\n",
    "# test_df"
   ]
  },
  {
   "cell_type": "code",
   "execution_count": 187,
   "metadata": {},
   "outputs": [],
   "source": [
    "df['ceiling_height'] = df['ceiling_height'].apply(check_height)"
   ]
  },
  {
   "cell_type": "markdown",
   "metadata": {},
   "source": [
    "[Вернуться к содержанию](#main_title)"
   ]
  },
  {
   "cell_type": "markdown",
   "metadata": {},
   "source": [
    "### Построение гистограмм <a id='diagram'></a> (площадь, цена, число комнат, высота потолков)"
   ]
  },
  {
   "cell_type": "code",
   "execution_count": 188,
   "metadata": {},
   "outputs": [
    {
     "data": {
      "text/plain": [
       "count    23698.000000\n",
       "mean        60.346598\n",
       "std         35.653434\n",
       "min         12.000000\n",
       "25%         40.000000\n",
       "50%         52.000000\n",
       "75%         69.875000\n",
       "max        900.000000\n",
       "Name: total_area, dtype: float64"
      ]
     },
     "execution_count": 188,
     "metadata": {},
     "output_type": "execute_result"
    }
   ],
   "source": [
    "df['total_area'].describe()"
   ]
  },
  {
   "cell_type": "code",
   "execution_count": 189,
   "metadata": {},
   "outputs": [
    {
     "data": {
      "text/plain": [
       "<AxesSubplot:>"
      ]
     },
     "execution_count": 189,
     "metadata": {},
     "output_type": "execute_result"
    },
    {
     "data": {
      "image/png": "[encoded data removed]",
      "text/plain": [
       "<Figure size 1296x288 with 1 Axes>"
      ]
     },
     "metadata": {},
     "output_type": "display_data"
    }
   ],
   "source": [
    "df['total_area'].hist(bins=100, range=(10, 500),figsize=(18,4))"
   ]
  },
  {
   "cell_type": "code",
   "execution_count": 190,
   "metadata": {},
   "outputs": [
    {
     "data": {
      "text/plain": [
       "<AxesSubplot:>"
      ]
     },
     "execution_count": 190,
     "metadata": {},
     "output_type": "execute_result"
    },
    {
     "data": {
      "image/png": "[encoded data removed]",
      "text/plain": [
       "<Figure size 432x288 with 1 Axes>"
      ]
     },
     "metadata": {},
     "output_type": "display_data"
    }
   ],
   "source": [
    "df.boxplot('total_area')"
   ]
  },
  {
   "cell_type": "code",
   "execution_count": 191,
   "metadata": {},
   "outputs": [],
   "source": [
    "# видим бяку. прикидываем нормальные значеня и чистим по ним\n",
    "normal_value_area = (69.875 - 40.0)*1.5 + 69.875\n",
    "df = df.query('total_area <= @normal_value_area')"
   ]
  },
  {
   "cell_type": "code",
   "execution_count": 192,
   "metadata": {},
   "outputs": [
    {
     "data": {
      "text/plain": [
       "1    8027\n",
       "2    7901\n",
       "3    5442\n",
       "4     792\n",
       "0     214\n",
       "5      72\n",
       "6       9\n",
       "7       1\n",
       "Name: rooms, dtype: int64"
      ]
     },
     "execution_count": 192,
     "metadata": {},
     "output_type": "execute_result"
    }
   ],
   "source": [
    "df['rooms'].value_counts()"
   ]
  },
  {
   "cell_type": "code",
   "execution_count": 193,
   "metadata": {},
   "outputs": [],
   "source": [
    "df = df.query('rooms <= 5')"
   ]
  },
  {
   "cell_type": "code",
   "execution_count": 194,
   "metadata": {},
   "outputs": [
    {
     "data": {
      "text/plain": [
       "<AxesSubplot:>"
      ]
     },
     "execution_count": 194,
     "metadata": {},
     "output_type": "execute_result"
    },
    {
     "data": {
      "image/png": "[encoded data removed]",
      "text/plain": [
       "<Figure size 504x288 with 1 Axes>"
      ]
     },
     "metadata": {},
     "output_type": "display_data"
    }
   ],
   "source": [
    "df['rooms'].hist(bins=5, range=(0, 5), figsize=(7, 4))"
   ]
  },
  {
   "cell_type": "code",
   "execution_count": 195,
   "metadata": {},
   "outputs": [
    {
     "data": {
      "text/plain": [
       "<AxesSubplot:>"
      ]
     },
     "execution_count": 195,
     "metadata": {},
     "output_type": "execute_result"
    },
    {
     "data": {
      "image/png": "[encoded data removed]",
      "text/plain": [
       "<Figure size 1296x288 with 1 Axes>"
      ]
     },
     "metadata": {},
     "output_type": "display_data"
    }
   ],
   "source": [
    "df['last_price'].hist(bins=50,figsize=(18,4))"
   ]
  },
  {
   "cell_type": "code",
   "execution_count": 196,
   "metadata": {},
   "outputs": [],
   "source": [
    "df['last_price'].describe()\n",
    "max_normal_price = (6300000 - 3355000)*1.5 + 6300000\n",
    "df = df.query('last_price <= @max_normal_price')"
   ]
  },
  {
   "cell_type": "code",
   "execution_count": 197,
   "metadata": {},
   "outputs": [
    {
     "data": {
      "text/plain": [
       "<AxesSubplot:>"
      ]
     },
     "execution_count": 197,
     "metadata": {},
     "output_type": "execute_result"
    },
    {
     "data": {
      "image/png": "[encoded data removed]",
      "text/plain": [
       "<Figure size 432x288 with 1 Axes>"
      ]
     },
     "metadata": {},
     "output_type": "display_data"
    }
   ],
   "source": [
    "df.boxplot('last_price')  # Boxplot выглядит хорошо. выбросы уже почистили\n"
   ]
  },
  {
   "cell_type": "code",
   "execution_count": 198,
   "metadata": {},
   "outputs": [
    {
     "data": {
      "text/plain": [
       "count    12701.000000\n",
       "mean         2.680857\n",
       "std          0.225698\n",
       "min          2.200000\n",
       "25%          2.500000\n",
       "50%          2.600000\n",
       "75%          2.750000\n",
       "max          5.800000\n",
       "Name: ceiling_height, dtype: float64"
      ]
     },
     "execution_count": 198,
     "metadata": {},
     "output_type": "execute_result"
    }
   ],
   "source": [
    "df['ceiling_height'].describe()"
   ]
  },
  {
   "cell_type": "code",
   "execution_count": 199,
   "metadata": {},
   "outputs": [
    {
     "data": {
      "text/plain": [
       "<AxesSubplot:>"
      ]
     },
     "execution_count": 199,
     "metadata": {},
     "output_type": "execute_result"
    },
    {
     "data": {
      "image/png": "[encoded data removed]",
      "text/plain": [
       "<Figure size 1296x288 with 1 Axes>"
      ]
     },
     "metadata": {},
     "output_type": "display_data"
    }
   ],
   "source": [
    "df['ceiling_height'].hist(bins=50,figsize=(18,4), range=(2, 6))"
   ]
  },
  {
   "cell_type": "code",
   "execution_count": 200,
   "metadata": {},
   "outputs": [],
   "source": [
    "# Тут удалять 1.5 межквартильного размаха не хочется... оставим до 4 метров выборку(В Питере все таки попадаются старые дома с высокими полками)\n",
    "df = df.query('ceiling_height <= 4')"
   ]
  },
  {
   "cell_type": "markdown",
   "metadata": {},
   "source": [
    "[Вернуться к содержанию](#main_title)"
   ]
  },
  {
   "cell_type": "markdown",
   "metadata": {},
   "source": [
    "### Время продажи квартиры <a id='sell_time'></a>"
   ]
  },
  {
   "cell_type": "code",
   "execution_count": 201,
   "metadata": {},
   "outputs": [
    {
     "data": {
      "text/plain": [
       "<AxesSubplot:>"
      ]
     },
     "execution_count": 201,
     "metadata": {},
     "output_type": "execute_result"
    },
    {
     "data": {
      "image/png": "[encoded data removed]",
      "text/plain": [
       "<Figure size 1296x288 with 1 Axes>"
      ]
     },
     "metadata": {},
     "output_type": "display_data"
    }
   ],
   "source": [
    "df['days_exposition'].hist(figsize=(18,4),bins=30, range=(0,500))"
   ]
  },
  {
   "cell_type": "code",
   "execution_count": 202,
   "metadata": {},
   "outputs": [
    {
     "data": {
      "text/plain": [
       "count    10729.000000\n",
       "mean       178.863454\n",
       "std        216.318840\n",
       "min          1.000000\n",
       "25%         43.000000\n",
       "50%         96.000000\n",
       "75%        230.000000\n",
       "max       1580.000000\n",
       "Name: days_exposition, dtype: float64"
      ]
     },
     "execution_count": 202,
     "metadata": {},
     "output_type": "execute_result"
    }
   ],
   "source": [
    "df['days_exposition'].describe()"
   ]
  },
  {
   "cell_type": "code",
   "execution_count": 203,
   "metadata": {},
   "outputs": [
    {
     "data": {
      "image/png": "[encoded data removed]",
      "text/plain": [
       "<Figure size 432x288 with 1 Axes>"
      ]
     },
     "metadata": {},
     "output_type": "display_data"
    }
   ],
   "source": [
    "sns.boxplot(x=df['days_exposition'])\n",
    "plt.xlim(0,600)\n",
    "plt.show()"
   ]
  },
  {
   "cell_type": "markdown",
   "metadata": {},
   "source": [
    "**Промежуточный вывод**  \n",
    "Медианное время продажи квартиры 95 дней, свыше 230 дней можно считать долгим. Время продажи свыше 500 дней - очень долго... \n",
    "продажи которые прошли менее чем за полтора месяца : можно считать быстрыми."
   ]
  },
  {
   "cell_type": "code",
   "execution_count": 204,
   "metadata": {},
   "outputs": [],
   "source": [
    "df.reset_index(drop=True, inplace=True)  # Обновил индексы... ну так чтоб красиво было."
   ]
  },
  {
   "cell_type": "markdown",
   "metadata": {},
   "source": [
    "[Вернуться к содержанию](#main_title)"
   ]
  },
  {
   "cell_type": "markdown",
   "metadata": {},
   "source": [
    "### Зависимость стоимости <a id='price_depended'></a>"
   ]
  },
  {
   "cell_type": "code",
   "execution_count": 205,
   "metadata": {},
   "outputs": [
    {
     "data": {
      "text/html": [
       "<div>\n",
       "<style scoped>\n",
       "    .dataframe tbody tr th:only-of-type {\n",
       "        vertical-align: middle;\n",
       "    }\n",
       "\n",
       "    .dataframe tbody tr th {\n",
       "        vertical-align: top;\n",
       "    }\n",
       "\n",
       "    .dataframe thead th {\n",
       "        text-align: right;\n",
       "    }\n",
       "</style>\n",
       "<table border=\"1\" class=\"dataframe\">\n",
       "  <thead>\n",
       "    <tr style=\"text-align: right;\">\n",
       "      <th></th>\n",
       "      <th>total_area</th>\n",
       "      <th>price_one_metr</th>\n",
       "      <th>rooms</th>\n",
       "      <th>cityCenters_nearest</th>\n",
       "    </tr>\n",
       "  </thead>\n",
       "  <tbody>\n",
       "    <tr>\n",
       "      <th>total_area</th>\n",
       "      <td>1.000000</td>\n",
       "      <td>-0.131745</td>\n",
       "      <td>0.806707</td>\n",
       "      <td>-0.114225</td>\n",
       "    </tr>\n",
       "    <tr>\n",
       "      <th>price_one_metr</th>\n",
       "      <td>-0.131745</td>\n",
       "      <td>1.000000</td>\n",
       "      <td>-0.261739</td>\n",
       "      <td>-0.388102</td>\n",
       "    </tr>\n",
       "    <tr>\n",
       "      <th>rooms</th>\n",
       "      <td>0.806707</td>\n",
       "      <td>-0.261739</td>\n",
       "      <td>1.000000</td>\n",
       "      <td>-0.063593</td>\n",
       "    </tr>\n",
       "    <tr>\n",
       "      <th>cityCenters_nearest</th>\n",
       "      <td>-0.114225</td>\n",
       "      <td>-0.388102</td>\n",
       "      <td>-0.063593</td>\n",
       "      <td>1.000000</td>\n",
       "    </tr>\n",
       "  </tbody>\n",
       "</table>\n",
       "</div>"
      ],
      "text/plain": [
       "                     total_area  price_one_metr     rooms  cityCenters_nearest\n",
       "total_area             1.000000       -0.131745  0.806707            -0.114225\n",
       "price_one_metr        -0.131745        1.000000 -0.261739            -0.388102\n",
       "rooms                  0.806707       -0.261739  1.000000            -0.063593\n",
       "cityCenters_nearest   -0.114225       -0.388102 -0.063593             1.000000"
      ]
     },
     "execution_count": 205,
     "metadata": {},
     "output_type": "execute_result"
    }
   ],
   "source": [
    "df[['total_area','price_one_metr','rooms','cityCenters_nearest']].corr()"
   ]
  },
  {
   "cell_type": "code",
   "execution_count": 206,
   "metadata": {},
   "outputs": [
    {
     "data": {
      "text/plain": [
       "<AxesSubplot:xlabel='rooms', ylabel='price_one_metr'>"
      ]
     },
     "execution_count": 206,
     "metadata": {},
     "output_type": "execute_result"
    },
    {
     "data": {
      "image/png": "[encoded data removed]",
      "text/plain": [
       "<Figure size 432x288 with 1 Axes>"
      ]
     },
     "metadata": {},
     "output_type": "display_data"
    }
   ],
   "source": [
    "df.plot(y='price_one_metr', x='rooms', kind='scatter', alpha=0.02)"
   ]
  },
  {
   "cell_type": "code",
   "execution_count": 207,
   "metadata": {},
   "outputs": [
    {
     "data": {
      "text/plain": [
       "<AxesSubplot:xlabel='rooms', ylabel='price_one_metr'>"
      ]
     },
     "execution_count": 207,
     "metadata": {},
     "output_type": "execute_result"
    },
    {
     "data": {
      "image/png": "[encoded data removed]",
      "text/plain": [
       "<Figure size 432x288 with 1 Axes>"
      ]
     },
     "metadata": {},
     "output_type": "display_data"
    }
   ],
   "source": [
    "df.plot(y='price_one_metr', x='rooms', kind='scatter', alpha=0.1, ylim=(00000,200000))"
   ]
  },
  {
   "cell_type": "code",
   "execution_count": 208,
   "metadata": {},
   "outputs": [
    {
     "data": {
      "text/plain": [
       "<AxesSubplot:xlabel='total_area', ylabel='price_one_metr'>"
      ]
     },
     "execution_count": 208,
     "metadata": {},
     "output_type": "execute_result"
    },
    {
     "data": {
      "image/png": "[encoded data removed]",
      "text/plain": [
       "<Figure size 432x288 with 1 Axes>"
      ]
     },
     "metadata": {},
     "output_type": "display_data"
    }
   ],
   "source": [
    "df.plot(y='price_one_metr', x='total_area', kind='scatter', alpha=0.02, ylim=(25000,200000))"
   ]
  },
  {
   "cell_type": "markdown",
   "metadata": {},
   "source": [
    "Вообщем корреляция Пирсона дает более понятный ответ, зависимость между кол-вом комнат и стоимостью есть, но не сильная. (студии подороже чем квартира разбитая на большое кол-во комнат)\n",
    "Ну также ооочень слабая зависимость видна: что маленькие квартиры в среднем имеют более дорогую стоимость за кв.м., связанно скорее всего с ликвидностью такого жилья."
   ]
  },
  {
   "cell_type": "code",
   "execution_count": 209,
   "metadata": {},
   "outputs": [
    {
     "data": {
      "text/plain": [
       "category_floor_Первый           -0.162907\n",
       "category_floor_Другой            0.213975\n",
       "category_floor_Заключительный   -0.114863\n",
       "dtype: float64"
      ]
     },
     "execution_count": 209,
     "metadata": {},
     "output_type": "execute_result"
    }
   ],
   "source": [
    "df = pd.get_dummies(df, columns=['category_floor'])  # Делаем столбцы с разными категориями этажности для анализа\n",
    "df[['category_floor_Первый',\n",
    "    'category_floor_Другой', 'category_floor_Заключительный']].corrwith(df.price_one_metr)"
   ]
  },
  {
   "cell_type": "markdown",
   "metadata": {},
   "source": [
    "Корреляция прослеживается, стоимость вполне адекватно распределилась сначала первые этажи(дешевые) -> последний() -> другие"
   ]
  },
  {
   "cell_type": "code",
   "execution_count": 210,
   "metadata": {},
   "outputs": [
    {
     "data": {
      "text/plain": [
       "weekday   -0.014222\n",
       "month     -0.012263\n",
       "year       0.105501\n",
       "dtype: float64"
      ]
     },
     "execution_count": 210,
     "metadata": {},
     "output_type": "execute_result"
    }
   ],
   "source": [
    "df[['weekday', 'month', 'year']].corrwith(df.price_one_metr)"
   ]
  },
  {
   "cell_type": "markdown",
   "metadata": {},
   "source": [
    "Зависимости от даты и месяца публикации корреляция не особ прослеживается. а вот тендеция увеличения стоимсоти из года в год прослеживается."
   ]
  },
  {
   "cell_type": "code",
   "execution_count": 211,
   "metadata": {},
   "outputs": [
    {
     "data": {
      "text/html": [
       "<div>\n",
       "<style scoped>\n",
       "    .dataframe tbody tr th:only-of-type {\n",
       "        vertical-align: middle;\n",
       "    }\n",
       "\n",
       "    .dataframe tbody tr th {\n",
       "        vertical-align: top;\n",
       "    }\n",
       "\n",
       "    .dataframe thead th {\n",
       "        text-align: right;\n",
       "    }\n",
       "</style>\n",
       "<table border=\"1\" class=\"dataframe\">\n",
       "  <thead>\n",
       "    <tr style=\"text-align: right;\">\n",
       "      <th></th>\n",
       "      <th>count</th>\n",
       "      <th>median</th>\n",
       "    </tr>\n",
       "    <tr>\n",
       "      <th>locality_name</th>\n",
       "      <th></th>\n",
       "      <th></th>\n",
       "    </tr>\n",
       "  </thead>\n",
       "  <tbody>\n",
       "    <tr>\n",
       "      <th>Санкт-Петербург</th>\n",
       "      <td>8405</td>\n",
       "      <td>102040.816327</td>\n",
       "    </tr>\n",
       "    <tr>\n",
       "      <th>Пушкин</th>\n",
       "      <td>209</td>\n",
       "      <td>98214.285714</td>\n",
       "    </tr>\n",
       "    <tr>\n",
       "      <th>деревня Кудрово</th>\n",
       "      <td>122</td>\n",
       "      <td>91292.031791</td>\n",
       "    </tr>\n",
       "    <tr>\n",
       "      <th>посёлок Парголово</th>\n",
       "      <td>137</td>\n",
       "      <td>91040.462428</td>\n",
       "    </tr>\n",
       "    <tr>\n",
       "      <th>посёлок Мурино</th>\n",
       "      <td>198</td>\n",
       "      <td>86157.557209</td>\n",
       "    </tr>\n",
       "    <tr>\n",
       "      <th>Петергоф</th>\n",
       "      <td>138</td>\n",
       "      <td>81901.425762</td>\n",
       "    </tr>\n",
       "    <tr>\n",
       "      <th>посёлок Шушары</th>\n",
       "      <td>215</td>\n",
       "      <td>77735.849057</td>\n",
       "    </tr>\n",
       "    <tr>\n",
       "      <th>Колпино</th>\n",
       "      <td>201</td>\n",
       "      <td>74725.274725</td>\n",
       "    </tr>\n",
       "    <tr>\n",
       "      <th>Гатчина</th>\n",
       "      <td>146</td>\n",
       "      <td>68979.744936</td>\n",
       "    </tr>\n",
       "    <tr>\n",
       "      <th>Всеволожск</th>\n",
       "      <td>267</td>\n",
       "      <td>65789.473684</td>\n",
       "    </tr>\n",
       "  </tbody>\n",
       "</table>\n",
       "</div>"
      ],
      "text/plain": [
       "                   count         median\n",
       "locality_name                          \n",
       "Санкт-Петербург     8405  102040.816327\n",
       "Пушкин               209   98214.285714\n",
       "деревня Кудрово      122   91292.031791\n",
       "посёлок Парголово    137   91040.462428\n",
       "посёлок Мурино       198   86157.557209\n",
       "Петергоф             138   81901.425762\n",
       "посёлок Шушары       215   77735.849057\n",
       "Колпино              201   74725.274725\n",
       "Гатчина              146   68979.744936\n",
       "Всеволожск           267   65789.473684"
      ]
     },
     "execution_count": 211,
     "metadata": {},
     "output_type": "execute_result"
    }
   ],
   "source": [
    "# Группируем по поселкам(взяли медианное значение стоимости)\n",
    "df_local = df.pivot_table(\n",
    "    index=['locality_name'], values='price_one_metr', aggfunc=['count', 'median'])\n",
    "df_local.columns = ['count', 'median']\n",
    "# Выбираем 10 поселков с наибольшим кол-вом данных\n",
    "df_local = df_local.sort_values(by='count', ascending=False).head(10)\n",
    "# Сортируем по медианной стоимости за кв.м\n",
    "df_local.sort_values(by='median', ascending=False)\n"
   ]
  },
  {
   "cell_type": "markdown",
   "metadata": {},
   "source": [
    "[Вернуться к содержанию](#main_title)"
   ]
  },
  {
   "cell_type": "markdown",
   "metadata": {},
   "source": [
    "### Зависимость стоимости от удалености к центру <a id='price_depended_centre'></a>"
   ]
  },
  {
   "cell_type": "code",
   "execution_count": 212,
   "metadata": {},
   "outputs": [],
   "source": [
    "df_centre = df.query(\"locality_name == 'Санкт-Петербург'\").dropna(subset=['cityCenters_nearest'])\n",
    "df_centre['kilometers_to_centre'] = df_centre['cityCenters_nearest'].apply(lambda x: int(x/1000)) \n",
    "df_centre = df_centre.pivot_table(index='kilometers_to_centre', values='price_one_metr', aggfunc=['count','mean','median'])\n",
    "df_centre.columns = ['count','mean','median']\n",
    "df_centre[['mean','median']] = df_centre[['mean','median']].astype(int)"
   ]
  },
  {
   "cell_type": "markdown",
   "metadata": {},
   "source": [
    "Видим что среднее от медианы не сильно отличается, разницы принципиальной нет по какому значению строить график"
   ]
  },
  {
   "cell_type": "code",
   "execution_count": 213,
   "metadata": {},
   "outputs": [
    {
     "data": {
      "text/plain": [
       "<AxesSubplot:xlabel='kilometers_to_centre', ylabel='mean'>"
      ]
     },
     "execution_count": 213,
     "metadata": {},
     "output_type": "execute_result"
    },
    {
     "data": {
      "image/png": "[encoded data removed]",
      "text/plain": [
       "<Figure size 432x288 with 1 Axes>"
      ]
     },
     "metadata": {},
     "output_type": "display_data"
    }
   ],
   "source": [
    "sns.set_style('whitegrid')\n",
    "sns.lineplot(data=df_centre.query('kilometers_to_centre < 23'), y='mean', x='kilometers_to_centre')"
   ]
  },
  {
   "cell_type": "markdown",
   "metadata": {},
   "source": [
    "По графику видно, что чем ближе к центру, тем цена выше, довольно отчетливо видно, что максимальнай цена примерно до 7-8км от центра(по данным янд.недвижемости), далее цена медленно понижаться. есть всплеск в 20км, скорее всего это какое то элитное жилье, аля \"Рублёвка\" в экологически чистом районе."
   ]
  },
  {
   "cell_type": "code",
   "execution_count": 214,
   "metadata": {},
   "outputs": [
    {
     "data": {
      "text/html": [
       "<div>\n",
       "<style scoped>\n",
       "    .dataframe tbody tr th:only-of-type {\n",
       "        vertical-align: middle;\n",
       "    }\n",
       "\n",
       "    .dataframe tbody tr th {\n",
       "        vertical-align: top;\n",
       "    }\n",
       "\n",
       "    .dataframe thead th {\n",
       "        text-align: right;\n",
       "    }\n",
       "</style>\n",
       "<table border=\"1\" class=\"dataframe\">\n",
       "  <thead>\n",
       "    <tr style=\"text-align: right;\">\n",
       "      <th></th>\n",
       "      <th>total_area</th>\n",
       "      <th>price_one_metr</th>\n",
       "      <th>rooms</th>\n",
       "      <th>ceiling_height</th>\n",
       "    </tr>\n",
       "  </thead>\n",
       "  <tbody>\n",
       "    <tr>\n",
       "      <th>count</th>\n",
       "      <td>1304.000000</td>\n",
       "      <td>1304.000000</td>\n",
       "      <td>1304.000000</td>\n",
       "      <td>1304.000000</td>\n",
       "    </tr>\n",
       "    <tr>\n",
       "      <th>mean</th>\n",
       "      <td>64.052370</td>\n",
       "      <td>116644.515883</td>\n",
       "      <td>2.303681</td>\n",
       "      <td>3.000590</td>\n",
       "    </tr>\n",
       "    <tr>\n",
       "      <th>std</th>\n",
       "      <td>20.641947</td>\n",
       "      <td>28820.602806</td>\n",
       "      <td>0.974637</td>\n",
       "      <td>0.317335</td>\n",
       "    </tr>\n",
       "    <tr>\n",
       "      <th>min</th>\n",
       "      <td>12.000000</td>\n",
       "      <td>17391.304348</td>\n",
       "      <td>0.000000</td>\n",
       "      <td>2.400000</td>\n",
       "    </tr>\n",
       "    <tr>\n",
       "      <th>25%</th>\n",
       "      <td>48.000000</td>\n",
       "      <td>95535.991312</td>\n",
       "      <td>2.000000</td>\n",
       "      <td>2.750000</td>\n",
       "    </tr>\n",
       "    <tr>\n",
       "      <th>50%</th>\n",
       "      <td>62.950000</td>\n",
       "      <td>111412.264025</td>\n",
       "      <td>2.000000</td>\n",
       "      <td>3.000000</td>\n",
       "    </tr>\n",
       "    <tr>\n",
       "      <th>75%</th>\n",
       "      <td>78.000000</td>\n",
       "      <td>133345.752608</td>\n",
       "      <td>3.000000</td>\n",
       "      <td>3.200000</td>\n",
       "    </tr>\n",
       "    <tr>\n",
       "      <th>max</th>\n",
       "      <td>114.000000</td>\n",
       "      <td>240000.040000</td>\n",
       "      <td>5.000000</td>\n",
       "      <td>4.000000</td>\n",
       "    </tr>\n",
       "  </tbody>\n",
       "</table>\n",
       "</div>"
      ],
      "text/plain": [
       "        total_area  price_one_metr        rooms  ceiling_height\n",
       "count  1304.000000     1304.000000  1304.000000     1304.000000\n",
       "mean     64.052370   116644.515883     2.303681        3.000590\n",
       "std      20.641947    28820.602806     0.974637        0.317335\n",
       "min      12.000000    17391.304348     0.000000        2.400000\n",
       "25%      48.000000    95535.991312     2.000000        2.750000\n",
       "50%      62.950000   111412.264025     2.000000        3.000000\n",
       "75%      78.000000   133345.752608     3.000000        3.200000\n",
       "max     114.000000   240000.040000     5.000000        4.000000"
      ]
     },
     "execution_count": 214,
     "metadata": {},
     "output_type": "execute_result"
    }
   ],
   "source": [
    "df.query('cityCenters_nearest <= 7500')[['total_area', 'price_one_metr','rooms','ceiling_height']].describe()\n"
   ]
  },
  {
   "cell_type": "code",
   "execution_count": 215,
   "metadata": {},
   "outputs": [
    {
     "data": {
      "text/plain": [
       "<AxesSubplot:>"
      ]
     },
     "execution_count": 215,
     "metadata": {},
     "output_type": "execute_result"
    },
    {
     "data": {
      "image/png": "[encoded data removed]",
      "text/plain": [
       "<Figure size 432x288 with 1 Axes>"
      ]
     },
     "metadata": {},
     "output_type": "display_data"
    }
   ],
   "source": [
    "df.query('cityCenters_nearest <= 7500').boxplot('price_one_metr')"
   ]
  },
  {
   "cell_type": "code",
   "execution_count": 216,
   "metadata": {},
   "outputs": [
    {
     "data": {
      "text/plain": [
       "total_area            -0.576615\n",
       "rooms                 -0.562754\n",
       "ceiling_height        -0.114210\n",
       "cityCenters_nearest    0.093773\n",
       "dtype: float64"
      ]
     },
     "execution_count": 216,
     "metadata": {},
     "output_type": "execute_result"
    }
   ],
   "source": [
    "# Отбросим выбросы\n",
    "df.query('cityCenters_nearest <= 7500 and price_one_metr >= 60000 and price_one_metr <=190000')[\n",
    "    ['total_area', 'rooms', 'ceiling_height', 'cityCenters_nearest']].corrwith(df.price_one_metr)\n",
    "\n"
   ]
  },
  {
   "cell_type": "markdown",
   "metadata": {},
   "source": [
    "Очень интересно... получается в маленьких квартирах стоимость за 1кв.м дороже, чем в большой квартире. и странно что практически отсутствует корреляция с высотой потолка и вообще она обратная: выше потолок - меньше стоимость. удаленности от центра на таком расстояние не сильно влияет на стоимость. Хотя если сделать выборку по удаленности менее 4500 метров - то там корреляция будет отрицательная."
   ]
  },
  {
   "cell_type": "markdown",
   "metadata": {},
   "source": [
    "[Вернуться к содержанию](#main_title)"
   ]
  },
  {
   "cell_type": "markdown",
   "metadata": {},
   "source": [
    "### Ликвидность квартир в центре <a id='liquid_centre'></a>"
   ]
  },
  {
   "cell_type": "code",
   "execution_count": 219,
   "metadata": {},
   "outputs": [
    {
     "name": "stderr",
     "output_type": "stream",
     "text": [
      "C:\\Users\\Bacek\\AppData\\Local\\Temp/ipykernel_22100/2369678646.py:2: SettingWithCopyWarning: \n",
      "A value is trying to be set on a copy of a slice from a DataFrame.\n",
      "Try using .loc[row_indexer,col_indexer] = value instead\n",
      "\n",
      "See the caveats in the documentation: https://pandas.pydata.org/pandas-docs/stable/user_guide/indexing.html#returning-a-view-versus-a-copy\n",
      "  df_centre_liquid['total_area_category'] = pd.qcut(df_centre_liquid['total_area'], q=10)\n"
     ]
    },
    {
     "data": {
      "text/plain": [
       "(45.98, 51.0]     133\n",
       "(75.0, 83.0]      131\n",
       "(12.999, 39.0]    129\n",
       "(69.28, 75.0]     128\n",
       "(94.0, 114.0]     127\n",
       "(39.0, 45.98]     126\n",
       "(51.0, 57.5]      126\n",
       "(63.3, 69.28]     126\n",
       "(57.5, 63.3]      125\n",
       "(83.0, 94.0]      124\n",
       "Name: total_area_category, dtype: int64"
      ]
     },
     "execution_count": 219,
     "metadata": {},
     "output_type": "execute_result"
    }
   ],
   "source": [
    "df_centre_liquid = df.query('cityCenters_nearest <= 7500 and price_one_metr >= 60000 and price_one_metr <=190000')\n",
    "df_centre_liquid['total_area_category'] = pd.qcut(df_centre_liquid['total_area'], q=10)"
   ]
  },
  {
   "cell_type": "code",
   "execution_count": 221,
   "metadata": {},
   "outputs": [
    {
     "data": {
      "text/html": [
       "<div>\n",
       "<style scoped>\n",
       "    .dataframe tbody tr th:only-of-type {\n",
       "        vertical-align: middle;\n",
       "    }\n",
       "\n",
       "    .dataframe tbody tr th {\n",
       "        vertical-align: top;\n",
       "    }\n",
       "\n",
       "    .dataframe thead tr th {\n",
       "        text-align: left;\n",
       "    }\n",
       "\n",
       "    .dataframe thead tr:last-of-type th {\n",
       "        text-align: right;\n",
       "    }\n",
       "</style>\n",
       "<table border=\"1\" class=\"dataframe\">\n",
       "  <thead>\n",
       "    <tr>\n",
       "      <th></th>\n",
       "      <th colspan=\"2\" halign=\"left\">mean</th>\n",
       "      <th colspan=\"2\" halign=\"left\">median</th>\n",
       "    </tr>\n",
       "    <tr>\n",
       "      <th></th>\n",
       "      <th>days_exposition</th>\n",
       "      <th>price_one_metr</th>\n",
       "      <th>days_exposition</th>\n",
       "      <th>price_one_metr</th>\n",
       "    </tr>\n",
       "    <tr>\n",
       "      <th>total_area_category</th>\n",
       "      <th></th>\n",
       "      <th></th>\n",
       "      <th></th>\n",
       "      <th></th>\n",
       "    </tr>\n",
       "  </thead>\n",
       "  <tbody>\n",
       "    <tr>\n",
       "      <th>(12.999, 39.0]</th>\n",
       "      <td>97.926606</td>\n",
       "      <td>136367.876094</td>\n",
       "      <td>60.0</td>\n",
       "      <td>134975.369458</td>\n",
       "    </tr>\n",
       "    <tr>\n",
       "      <th>(39.0, 45.98]</th>\n",
       "      <td>209.732759</td>\n",
       "      <td>134592.437549</td>\n",
       "      <td>108.0</td>\n",
       "      <td>130266.921909</td>\n",
       "    </tr>\n",
       "    <tr>\n",
       "      <th>(45.98, 51.0]</th>\n",
       "      <td>226.413223</td>\n",
       "      <td>126073.495592</td>\n",
       "      <td>118.0</td>\n",
       "      <td>123203.285421</td>\n",
       "    </tr>\n",
       "    <tr>\n",
       "      <th>(51.0, 57.5]</th>\n",
       "      <td>141.733333</td>\n",
       "      <td>120944.409387</td>\n",
       "      <td>91.0</td>\n",
       "      <td>118979.416810</td>\n",
       "    </tr>\n",
       "    <tr>\n",
       "      <th>(57.5, 63.3]</th>\n",
       "      <td>210.141414</td>\n",
       "      <td>119920.613564</td>\n",
       "      <td>97.0</td>\n",
       "      <td>120000.000000</td>\n",
       "    </tr>\n",
       "    <tr>\n",
       "      <th>(63.3, 69.28]</th>\n",
       "      <td>271.615385</td>\n",
       "      <td>115347.628782</td>\n",
       "      <td>164.5</td>\n",
       "      <td>108337.607448</td>\n",
       "    </tr>\n",
       "    <tr>\n",
       "      <th>(69.28, 75.0]</th>\n",
       "      <td>259.682692</td>\n",
       "      <td>108227.978536</td>\n",
       "      <td>160.5</td>\n",
       "      <td>107316.546930</td>\n",
       "    </tr>\n",
       "    <tr>\n",
       "      <th>(75.0, 83.0]</th>\n",
       "      <td>226.504505</td>\n",
       "      <td>102991.691110</td>\n",
       "      <td>152.0</td>\n",
       "      <td>101965.601966</td>\n",
       "    </tr>\n",
       "    <tr>\n",
       "      <th>(83.0, 94.0]</th>\n",
       "      <td>261.223301</td>\n",
       "      <td>95199.775003</td>\n",
       "      <td>191.0</td>\n",
       "      <td>95212.170855</td>\n",
       "    </tr>\n",
       "    <tr>\n",
       "      <th>(94.0, 114.0]</th>\n",
       "      <td>330.361905</td>\n",
       "      <td>90404.537458</td>\n",
       "      <td>252.0</td>\n",
       "      <td>92205.128205</td>\n",
       "    </tr>\n",
       "  </tbody>\n",
       "</table>\n",
       "</div>"
      ],
      "text/plain": [
       "                               mean                         median  \\\n",
       "                    days_exposition price_one_metr days_exposition   \n",
       "total_area_category                                                  \n",
       "(12.999, 39.0]            97.926606  136367.876094            60.0   \n",
       "(39.0, 45.98]            209.732759  134592.437549           108.0   \n",
       "(45.98, 51.0]            226.413223  126073.495592           118.0   \n",
       "(51.0, 57.5]             141.733333  120944.409387            91.0   \n",
       "(57.5, 63.3]             210.141414  119920.613564            97.0   \n",
       "(63.3, 69.28]            271.615385  115347.628782           164.5   \n",
       "(69.28, 75.0]            259.682692  108227.978536           160.5   \n",
       "(75.0, 83.0]             226.504505  102991.691110           152.0   \n",
       "(83.0, 94.0]             261.223301   95199.775003           191.0   \n",
       "(94.0, 114.0]            330.361905   90404.537458           252.0   \n",
       "\n",
       "                                    \n",
       "                    price_one_metr  \n",
       "total_area_category                 \n",
       "(12.999, 39.0]       134975.369458  \n",
       "(39.0, 45.98]        130266.921909  \n",
       "(45.98, 51.0]        123203.285421  \n",
       "(51.0, 57.5]         118979.416810  \n",
       "(57.5, 63.3]         120000.000000  \n",
       "(63.3, 69.28]        108337.607448  \n",
       "(69.28, 75.0]        107316.546930  \n",
       "(75.0, 83.0]         101965.601966  \n",
       "(83.0, 94.0]          95212.170855  \n",
       "(94.0, 114.0]         92205.128205  "
      ]
     },
     "execution_count": 221,
     "metadata": {},
     "output_type": "execute_result"
    }
   ],
   "source": [
    "df_pivot_liquid = df_centre_liquid.pivot_table(\n",
    "    index=['total_area_category'], values=['price_one_metr','days_exposition'], aggfunc=['mean', 'median'])\n",
    "df_pivot_liquid\n"
   ]
  },
  {
   "cell_type": "code",
   "execution_count": 3,
   "metadata": {},
   "outputs": [
    {
     "data": {
      "text/plain": [
       "[None, 2, 5.3, None, 7]"
      ]
     },
     "execution_count": 3,
     "metadata": {},
     "output_type": "execute_result"
    }
   ],
   "source": [
    "test = [0, 2, 5.3, None, 7]\n",
    "list(map(lambda x: None if x == 0 else x, test))"
   ]
  },
  {
   "cell_type": "markdown",
   "metadata": {},
   "source": [
    "[Вернуться к содержанию](#main_title)"
   ]
  },
  {
   "cell_type": "markdown",
   "metadata": {},
   "source": [
    "## Общий вывод <a id=\"conlusion\"></a>"
   ]
  },
  {
   "cell_type": "markdown",
   "metadata": {},
   "source": [
    "Изучив данные можно сделать следующие выводы: \n",
    "1. Отсутствуют некоторые важные параметры для определения стоимости(во первых состояние квартиры)\n",
    "2. Квартиры низкой площади более ликвидны (видно что и быстрее продаются и стоимость за квадратный метр больше)\n",
    "3. Выделен центр - примерно 7500метров (по данным яндексНедвижисоти)\n",
    "4. Средняя стоимость даже в самой дорогом городе Лен.области(г.Пушкин) не превышает средней стоимости жилья в Санкт-Петербурге\n",
    "5. Таблица почищена...\n",
    "6. Зависимости от месяца и дня недели не наблюдается, однако наблюдает небольшая зависимоть: больше год - больше стоимость\n",
    "7. Этажность квартиры влияет. Вообщем не зря на популярных сервисах продажи недвижимости есть фильтры (\"не первый\", \"не заключительный\")\n",
    "8. Разбивка квартиры на большое кол-во комнат - плохое капитоловложение\n",
    "9. Странно корреляция между высотой потолкой и стоимостью не особ прослеживается."
   ]
  },
  {
   "cell_type": "markdown",
   "metadata": {},
   "source": [
    "[Вернуться к содержанию](#main_title)"
   ]
  },
  {
   "cell_type": "markdown",
   "metadata": {},
   "source": [
    "## Чек-лист готовности проекта <a id=\"check_list\"></a>\n",
    "\n",
    "Поставьте 'x' в выполненных пунктах. Далее нажмите Shift+Enter."
   ]
  },
  {
   "cell_type": "markdown",
   "metadata": {},
   "source": [
    "- [x]  открыт файл\n",
    "- [x]  файлы изучены (выведены первые строки, метод info())\n",
    "- [х]  определены пропущенные значения\n",
    "- [х]  заполнены пропущенные значения\n",
    "- [х]  есть пояснение, какие пропущенные значения обнаружены\n",
    "- [х]  изменены типы данных\n",
    "- [х]  есть пояснение, в каких столбцах изменены типы и почему\n",
    "- [x]  посчитано и добавлено в таблицу: цена квадратного метра\n",
    "- [x]  посчитано и добавлено в таблицу: день недели, месяц и год публикации объявления\n",
    "- [x]  посчитано и добавлено в таблицу: этаж квартиры; варианты — первый, последний, другой\n",
    "- [x]  посчитано и добавлено в таблицу: соотношение жилой и общей площади, а также отношение площади кухни к общей\n",
    "- [х]  изучены следующие параметры: площадь, цена, число комнат, высота потолков\n",
    "- [х]  построены гистограммы для каждого параметра\n",
    "- [x]  выполнено задание: \"Изучите время продажи квартиры. Постройте гистограмму. Посчитайте среднее и медиану. Опишите, сколько обычно занимает продажа. Когда можно считать, что продажи прошли очень быстро, а когда необычно долго?\"\n",
    "- [х]  выполнено задание: \"Уберите редкие и выбивающиеся значения. Опишите, какие особенности обнаружили.\" (сделано при изучении площади,цены, числа комнат,высот потолков)\n",
    "- [х]  выполнено задание: \"Какие факторы больше всего влияют на стоимость квартиры? Изучите, зависит ли цена от квадратного метра, числа комнат, этажа (первого или последнего), удалённости от центра. Также изучите зависимость от даты размещения: дня недели, месяца и года. \"Выберите 10 населённых пунктов с наибольшим числом объявлений. Посчитайте среднюю цену квадратного метра в этих населённых пунктах. Выделите населённые пункты с самой высокой и низкой стоимостью жилья. Эти данные можно найти по имени в столбце '*locality_name'*. \"\n",
    "- [х]  выполнено задание: \"Изучите предложения квартир: для каждой квартиры есть информация о расстоянии до центра. Выделите квартиры в Санкт-Петербурге (*'locality_name'*). Ваша задача — выяснить, какая область входит в центр. Создайте столбец с расстоянием до центра в километрах: округлите до целых значений. После этого посчитайте среднюю цену для каждого километра. Постройте график: он должен показывать, как цена зависит от удалённости от центра. Определите границу, где график сильно меняется — это и будет центральная зона. \"\n",
    "- [х]  выполнено задание: \"Выделите сегмент квартир в центре. Проанализируйте эту территорию и изучите следующие параметры: площадь, цена, число комнат, высота потолков. Также выделите факторы, которые влияют на стоимость квартиры (число комнат, этаж, удалённость от центра, дата размещения объявления). Сделайте выводы. Отличаются ли они от общих выводов по всему городу?\"\n",
    "- [х]  в каждом этапе есть выводы\n",
    "- [х]  есть общий вывод"
   ]
  },
  {
   "cell_type": "markdown",
   "metadata": {},
   "source": [
    "[Вернуться к содержанию](#main_title)"
   ]
  }
 ],
 "metadata": {
  "kernelspec": {
   "display_name": "Python 3",
   "language": "python",
   "name": "python3"
  },
  "language_info": {
   "codemirror_mode": {
    "name": "ipython",
    "version": 3
   },
   "file_extension": ".py",
   "mimetype": "text/x-python",
   "name": "python",
   "nbconvert_exporter": "python",
   "pygments_lexer": "ipython3",
   "version": "3.9.7"
  },
  "toc": {
   "base_numbering": 1,
   "nav_menu": {},
   "number_sections": true,
   "sideBar": true,
   "skip_h1_title": true,
   "title_cell": "Содержание",
   "title_sidebar": "Contents",
   "toc_cell": true,
   "toc_position": {},
   "toc_section_display": true,
   "toc_window_display": true
  }
 },
 "nbformat": 4,
 "nbformat_minor": 2
}
